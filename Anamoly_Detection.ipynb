{
 "cells": [
  {
   "cell_type": "markdown",
   "metadata": {},
   "source": [
    "## Anomaly Detection"
   ]
  },
  {
   "cell_type": "markdown",
   "metadata": {},
   "source": [
    "1)\tWhat are outliers?"
   ]
  },
  {
   "cell_type": "markdown",
   "metadata": {},
   "source": [
    "Outliers are data, a small part of our sample, that does not follow the shape of the rest of our dataset, sample. For example, if we are looking at stock data and we try to find some pattern. The outlier would be the sudden rise and fall of the price of the stock which happens very rarely and was influenced by some event that is not likely to happen in the near future. Outliers are best represented with the graph where we receive values for Y that are not expected for certain values of features."
   ]
  },
  {
   "cell_type": "markdown",
   "metadata": {},
   "source": [
    "2)\tWhy do we use Anomaly detection?"
   ]
  },
  {
   "cell_type": "markdown",
   "metadata": {},
   "source": [
    "In every model, before training, we should apply anomaly detection methods. The reason behind this is that if we include anomalies, we won't get good predictions. Anomalies do not happen that often and could pivot the values of our parameters which, as a result, won't give us a robust model."
   ]
  },
  {
   "cell_type": "markdown",
   "metadata": {},
   "source": [
    "3)\tWhat are different types of Anomalies?"
   ]
  },
  {
   "cell_type": "markdown",
   "metadata": {},
   "source": [
    "- point anomalies\n",
    "\n",
    "- contextual anomalies\n",
    "\n",
    "- collective anomalies"
   ]
  },
  {
   "cell_type": "markdown",
   "metadata": {},
   "source": [
    "4)\tExplain different methods to perform anomaly detection."
   ]
  },
  {
   "cell_type": "markdown",
   "metadata": {},
   "source": [
    "In my opinion the best way to detect anomaly is via graph. However, we can use following algorithms:\n",
    "\n",
    "- Random Forest\n",
    "\n",
    "- DBSCAN\n",
    "\n",
    "- SVM"
   ]
  },
  {
   "cell_type": "markdown",
   "metadata": {},
   "source": [
    "5)\tDiscuss some applications of Anomaly detection."
   ]
  },
  {
   "cell_type": "markdown",
   "metadata": {},
   "source": [
    "- for detecting fraud or different kind of breaches and ill actions\n",
    "\n",
    "- for improving our model predictions\n",
    "\n",
    "- for monitoring systems"
   ]
  }
 ],
 "metadata": {
  "kernelspec": {
   "display_name": "Python 3",
   "language": "python",
   "name": "python3"
  },
  "language_info": {
   "codemirror_mode": {
    "name": "ipython",
    "version": 3
   },
   "file_extension": ".py",
   "mimetype": "text/x-python",
   "name": "python",
   "nbconvert_exporter": "python",
   "pygments_lexer": "ipython3",
   "version": "3.7.4"
  }
 },
 "nbformat": 4,
 "nbformat_minor": 4
}

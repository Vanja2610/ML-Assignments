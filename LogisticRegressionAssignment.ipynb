{
 "cells": [
  {
   "cell_type": "markdown",
   "metadata": {},
   "source": [
    "1.\tWhat is a classification problem?"
   ]
  },
  {
   "cell_type": "markdown",
   "metadata": {},
   "source": [
    "In the classification problem, we are trying to find the accurate class of our dependent variable based on the independent ones."
   ]
  },
  {
   "cell_type": "markdown",
   "metadata": {},
   "source": [
    "\n",
    "\n",
    "2.\tWhat is Logistic Regression?\n"
   ]
  },
  {
   "cell_type": "markdown",
   "metadata": {},
   "source": [
    "Logistic regression is a statistical method used for solving the classification problem. "
   ]
  },
  {
   "cell_type": "markdown",
   "metadata": {},
   "source": [
    "3.\tWhy is the Sigmoid function used for Logistic Regression?"
   ]
  },
  {
   "cell_type": "markdown",
   "metadata": {},
   "source": [
    " The sigmoid function is usually used for Logistic Regression due to the following reasons:\n",
    " \n",
    " 1. It takes values in the range [0,1], so it is a good representation of a probabilistic function (we need probability function to find out the probability of each class)\n",
    " \n",
    " 2. It is easily differentiable. We need a derivative for Gradient Descent.\n",
    " \n",
    " 3. It is a simple function that has the above characteristics (easy for calculation)."
   ]
  },
  {
   "cell_type": "markdown",
   "metadata": {},
   "source": [
    "4.\tWhat is the cost function?"
   ]
  },
  {
   "cell_type": "markdown",
   "metadata": {},
   "source": [
    "The cost function calculates the sum of distances between predicted and actual values. The purpose is to minimize those distances and by doing that, we are finding optimal values for our parameters. "
   ]
  },
  {
   "cell_type": "markdown",
   "metadata": {},
   "source": [
    "5.\tWhat is multiple Logistic Function?"
   ]
  },
  {
   "cell_type": "markdown",
   "metadata": {},
   "source": [
    "Multiple logistic regression is a type of logistic regression where the number of features (independent variables) is higher than 1."
   ]
  },
  {
   "cell_type": "markdown",
   "metadata": {},
   "source": [
    "6.\tWhat is multilabel Logistic Regression?"
   ]
  },
  {
   "cell_type": "markdown",
   "metadata": {},
   "source": [
    "Multilabel logistic regression is a type of logistic regression where the dependent variable has more than one class (label). For example the dependent variable has values small, medium and large."
   ]
  },
  {
   "cell_type": "markdown",
   "metadata": {},
   "source": [
    "7.\tHow does the Logistic Regression Algorithm learn?"
   ]
  },
  {
   "cell_type": "markdown",
   "metadata": {},
   "source": [
    "The learning part comes in the backpropagation part. Here we are trying to find the optimal values for our parameters. The first step is to define the loss function and find its derivative with respect to each parameter. After doing so, we are recalculating the values of each parameter based on the derivative and learning rate. The process is finished when the value of parameters does not change anymore (derivative is zero) or we can give some exit condition."
   ]
  },
  {
   "cell_type": "markdown",
   "metadata": {},
   "source": [
    "8.\tExplain the confusion matrix."
   ]
  },
  {
   "cell_type": "markdown",
   "metadata": {},
   "source": [
    "The confusion matrix is a representation of how many values we have classified correctly. If we would have two classes: 1 and 0, then our dimension of the matrix would be 2x2. The value in the first row and column would represent how many ones we have predicted correctly (true positive), next first row, second column value represents how many zeros we have predicted as ones (false positive). The same story goes for the second row, but now we are looking at values that we have predicted as negative. "
   ]
  },
  {
   "cell_type": "markdown",
   "metadata": {},
   "source": [
    "9.\tWhat is Accuracy?"
   ]
  },
  {
   "cell_type": "markdown",
   "metadata": {},
   "source": [
    "Accuracy is a technique for testing how good our model is. For example: if we have predicted 4 right classes out of 5, our accuracy would be 80 %. "
   ]
  },
  {
   "cell_type": "markdown",
   "metadata": {},
   "source": [
    "10.\tWhy there is a need for other metrics if ‘accuracy’ is already present?"
   ]
  },
  {
   "cell_type": "markdown",
   "metadata": {},
   "source": [
    "Accuracy is not enough due to the fact that we can have high accuracy and our model is not good. For example, if we don't have a large enough sample (not enough data in each class), we can build a simple classification algorithm that gives us decent accuracy, but it actually not working."
   ]
  },
  {
   "cell_type": "markdown",
   "metadata": {},
   "source": [
    "11.\tWhat are Recall and Precision? How do they differ?"
   ]
  },
  {
   "cell_type": "markdown",
   "metadata": {},
   "source": [
    "Recall and Precision both measure how good our model is. Recall tells us how many positive values we were able to get out of all positive values, while precision tells us how many values, we have predicted to be positive, are actually positive."
   ]
  },
  {
   "cell_type": "markdown",
   "metadata": {},
   "source": [
    "12.\tHow does the tradeoff between recall and precision work?"
   ]
  },
  {
   "cell_type": "markdown",
   "metadata": {},
   "source": [
    "Both recall and precision measure how good our model is, but the importance of each depends on the problem we are about to solve. We want high precision when we want our model not to have a high false-positive rate. A good example is whether someone is guilty or not. We must not want to send an innocent person to jail (innocent until proven guilty). On the other hand, recall wants to get all positive values, even if the cost is a high false-positive rate. A good example is when we are testing whether someone is sick or not. We want to get all patients that are sick in order to be able to treat them."
   ]
  },
  {
   "cell_type": "markdown",
   "metadata": {},
   "source": [
    "13.\tExplain the F1 score."
   ]
  },
  {
   "cell_type": "markdown",
   "metadata": {},
   "source": [
    "In F1 score we are taking into account both Precision and Recall, more specifically we are using the harmonic sum of those two. The harmonic sum is used because it punishes if one is two large (other too small). We want our F1 score to be as high as possible and that would mean that both Precision and Recall are large values."
   ]
  },
  {
   "cell_type": "markdown",
   "metadata": {},
   "source": [
    "14.\tWhat is specificity?"
   ]
  },
  {
   "cell_type": "markdown",
   "metadata": {},
   "source": [
    "Specificity or true negative rate masures how many negative values we were able to get out of the number of actual negative values."
   ]
  },
  {
   "cell_type": "markdown",
   "metadata": {},
   "source": [
    "15.\tExplain the significance of ROC."
   ]
  },
  {
   "cell_type": "markdown",
   "metadata": {},
   "source": [
    "When we are dealing with the classification problems, in our probabilistic function, we get values between 0 and 1. To determine the class the value belongs to, we need to have a threshold. ROC or Receiver operating characteristic helps us determine which threshold is the best for our data. Using a graph where the x-axis is the false positive rate, the y-axis false-negative rate and values are confusion matrixes with different thresholds, we are able to find the threshold with the best ration of true positive and false positive rate."
   ]
  },
  {
   "cell_type": "markdown",
   "metadata": {},
   "source": [
    "16.\tWhat is AUC, and when is it used?\n"
   ]
  },
  {
   "cell_type": "markdown",
   "metadata": {},
   "source": [
    "AUC stands for Area Under the Curve. We are using it when we are dealing with the multiple models and we want to find out which model to use. We are looking at the ROC graph and the best model is the one which has the largest area under the curve or, in other words, a model that has the best ration between true positive and false positive rate."
   ]
  },
  {
   "cell_type": "markdown",
   "metadata": {},
   "source": [
    "17.\tExplain the steps for Heroku deployment."
   ]
  },
  {
   "cell_type": "markdown",
   "metadata": {},
   "source": [
    "You can do all commands from command prompt and navigate to project directory or do it from pycharm terminal.\n",
    "\n",
    "First, we need to prepare our project for deployment:\n",
    "\n",
    "- Create gitignore file and put .idea in it. This file tells git which elements it should not look at in our project. If we have more unnecessary stuff, put its name too.\n",
    "\n",
    "- Create Procfile and write gunicorn web app:app. This enables our app to be run on cloud\n",
    "\n",
    "- Install gunicorn and type pip freeze > requirements.txt. This will create new file in you project that will tell Heroku which libraries you were using.\n",
    "\n",
    "Now, we need to create a local git repository and push it to Heroku:\n",
    "\n",
    "- Type git init. This will create a local git repository\n",
    "\n",
    "- Type heroku login. This will login to your account.\n",
    "\n",
    "- Type heroku create YourAppName. After that type heroku git:remote -a YourAppName. This will create an app on your Heroku account and make a connection to it.\n",
    "\n",
    "- With git add .  and git commit -am \"make it better\" commands you will push your project to your local git repository\n",
    "\n",
    "- Finally, with git push heroku master, you push your project to cloud. You will be given link to access your app."
   ]
  },
  {
   "cell_type": "markdown",
   "metadata": {},
   "source": [
    "18.\tWhat difficulties did you face while deploying to Heroku?"
   ]
  },
  {
   "cell_type": "markdown",
   "metadata": {},
   "source": [
    "I have encountered few difficulties while deploying to Heroku:\n",
    "\n",
    "1. I haven't provided information to git about myself (git config --global user.name \"Vanja Andrejev\", git config --global user.email \"vanja.andrejev@yahoo.com\").\n",
    "\n",
    "2. Didn't want to push to Heroku, I had to give the application name (heroku git:remote -a tranquil-garden-24647). \n",
    "\n",
    "3. In file requirements.txt there were unnecessary libraries that were causing the issue.  The issue was that I have not created requirements.txt file in the right environment (Note: You have to be in the same environment as your project while creating the file).\n",
    "\n",
    "4. Haven't installed gunicorn before creating requiements.txt file\n",
    "\n",
    "5. After solving the above issues. still encountered problems with the deployment part. Started from beginning and everything worked fine. \n"
   ]
  },
  {
   "cell_type": "code",
   "execution_count": null,
   "metadata": {},
   "outputs": [],
   "source": []
  }
 ],
 "metadata": {
  "kernelspec": {
   "display_name": "Python 3",
   "language": "python",
   "name": "python3"
  },
  "language_info": {
   "codemirror_mode": {
    "name": "ipython",
    "version": 3
   },
   "file_extension": ".py",
   "mimetype": "text/x-python",
   "name": "python",
   "nbconvert_exporter": "python",
   "pygments_lexer": "ipython3",
   "version": "3.7.4"
  }
 },
 "nbformat": 4,
 "nbformat_minor": 2
}

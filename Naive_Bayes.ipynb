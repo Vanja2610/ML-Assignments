{
 "cells": [
  {
   "cell_type": "markdown",
   "metadata": {},
   "source": [
    "1.\tWhat is conditional probability?\n"
   ]
  },
  {
   "cell_type": "markdown",
   "metadata": {},
   "source": [
    "Conditional probability is a probability of some event to happen if we already know that the other event has happened. So, the probability of event A happening if event B has already happened is P(A|B)=P(AB)/P(B) or in plain English: it is equal to the probability of both events A and B happening divided by probability of B happening. (We have just scaled all probabilities based on the fact that we know that event B has happened.) "
   ]
  },
  {
   "cell_type": "markdown",
   "metadata": {},
   "source": [
    "\n",
    "2.\tDiscuss Bayes’s theorem."
   ]
  },
  {
   "cell_type": "markdown",
   "metadata": {},
   "source": [
    "We arrive to Bayes's theorem by defining the conditional probabilities for P(A|B) and P(B|A) and substituting the P(AB) parameter in the equations. The theorem provides us the following equation: P(A|B)=P(A)P(B|A)/P(B).  "
   ]
  },
  {
   "cell_type": "markdown",
   "metadata": {},
   "source": [
    "\n",
    "3.\tExplain the step by step working of Naïve Bayes."
   ]
  },
  {
   "cell_type": "markdown",
   "metadata": {},
   "source": [
    "In Naive Bayes, we use exact probabilities for predictions and compare them. For explanation purposes, we will assume that the dependent variable can only take two values 1 and 0. The same steps are applied when the same variable can take multiple values. Let's say B is an event that has already happened (X1,....., Xn have some values), we want to predict the value for Y:\n",
    "\n",
    "- first, we calculate P(Y=1), P(Y=0), P(B|Y=1) and P(B|Y=0)\n",
    "\n",
    "- then, we calculate P(Y=1|B) and P(Y=0|B) based on the Naive Bayes theorem (Note: we do not need to include P(B) due to the fact that we just need to compare those values)\n",
    "\n",
    "- our prediction is the one with a higher probability"
   ]
  },
  {
   "cell_type": "markdown",
   "metadata": {},
   "source": [
    "\n",
    "4.\tHow is Naïve Bayes different from other classification algorithms?"
   ]
  },
  {
   "cell_type": "markdown",
   "metadata": {},
   "source": [
    "The difference is that with most classification algorithms, we train our model in order to calculate parameters needed for prediction, while in Naive Bayes, we are arriving at predictions by calculating the exact probabilities."
   ]
  },
  {
   "cell_type": "markdown",
   "metadata": {},
   "source": [
    "\n",
    "5.\tWhy is the algorithm called Naïve Bayes?"
   ]
  },
  {
   "cell_type": "markdown",
   "metadata": {},
   "source": [
    "Because the algorithm assumes that all features are independent which is not common with real problems"
   ]
  },
  {
   "cell_type": "markdown",
   "metadata": {},
   "source": [
    "\n",
    "6.\tWhat is Gaussian Naïve Bayes?"
   ]
  },
  {
   "cell_type": "markdown",
   "metadata": {},
   "source": [
    "We apply the Gaussian Naive Bayes algorithm on continuous data. The above equation is for discrete variables. We still use conditional probabilities and we keep the idea, but the formula is a bit different."
   ]
  },
  {
   "cell_type": "markdown",
   "metadata": {},
   "source": [
    "\n",
    "7.\tWhat are the advantages and disadvantages of Naïve Bayes?"
   ]
  },
  {
   "cell_type": "markdown",
   "metadata": {},
   "source": [
    "The biggest disadvantage is that we assume variables are independent. One more is that if the event is not occuring in the sample, probability is equal to 0, which will mess up other probabilities. However, we can make some adjustments, so this is not a big deal. Advantages: it easy to use and interpret, we are making predictions based on the actual probabilities, trainig is basically just calculating the probabilities - fewer parameters to tune."
   ]
  }
 ],
 "metadata": {
  "kernelspec": {
   "display_name": "Python 3",
   "language": "python",
   "name": "python3"
  },
  "language_info": {
   "codemirror_mode": {
    "name": "ipython",
    "version": 3
   },
   "file_extension": ".py",
   "mimetype": "text/x-python",
   "name": "python",
   "nbconvert_exporter": "python",
   "pygments_lexer": "ipython3",
   "version": "3.7.4"
  }
 },
 "nbformat": 4,
 "nbformat_minor": 4
}

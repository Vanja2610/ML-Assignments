{
 "cells": [
  {
   "cell_type": "code",
   "execution_count": 6,
   "metadata": {},
   "outputs": [],
   "source": [
    "class A:\n",
    "    \n",
    "    def test(self):\n",
    "        print ('I am from class A')\n",
    "        \n",
    "\n",
    "class B:\n",
    "    \n",
    "    def test(self):\n",
    "        print ('I am from class B')\n",
    "        \n",
    "\n",
    "class C(A, B):\n",
    "    \n",
    "    def test(self):     # if we want to call both at the same time\n",
    "        for cls in C.__bases__:\n",
    "            cls().test()\n",
    "            \n",
    "#     def test(self, x = A):\n",
    "#     if we want to let user to choose from which class method test should be called , default is class A\n",
    "#         if x == A:\n",
    "#              C.__bases__[0]().test()\n",
    "#         elif x == B:\n",
    "#              C.__bases__[1]().test()\n",
    "            \n",
    "\n",
    "            \n",
    "    "
   ]
  },
  {
   "cell_type": "code",
   "execution_count": 7,
   "metadata": {},
   "outputs": [
    {
     "name": "stdout",
     "output_type": "stream",
     "text": [
      "I am from class A\n",
      "I am from class B\n"
     ]
    }
   ],
   "source": [
    "c = C()\n",
    "c.test()"
   ]
  },
  {
   "cell_type": "code",
   "execution_count": null,
   "metadata": {},
   "outputs": [],
   "source": []
  }
 ],
 "metadata": {
  "kernelspec": {
   "display_name": "Python 3",
   "language": "python",
   "name": "python3"
  },
  "language_info": {
   "codemirror_mode": {
    "name": "ipython",
    "version": 3
   },
   "file_extension": ".py",
   "mimetype": "text/x-python",
   "name": "python",
   "nbconvert_exporter": "python",
   "pygments_lexer": "ipython3",
   "version": "3.7.4"
  }
 },
 "nbformat": 4,
 "nbformat_minor": 2
}

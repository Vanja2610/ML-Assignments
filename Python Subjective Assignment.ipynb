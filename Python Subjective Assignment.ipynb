{
 "cells": [
  {
   "cell_type": "markdown",
   "metadata": {},
   "source": [
    "## Solution to the Nth problem is marked as a comment at the beginning of the code (Q N)"
   ]
  },
  {
   "cell_type": "code",
   "execution_count": 1,
   "metadata": {},
   "outputs": [
    {
     "name": "stdout",
     "output_type": "stream",
     "text": [
      "Write a string: prospect\n",
      "pros$ect\n"
     ]
    }
   ],
   "source": [
    "# Q 1\n",
    "\n",
    " \n",
    "string = input('Write a string: ')\n",
    "lst = list(string[1:])\n",
    "new = [x if x!=string[0] else '$' for x in lst]\n",
    "\n",
    "print(string[0] + ''.join(new)) "
   ]
  },
  {
   "cell_type": "code",
   "execution_count": 2,
   "metadata": {},
   "outputs": [
    {
     "name": "stdout",
     "output_type": "stream",
     "text": [
      "abc, xyz\n",
      "xyc abz\n"
     ]
    }
   ],
   "source": [
    "# Q 2\n",
    "\n",
    "string = input()\n",
    "lst = string.split(' ')\n",
    "lst[0] = lst[0][0:-1]\n",
    "temp = lst[0][0:2]\n",
    "lst[0] = lst[1][0:2] + lst[0][2::]  # it wonr raise an issue if len of string is less than 3\n",
    "lst[1] = temp + lst[1][2::]\n",
    "\n",
    "print(lst[0], lst[1])"
   ]
  },
  {
   "cell_type": "code",
   "execution_count": 3,
   "metadata": {},
   "outputs": [
    {
     "name": "stdout",
     "output_type": "stream",
     "text": [
      "Write a string: string\n",
      "stringly\n"
     ]
    }
   ],
   "source": [
    "# Q 3\n",
    "\n",
    " \n",
    "string = input('Write a string: ')\n",
    "\n",
    "if string[-3:] == 'ing':\n",
    "    print(string + 'ly')\n",
    "else:\n",
    "    print(string + 'ing')"
   ]
  },
  {
   "cell_type": "code",
   "execution_count": 14,
   "metadata": {},
   "outputs": [
    {
     "name": "stdout",
     "output_type": "stream",
     "text": [
      "Wrlte a string: The lyrics are not that poor !\n",
      "The lyrics are good !\n"
     ]
    }
   ],
   "source": [
    "# Q 4\n",
    "\n",
    "\n",
    "string = input('Wrlte a string: ')\n",
    "lst = string.split()\n",
    "\n",
    "\n",
    "if ('not' in lst and 'poor' in lst):\n",
    "    if lst.index('not') < lst.index('poor'):\n",
    "        k = lst.index('not')\n",
    "        j = lst.index('poor')\n",
    "        lst = lst[0:k]+ ['good'] + lst[j+1:]\n",
    "        \n",
    "string = lst[0]  \n",
    "\n",
    "for x in lst[1:]:\n",
    "    string += ' ' + x \n",
    "\n",
    "print(string)"
   ]
  },
  {
   "cell_type": "code",
   "execution_count": 15,
   "metadata": {},
   "outputs": [
    {
     "name": "stdout",
     "output_type": "stream",
     "text": [
      "Write a string: iNeuron\n"
     ]
    },
    {
     "data": {
      "text/plain": [
       "'iern'"
      ]
     },
     "execution_count": 15,
     "metadata": {},
     "output_type": "execute_result"
    }
   ],
   "source": [
    "# Q 5\n",
    "\n",
    "\n",
    "string = input('Write a string: ')\n",
    "output = string[0::2]\n",
    "output"
   ]
  },
  {
   "cell_type": "code",
   "execution_count": 16,
   "metadata": {},
   "outputs": [
    {
     "name": "stdout",
     "output_type": "stream",
     "text": [
      "onononon\n",
      "eseseses\n"
     ]
    }
   ],
   "source": [
    "# Q 6\n",
    "\n",
    "def insert_end(s):\n",
    "    if len(s)<2:\n",
    "        print('String has to be at least 2 char long!')\n",
    "    else:\n",
    "        return(s[-2:]*4)\n",
    "    \n",
    "print(insert_end('Python'))\n",
    "print(insert_end('Exercises'))"
   ]
  },
  {
   "cell_type": "code",
   "execution_count": 17,
   "metadata": {},
   "outputs": [
    {
     "name": "stdout",
     "output_type": "stream",
     "text": [
      "pyt\n",
      "py\n"
     ]
    }
   ],
   "source": [
    "# Q 7\n",
    "\n",
    " \n",
    "def first_three(string):\n",
    "    if len(string) < 3:\n",
    "        return(string)\n",
    "\n",
    "    else:\n",
    "        return(string[:3])\n",
    "\n",
    "print(first_three('python'))\n",
    "print(first_three('py'))"
   ]
  },
  {
   "cell_type": "code",
   "execution_count": 18,
   "metadata": {},
   "outputs": [
    {
     "name": "stdout",
     "output_type": "stream",
     "text": [
      "Write the number: 12.234\n",
      "12.23\n"
     ]
    }
   ],
   "source": [
    "# Q 8\n",
    "\n",
    "\n",
    "number = float(input('Write the number: '))\n",
    "\n",
    "print('{:.2f}'.format(number))"
   ]
  },
  {
   "cell_type": "code",
   "execution_count": 19,
   "metadata": {},
   "outputs": [
    {
     "name": "stdout",
     "output_type": "stream",
     "text": [
      "50.00%\n"
     ]
    }
   ],
   "source": [
    "# Q 9\n",
    "\n",
    "\n",
    "number = 0.50\n",
    "\n",
    "print('{:.2%}'.format(number))"
   ]
  },
  {
   "cell_type": "code",
   "execution_count": 20,
   "metadata": {},
   "outputs": [
    {
     "name": "stdout",
     "output_type": "stream",
     "text": [
      "Write a string: iNeuron\n",
      "Write a substring: o\n",
      "1\n"
     ]
    }
   ],
   "source": [
    "# Q10\n",
    "\n",
    "s = input('Write a string: ')\n",
    "ss = input('Write a substring: ')\n",
    "\n",
    "l1 = len(s)\n",
    "l2 = len(ss)\n",
    "output = 0\n",
    "for i in range(0,l1-l2+1):\n",
    "    if s[i:i+l2] == ss:\n",
    "        output +=1\n",
    "    \n",
    "print(output)"
   ]
  },
  {
   "cell_type": "code",
   "execution_count": 21,
   "metadata": {},
   "outputs": [
    {
     "name": "stdout",
     "output_type": "stream",
     "text": [
      "Write a string:thequickbrownjumpsoverthelazydog\n",
      "t 2\n",
      "h 2\n",
      "e 3\n",
      "u 2\n",
      "r 2\n",
      "o 3\n"
     ]
    }
   ],
   "source": [
    "# Q 11\n",
    "\n",
    "\n",
    "string = input('Write a string:')\n",
    "d = {x: string.count(x) for x in string}\n",
    "\n",
    "for (i,j) in d.items():\n",
    "    if j>=2:\n",
    "        print(i,j)"
   ]
  },
  {
   "cell_type": "code",
   "execution_count": 22,
   "metadata": {},
   "outputs": [
    {
     "name": "stdout",
     "output_type": "stream",
     "text": [
      "The area of the rectangle is 1256.66cm²\n",
      "The volume of the cylinder is 1254.725cm³\n"
     ]
    }
   ],
   "source": [
    "# Q 12\n",
    "\n",
    "print('The area of the rectangle is 1256.66cm\\u00b2')\n",
    "print('The volume of the cylinder is 1254.725cm\\u00b3')"
   ]
  },
  {
   "cell_type": "code",
   "execution_count": 23,
   "metadata": {},
   "outputs": [
    {
     "name": "stdout",
     "output_type": "stream",
     "text": [
      "Write a string: dfkaslnvfdvnlfdmv;fdmv;fd\n",
      "String does not contain all words form the alphabet\n"
     ]
    }
   ],
   "source": [
    "# Q13\n",
    "\n",
    "string = input('Write a string: ')\n",
    "s = set(string)\n",
    "lst = [x for x in s if x.isalpha()]\n",
    "\n",
    "if len(lst) == 26:\n",
    "    print('String contains all words form the alphabet')\n",
    "else:\n",
    "    print('String does not contain all words form the alphabet')"
   ]
  },
  {
   "cell_type": "code",
   "execution_count": 24,
   "metadata": {},
   "outputs": [
    {
     "name": "stdout",
     "output_type": "stream",
     "text": [
      "(4, 'life')\n"
     ]
    }
   ],
   "source": [
    "# Q14\n",
    "\n",
    "from functools import reduce\n",
    "\n",
    "s = 'Python for life.'\n",
    "lst = s.split()\n",
    "new_lst = []\n",
    "\n",
    "for s in lst:  # to remove charecters that are not letters (dots, etc...)\n",
    "    l = list(s)\n",
    "    l = [x for x in l if x.isalpha()]\n",
    "    new_lst.append(reduce(lambda x,y: x+y,l)) \n",
    "    \n",
    "l = [(len(x),x) for x in new_lst]\n",
    "l.sort()\n",
    "print(l[-2])"
   ]
  },
  {
   "cell_type": "code",
   "execution_count": 25,
   "metadata": {},
   "outputs": [
    {
     "name": "stdout",
     "output_type": "stream",
     "text": [
      "PRWSOERIUSFK\n",
      "OSU\n",
      "Smallest window is:  ['SOERIU', 'OERIUS']\n"
     ]
    }
   ],
   "source": [
    "# Q 15\n",
    "\n",
    "\n",
    "string1 = input()\n",
    "string2 = input()\n",
    "lst2 = list(string2)\n",
    "\n",
    "\n",
    "if all([x in string1 for x in lst2]):\n",
    "    l1 = len(string1)\n",
    "    l2 = len(string2)\n",
    "    for j in range(l2,l1):\n",
    "        lst= []\n",
    "        for i in range(l1-j+1):\n",
    "            if all([x in string1[i:i+j] for x in lst2]):\n",
    "                lst.append(string1[i:i+j])\n",
    "                \n",
    "        if len(lst) > 0:\n",
    "            print('Smallest window is: ', lst)\n",
    "            break\n",
    "            \n",
    "        \n",
    "else: \n",
    "    print('Second string is not contained in the first one')\n",
    "        \n",
    "        "
   ]
  },
  {
   "cell_type": "code",
   "execution_count": 26,
   "metadata": {},
   "outputs": [
    {
     "name": "stdout",
     "output_type": "stream",
     "text": [
      "asdaewsqgtwwsa\n",
      "Smallest window is:  ['daewsqgt']\n"
     ]
    }
   ],
   "source": [
    "# Q 16\n",
    "\n",
    "\n",
    "string1 = input()\n",
    "lst2 = set(list(string1))\n",
    "\n",
    "\n",
    "l1 = len(string1)\n",
    "l2 = len(lst2)\n",
    "for j in range(l2,l1):\n",
    "    lst= []\n",
    "    for i in range(l1-j+1):\n",
    "        if all([x in string1[i:i+j] for x in lst2]):\n",
    "            lst.append(string1[i:i+j])\n",
    "                \n",
    "    if len(lst) > 0:\n",
    "        print('Smallest window is: ', lst)\n",
    "        break\n",
    "            \n",
    "        \n",
    "\n",
    "        \n",
    "        "
   ]
  },
  {
   "cell_type": "code",
   "execution_count": 27,
   "metadata": {},
   "outputs": [
    {
     "name": "stdout",
     "output_type": "stream",
     "text": [
      "Input a string (lowercase alphabets): wolf\n",
      "Input k: 4\n"
     ]
    },
    {
     "data": {
      "text/plain": [
       "1"
      ]
     },
     "execution_count": 27,
     "metadata": {},
     "output_type": "execute_result"
    }
   ],
   "source": [
    "# Q 17\n",
    "\n",
    "string = input('Input a string (lowercase alphabets): ')\n",
    "k = int(input('Input k: '))\n",
    "\n",
    "result = 0\n",
    "for i in range(0,len(string)-k+1):\n",
    "    lst = list(string[i:i+k])\n",
    "    if len(lst) == len(set(lst)):\n",
    "        result+=1\n",
    "        \n",
    "result  "
   ]
  },
  {
   "cell_type": "code",
   "execution_count": 28,
   "metadata": {},
   "outputs": [
    {
     "name": "stdout",
     "output_type": "stream",
     "text": [
      "Input a string: w3resource\n",
      "number of substrings:  55.0\n"
     ]
    },
    {
     "data": {
      "text/plain": [
       "10"
      ]
     },
     "execution_count": 28,
     "metadata": {},
     "output_type": "execute_result"
    }
   ],
   "source": [
    "# Q 18\n",
    "\n",
    "string = input('Input a string: ')\n",
    "n = len(string)\n",
    "if n % 2 == 0:\n",
    "    result = (n+1)*n/2           # we start form first one and expand: (w+w3+...+w3resource)=10 + (3+3r+...+3resource)=9 +...+(c)=1\n",
    "else:                            # this is formula for sum\n",
    "    result = (n+1)*(n-1)/2 + (n-1)/2+1 \n",
    "print('number of substrings: ', result) \n",
    "n"
   ]
  },
  {
   "cell_type": "code",
   "execution_count": 29,
   "metadata": {},
   "outputs": [
    {
     "name": "stdout",
     "output_type": "stream",
     "text": [
      "input a string: abcd\n"
     ]
    },
    {
     "data": {
      "text/plain": [
       "4"
      ]
     },
     "execution_count": 29,
     "metadata": {},
     "output_type": "execute_result"
    }
   ],
   "source": [
    "# Q 19\n",
    "\n",
    "string = input('input a string: ')\n",
    "result = len(string)\n",
    "for i in range(len(string)-1):\n",
    "    for j in range(i+1,len(string)):\n",
    "        if string[i] == string[j]:\n",
    "            result+=1\n",
    "\n",
    "result\n"
   ]
  },
  {
   "cell_type": "code",
   "execution_count": 37,
   "metadata": {},
   "outputs": [
    {
     "data": {
      "text/plain": [
       "2"
      ]
     },
     "execution_count": 37,
     "metadata": {},
     "output_type": "execute_result"
    }
   ],
   "source": [
    "# Q 20\n",
    "\n",
    "\n",
    "lst = ['abc', 'xyz', 'wxw', '1331']\n",
    "result = 0  \n",
    "for string in lst:\n",
    "    if (len(string)>1 and string[0] == string[-1]):\n",
    "        result+=1\n",
    "\n",
    "result"
   ]
  },
  {
   "cell_type": "code",
   "execution_count": 38,
   "metadata": {},
   "outputs": [
    {
     "data": {
      "text/plain": [
       "[(2, 1), (1, 2), (2, 3), (4, 4), (2, 5)]"
      ]
     },
     "execution_count": 38,
     "metadata": {},
     "output_type": "execute_result"
    }
   ],
   "source": [
    "# Q21\n",
    "\n",
    " \n",
    "lst = [ (2, 5), (1, 2), (4, 4), (2, 3), (2, 1) ]\n",
    "lst = [(x[1], x[0]) for x in lst]\n",
    "lst.sort()\n",
    "lst = [(x[1], x[0]) for x in lst]\n",
    "\n",
    "lst"
   ]
  },
  {
   "cell_type": "code",
   "execution_count": 39,
   "metadata": {},
   "outputs": [
    {
     "data": {
      "text/plain": [
       "[1, 2, 3, 8, 11]"
      ]
     },
     "execution_count": 39,
     "metadata": {},
     "output_type": "execute_result"
    }
   ],
   "source": [
    "# Q22\n",
    "\n",
    "\n",
    "sample = [1,2,11,1,3,3,3,1,8]\n",
    "s = set(sample)\n",
    "lst = list(s)\n",
    "\n",
    "lst"
   ]
  },
  {
   "cell_type": "code",
   "execution_count": 46,
   "metadata": {},
   "outputs": [
    {
     "name": "stdout",
     "output_type": "stream",
     "text": [
      "Write a list of words: aaa bb cc ddd\n",
      "Write the minimum length: 2\n",
      "2\n"
     ]
    }
   ],
   "source": [
    "# Q23\n",
    "\n",
    "lst = input('Write a list of words: ').split()\n",
    "n = int(input(\"Write the minimum length: \"))\n",
    "output = len([x for x in lst if len(x)>n])\n",
    "\n",
    "print(output)"
   ]
  },
  {
   "cell_type": "code",
   "execution_count": 47,
   "metadata": {},
   "outputs": [
    {
     "data": {
      "text/plain": [
       "['Green', 'White', 'Black']"
      ]
     },
     "execution_count": 47,
     "metadata": {},
     "output_type": "execute_result"
    }
   ],
   "source": [
    "# Q24\n",
    "\n",
    "l = ['Red', 'Green', 'White', 'Black', 'Pink', 'Yellow']\n",
    "\n",
    "for i in [0,3,3]:\n",
    "    if len(l) > i:\n",
    "        l.pop(i)\n",
    "        \n",
    "l"
   ]
  },
  {
   "cell_type": "code",
   "execution_count": 48,
   "metadata": {},
   "outputs": [
    {
     "name": "stdout",
     "output_type": "stream",
     "text": [
      "(0, 1, 2)\n",
      "(0, 2, 1)\n",
      "(1, 0, 2)\n",
      "(1, 2, 0)\n",
      "(2, 0, 1)\n",
      "(2, 1, 0)\n"
     ]
    }
   ],
   "source": [
    "# Q 25\n",
    "\n",
    "\n",
    "from itertools import permutations\n",
    "\n",
    "lst = list(range(3))\n",
    "for i in permutations(lst):\n",
    "    print(i)"
   ]
  },
  {
   "cell_type": "code",
   "execution_count": 49,
   "metadata": {},
   "outputs": [
    {
     "data": {
      "text/plain": [
       "[1, 2, 3, 4, 5, 6, 7, 8, 9, 10]"
      ]
     },
     "execution_count": 49,
     "metadata": {},
     "output_type": "execute_result"
    }
   ],
   "source": [
    "# Q 26\n",
    "\n",
    "Original_List = [ (1, 2), (3, 4), (1, 2), (5, 6), (7, 8), (1, 2), (3, 4), (3, 4), (7, 8), (9, 10) ]\n",
    "l= [] \n",
    "for (x,y) in Original_List:\n",
    "    l.append(x)\n",
    "    l.append(y)\n",
    "\n",
    "l.sort()\n",
    "list(set(l))"
   ]
  },
  {
   "cell_type": "code",
   "execution_count": 50,
   "metadata": {},
   "outputs": [
    {
     "name": "stdout",
     "output_type": "stream",
     "text": [
      "MCCXL\n"
     ]
    }
   ],
   "source": [
    "# Q 27\n",
    "\n",
    "\n",
    "class integer_to_roman():\n",
    "    \n",
    "    def __init__(self, num):\n",
    "        self.num = num \n",
    "        \n",
    "    def __str__(self):\n",
    "        integer = [1000, 9000, 500, 400, 100, 90, 50, 40, 10 , 9, 5, 4, 1]\n",
    "        roman = [\"M\", \"CM\", \"D\", \"CD\", \"C\", \"XC\", \"L\", \"XL\", \"X\", \"IX\", \"V\", \"IV\", \"I\"]\n",
    "        output = ''\n",
    "        for i in range(len(integer)):\n",
    "            while not(self.num//integer[i] == 0):\n",
    "                self.num -= integer[i]\n",
    "                output += roman[i]\n",
    "        return output\n",
    "    \n",
    "print(integer_to_roman(1240))"
   ]
  },
  {
   "cell_type": "code",
   "execution_count": 51,
   "metadata": {},
   "outputs": [
    {
     "name": "stdout",
     "output_type": "stream",
     "text": [
      "1240\n"
     ]
    }
   ],
   "source": [
    "# Q 28\n",
    "\n",
    "\n",
    "class roman_to_integer():\n",
    "    def __init__(self,num):\n",
    "        self.num = num\n",
    "    def __str__(self):\n",
    "        output = 0\n",
    "        integer = [1000, 9000, 500, 400, 100, 90, 50, 40, 10 , 9, 5, 4, 1]\n",
    "        roman = [\"M\", \"CM\", \"D\", \"CD\", \"C\", \"XC\", \"L\", \"XL\", \"X\", \"IX\", \"V\", \"IV\", \"I\"]\n",
    "        for i in range(len(roman)):\n",
    "            if roman[i] == self.num[:2]:\n",
    "                output += integer[i]\n",
    "                self.num = self.num[2:]\n",
    "                if len(self.num) == 0:\n",
    "                    break\n",
    "            else:\n",
    "                while roman[i] == self.num[0]:\n",
    "                    output += integer[i]\n",
    "                    self.num = self.num[1:]\n",
    "            if len(self.num) == 0:\n",
    "                break\n",
    "                \n",
    "        return f'{output}'\n",
    "\n",
    "    \n",
    "print(roman_to_integer('MCCXL'))    "
   ]
  },
  {
   "cell_type": "code",
   "execution_count": 52,
   "metadata": {},
   "outputs": [
    {
     "name": "stdout",
     "output_type": "stream",
     "text": [
      "It is valid\n",
      "It is not valid\n",
      "It is not valid\n",
      "It is not valid\n"
     ]
    }
   ],
   "source": [
    "# Q 29\n",
    "\n",
    "string1 = \"()[]{}\"\n",
    "string2 = \"()[}{}\"\n",
    "string3 = \"()]{}\"\n",
    "string4 = \"()[{}\"\n",
    "\n",
    "class String():\n",
    "    \n",
    "    def __init__(self, string):\n",
    "        self.string = string\n",
    "        \n",
    "    def Validate(self):\n",
    "        for i in range(0,len(self.string),2):\n",
    "            output = False\n",
    "            if self.string[i] == '(':\n",
    "                output = self.string[i+1] == ')'\n",
    "            elif self.string[i] == '[':\n",
    "                output = self.string[i+1] == ']'\n",
    "            elif self.string[i] == '{':\n",
    "                output = self.string[i+1] == '}'\n",
    "            if not output:\n",
    "                return 'It is not valid'\n",
    "                \n",
    "        return 'It is valid'\n",
    "    \n",
    "\n",
    "\n",
    "s1 = String(string1)\n",
    "s2 = String(string2)\n",
    "s3 = String(string3)\n",
    "s4 = String(string4)\n",
    "\n",
    "print(s1.Validate())\n",
    "print(s2.Validate())\n",
    "print(s3.Validate())\n",
    "print(s4.Validate())\n"
   ]
  },
  {
   "cell_type": "code",
   "execution_count": 53,
   "metadata": {},
   "outputs": [
    {
     "name": "stdout",
     "output_type": "stream",
     "text": [
      "[[()], [(4,), (5,), (6,)], [(4, 5), (4, 6), (5, 6)], [(4, 5, 6)]]\n"
     ]
    }
   ],
   "source": [
    "# Q 30\n",
    "\n",
    "\n",
    "from itertools import combinations\n",
    "\n",
    "lst = [4,5,6]\n",
    "n = len(lst)\n",
    "output = []\n",
    "\n",
    "for j in range(n+1):\n",
    "    output.append(list((combinations(lst,j))))\n",
    "\n",
    "print(output)"
   ]
  },
  {
   "cell_type": "code",
   "execution_count": 54,
   "metadata": {},
   "outputs": [
    {
     "data": {
      "text/plain": [
       "[(1, 4), (3, 4)]"
      ]
     },
     "execution_count": 54,
     "metadata": {},
     "output_type": "execute_result"
    }
   ],
   "source": [
    "# Q 31\n",
    "\n",
    "class Pair():\n",
    "    \n",
    "    def __init__(self, lst):\n",
    "        self.lst = lst\n",
    "        \n",
    "    def indices(self,target):\n",
    "        output = []\n",
    "        for i in range(len(self.lst)-1):\n",
    "            for j in range(i+1, len(self.lst)):\n",
    "                if self.lst[i] + self.lst[j] == target:\n",
    "                    output.append((i+1,j+1))          # added +1 because in sample indices started from 1\n",
    "        return(output)                          # class will return all pairs, not just one. If only one is needed, instead o append, write return\n",
    "            \n",
    "\n",
    "a = Pair([10, 20, 10, 40, 50, 60, 70])\n",
    "a.indices(50)"
   ]
  },
  {
   "cell_type": "code",
   "execution_count": 55,
   "metadata": {},
   "outputs": [
    {
     "data": {
      "text/plain": [
       "[[-10, 2, 8], [-7, -3, 10]]"
      ]
     },
     "execution_count": 55,
     "metadata": {},
     "output_type": "execute_result"
    }
   ],
   "source": [
    "# Q32\n",
    "\n",
    "class Three():\n",
    "    \n",
    "    def __init__(self, lst):\n",
    "        self.lst = lst\n",
    "        \n",
    "    def zero_sum(self):\n",
    "        output = []\n",
    "        for i in range(len(self.lst)-2):\n",
    "            for j in range(i+1, len(self.lst)-1):\n",
    "                for k in range(j+1, len(self.lst)):\n",
    "                    if self.lst[k] + self.lst[j] == (0 - self.lst[i]):\n",
    "                        output.append([self.lst[i],self.lst[j],self.lst[k]])          \n",
    "        return(output) \n",
    "    \n",
    "    \n",
    "a = Three([-25, -10, -7, -3, 2, 4, 8, 10])\n",
    "a.zero_sum()"
   ]
  },
  {
   "cell_type": "code",
   "execution_count": 56,
   "metadata": {},
   "outputs": [
    {
     "name": "stdout",
     "output_type": "stream",
     "text": [
      "81\n"
     ]
    }
   ],
   "source": [
    "# Q 33\n",
    "\n",
    "class Pow():\n",
    "    \n",
    "    def __init__(self,x, n):\n",
    "        self.x = x\n",
    "        self.n = n\n",
    "        \n",
    "    def __repr__(self):\n",
    "        return str(self.x**self.n)\n",
    "    \n",
    "    \n",
    "d = Pow(3,4)\n",
    "print(d)"
   ]
  },
  {
   "cell_type": "code",
   "execution_count": 57,
   "metadata": {},
   "outputs": [
    {
     "name": "stdout",
     "output_type": "stream",
     "text": [
      "INEURON\n"
     ]
    }
   ],
   "source": [
    "# Q 34\n",
    "\n",
    "class String():\n",
    "    \n",
    "    def get_String(self,s):\n",
    "        self.s = s\n",
    "        \n",
    "    def print_String(self):\n",
    "        print(self.s.upper())\n",
    "        \n",
    "        \n",
    "s = String()\n",
    "s.get_String('iNeuron')\n",
    "s.print_String()"
   ]
  },
  {
   "cell_type": "code",
   "execution_count": 58,
   "metadata": {},
   "outputs": [
    {
     "data": {
      "text/plain": [
       "8"
      ]
     },
     "execution_count": 58,
     "metadata": {},
     "output_type": "execute_result"
    }
   ],
   "source": [
    "# Q 35\n",
    "\n",
    "class Rectangle():\n",
    "    \n",
    "    def __init__(self,a,b):\n",
    "        self.a = a\n",
    "        self.b = b\n",
    "        \n",
    "    def area(self):\n",
    "        return self.a * self.b\n",
    "    \n",
    "    \n",
    "r = Rectangle(2,4)\n",
    "r.area()"
   ]
  },
  {
   "cell_type": "code",
   "execution_count": 59,
   "metadata": {},
   "outputs": [
    {
     "name": "stdout",
     "output_type": "stream",
     "text": [
      "3.141592653589793\n",
      "6.283185307179586\n"
     ]
    }
   ],
   "source": [
    "# Q 36\n",
    "\n",
    "class Circle():\n",
    "    \n",
    "    def __init__(self, r):\n",
    "        self.r = r\n",
    "    \n",
    "    def area(self):\n",
    "        import math\n",
    "        return self.r*self.r*math.pi\n",
    "    \n",
    "    def parimeter(self):\n",
    "        import math\n",
    "        return 2*self.r*math.pi\n",
    "\n",
    "c = Circle(1)\n",
    "print(c.area())\n",
    "print(c.parimeter())   "
   ]
  },
  {
   "cell_type": "code",
   "execution_count": 60,
   "metadata": {},
   "outputs": [
    {
     "name": "stdout",
     "output_type": "stream",
     "text": [
      "<class '__main__.Example'>\n",
      "<class 'numpy.ndarray'>\n",
      "<class 'int'>\n",
      "<class 'str'>\n"
     ]
    }
   ],
   "source": [
    "# Q 37\n",
    "\n",
    "import numpy as np\n",
    "\n",
    "class Example():\n",
    "    def __init__(self, number):\n",
    "        self.number = number\n",
    "        \n",
    "Exmpl = Example(1)    \n",
    "arr = np.array([0])\n",
    "i = 4\n",
    "s = 'iNeuron'\n",
    "\n",
    "print(Exmpl.__class__)\n",
    "print(arr.__class__)\n",
    "print(i.__class__)\n",
    "print(s.__class__)"
   ]
  },
  {
   "cell_type": "code",
   "execution_count": 61,
   "metadata": {},
   "outputs": [
    {
     "data": {
      "text/plain": [
       "{'V': 2, 'VI': 3, 'VII': 1}"
      ]
     },
     "execution_count": 61,
     "metadata": {},
     "output_type": "execute_result"
    }
   ],
   "source": [
    "# Q 38\n",
    "\n",
    "class Class():\n",
    "    \n",
    "    def __init__(self, tlp):\n",
    "        self.tlp = tlp\n",
    "        \n",
    "    def count(self):\n",
    "        l1 = [x[0] for x in self.tlp]\n",
    "        output = {x:l1.count(x) for x in l1}\n",
    "        return(output)\n",
    "    \n",
    "\n",
    "classes = Class((('V', 1), ('VI', 1), ('V', 2), ('VI', 2), ('VI', 3), ('VII', 1)))\n",
    "classes.count()"
   ]
  },
  {
   "cell_type": "code",
   "execution_count": 62,
   "metadata": {},
   "outputs": [
    {
     "name": "stdout",
     "output_type": "stream",
     "text": [
      "Angola 24.0\n",
      "Andorra 376.0\n",
      "Algeria 213.0\n",
      "Afghanistan 93.0\n",
      "Albania 355.0\n",
      "\n",
      "\n",
      "Albania 355.0\n",
      "Afghanistan 93.0\n",
      "Algeria 213.0\n",
      "Andorra 376.0\n",
      "Angola 24.0\n"
     ]
    }
   ],
   "source": [
    "# Q 39\n",
    "\n",
    "from collections import OrderedDict\n",
    "\n",
    "od = OrderedDict((('Angola', 24.),('Andorra', 376.), ('Algeria', 213.), ('Afghanistan', 93.), ('Albania', 355.))) \n",
    "for i, j in od.items():\n",
    "    print(i, j)\n",
    "print('\\n')\n",
    "for i, j in reversed(od.items()):\n",
    "    print(i,j)"
   ]
  },
  {
   "cell_type": "code",
   "execution_count": 63,
   "metadata": {},
   "outputs": [
    {
     "data": {
      "text/plain": [
       "False"
      ]
     },
     "execution_count": 63,
     "metadata": {},
     "output_type": "execute_result"
    }
   ],
   "source": [
    "# Q 40\n",
    "\n",
    "lst1 = [1, 1, 3 ,6]\n",
    "lst2 = [90, 1, 4, 6]\n",
    "lst1 == lst2"
   ]
  },
  {
   "cell_type": "code",
   "execution_count": 64,
   "metadata": {},
   "outputs": [
    {
     "name": "stdout",
     "output_type": "stream",
     "text": [
      "(2470212470192, 2)\n"
     ]
    }
   ],
   "source": [
    "# Q 41\n",
    "\n",
    "from array import array\n",
    "\n",
    "\n",
    "a = array(\"I\", (12,25))\n",
    "print(a.buffer_info())"
   ]
  },
  {
   "cell_type": "code",
   "execution_count": 65,
   "metadata": {},
   "outputs": [
    {
     "name": "stdout",
     "output_type": "stream",
     "text": [
      "smallest:  ('VI', 1)\n"
     ]
    },
    {
     "data": {
      "text/plain": [
       "[('VII', 3), ('VIII', 2)]"
      ]
     },
     "execution_count": 65,
     "metadata": {},
     "output_type": "execute_result"
    }
   ],
   "source": [
    "# Q 44\n",
    "\n",
    "import heapq\n",
    "\n",
    "heap = []\n",
    "\n",
    "heapq.heappush(heap, ('VI', 1))\n",
    "heapq.heappush(heap, ('VII', 3))\n",
    "heapq.heappush(heap, ('VIII', 2))\n",
    "\n",
    "print('smallest: ', heap[0])\n",
    "\n",
    "heapq.heappop(heap)\n",
    "heap"
   ]
  },
  {
   "cell_type": "code",
   "execution_count": 66,
   "metadata": {},
   "outputs": [
    {
     "name": "stdout",
     "output_type": "stream",
     "text": [
      "4\n",
      "2\n"
     ]
    }
   ],
   "source": [
    "# Q 45 # online \n",
    "\n",
    "\n",
    "import bisect\n",
    "\n",
    "\n",
    "def index(a, x):\n",
    "    i = bisect.bisect_left(a, x)\n",
    "    return i\n",
    "    \n",
    "a = [1,2,4,5]\n",
    "print(index(a, 6))\n",
    "print(index(a, 3))"
   ]
  },
  {
   "cell_type": "code",
   "execution_count": 67,
   "metadata": {},
   "outputs": [
    {
     "name": "stdout",
     "output_type": "stream",
     "text": [
      "0\n",
      "1\n",
      "2\n",
      "3\n"
     ]
    }
   ],
   "source": [
    "# Q 46\n",
    "\n",
    "import queue\n",
    "\n",
    "q = queue.Queue()\n",
    "\n",
    "for j in range(4):\n",
    "    q.put(j)\n",
    "\n",
    "for j in range(4):\n",
    "    print(q.get(j))\n"
   ]
  },
  {
   "cell_type": "code",
   "execution_count": 68,
   "metadata": {},
   "outputs": [
    {
     "name": "stdout",
     "output_type": "stream",
     "text": [
      "Write desired n: 6\n"
     ]
    },
    {
     "data": {
      "text/plain": [
       "2.283333333333333"
      ]
     },
     "execution_count": 68,
     "metadata": {},
     "output_type": "execute_result"
    }
   ],
   "source": [
    "# 47\n",
    "\n",
    "from functools import reduce\n",
    "import numpy as np\n",
    "\n",
    "n = int(input('Write desired n: '))\n",
    "arr = np.array(range(1,n))\n",
    "s = reduce(lambda x,y:x+1/y, arr)\n",
    "s\n"
   ]
  },
  {
   "cell_type": "code",
   "execution_count": 69,
   "metadata": {},
   "outputs": [
    {
     "data": {
      "text/plain": [
       "array([[6, 6, 6, 6, 6],\n",
       "       [6, 0, 0, 0, 6],\n",
       "       [6, 0, 0, 0, 6],\n",
       "       [6, 0, 0, 0, 6],\n",
       "       [6, 6, 6, 6, 6]])"
      ]
     },
     "execution_count": 69,
     "metadata": {},
     "output_type": "execute_result"
    }
   ],
   "source": [
    "# Q 48\n",
    "\n",
    "import numpy as np\n",
    "\n",
    "matrix = np.array([ [6, 6, 6, 6, 6], [ 6, 6, 6, 6, 6], [ 6, 6, 6, 6, 6 ], [ 6, 6, 6, 6, 6 ], [ 6, 6, 6, 6, 6] ])\n",
    "(n, m) = matrix.shape\n",
    "matrix[1:-1,1:-1] = 0\n",
    "matrix[0,:] = 6           # if matrix is general, not all sixs. If it is all sixs, these four lines are not needed\n",
    "matrix[:,0] = 6\n",
    "matrix[-1,:] = 6\n",
    "matrix[:,-1] = 6\n",
    "\n",
    "matrix"
   ]
  },
  {
   "cell_type": "code",
   "execution_count": 70,
   "metadata": {},
   "outputs": [
    {
     "data": {
      "text/plain": [
       "array([[3., 9., 3., 9., 3., 9., 3., 9.],\n",
       "       [9., 3., 9., 3., 9., 3., 9., 3.],\n",
       "       [3., 9., 3., 9., 3., 9., 3., 9.],\n",
       "       [9., 3., 9., 3., 9., 3., 9., 3.],\n",
       "       [3., 9., 3., 9., 3., 9., 3., 9.],\n",
       "       [9., 3., 9., 3., 9., 3., 9., 3.],\n",
       "       [3., 9., 3., 9., 3., 9., 3., 9.],\n",
       "       [9., 3., 9., 3., 9., 3., 9., 3.]])"
      ]
     },
     "execution_count": 70,
     "metadata": {},
     "output_type": "execute_result"
    }
   ],
   "source": [
    "# Q 49\n",
    "\n",
    "import numpy as np\n",
    "\n",
    "matrix = 3 * np.ones((8,8))\n",
    "\n",
    "for i in range(8):\n",
    "    for j in range(8):\n",
    "        if (i + j) % 2 == 1:\n",
    "            matrix[i,j] *= 3\n",
    "matrix"
   ]
  },
  {
   "cell_type": "code",
   "execution_count": 71,
   "metadata": {},
   "outputs": [
    {
     "name": "stdout",
     "output_type": "stream",
     "text": [
      "[[1.22044535e-311 2.86558075e-322 0.00000000e+000 0.00000000e+000]\n",
      " [0.00000000e+000 8.60952352e-072 4.76164760e-090 3.89111323e-033]\n",
      " [1.00538613e-047 1.65713520e-076 6.48224659e+170 5.82471487e+257]]\n",
      "[[6 6 6]\n",
      " [6 6 6]\n",
      " [6 6 6]]\n"
     ]
    }
   ],
   "source": [
    "# Q 50\n",
    "\n",
    "import numpy as np\n",
    "\n",
    "print(np.empty((3,4)))\n",
    "print(np.full((3,3),6))"
   ]
  },
  {
   "cell_type": "code",
   "execution_count": 72,
   "metadata": {},
   "outputs": [
    {
     "name": "stdout",
     "output_type": "stream",
     "text": [
      "[-17.77777778 -11.11111111   7.33888889   1.11111111  37.72777778]\n"
     ]
    }
   ],
   "source": [
    "# Q 51\n",
    "\n",
    "\n",
    "import numpy as np\n",
    "\n",
    "\n",
    "fahrenheit = np.array([ 0., 12., 45.21 ,34., 99.91])\n",
    "celsius = (fahrenheit - 32) / 1.8\n",
    "print(celsius)"
   ]
  },
  {
   "cell_type": "code",
   "execution_count": 73,
   "metadata": {},
   "outputs": [
    {
     "name": "stdout",
     "output_type": "stream",
     "text": [
      "Real part of the array: 1.7071067800000002\n",
      "Imagionary part of the array: 0.70710678\n"
     ]
    }
   ],
   "source": [
    "# Q 52\n",
    "\n",
    "import numpy as np\n",
    "\n",
    "arr =np.array([1.00000000+0.j,0.70710678+0.70710678j])\n",
    "print('Real part of the array:', sum(arr.real))\n",
    "print('Imagionary part of the array:',sum(arr.imag))"
   ]
  },
  {
   "cell_type": "code",
   "execution_count": 74,
   "metadata": {},
   "outputs": [
    {
     "data": {
      "text/plain": [
       "[True, False, False, True, False]"
      ]
     },
     "execution_count": 74,
     "metadata": {},
     "output_type": "execute_result"
    }
   ],
   "source": [
    "# Q 53\n",
    "\n",
    "import numpy as np\n",
    "\n",
    "a1 = np.array([0,10,20,40,60])\n",
    "a2 = np.array([0,40])\n",
    "lst = [x in a2 for x in a1]\n",
    "lst"
   ]
  },
  {
   "cell_type": "code",
   "execution_count": 75,
   "metadata": {},
   "outputs": [
    {
     "data": {
      "text/plain": [
       "[10, 40]"
      ]
     },
     "execution_count": 75,
     "metadata": {},
     "output_type": "execute_result"
    }
   ],
   "source": [
    "# Q 54\n",
    "\n",
    "import numpy as np\n",
    "\n",
    "a1 = np.array([0,10,20,40,60])\n",
    "a2 = np.array([10,30,40]) \n",
    "\n",
    "lst = [x for x in a1 if x in a2]\n",
    "lst\n"
   ]
  },
  {
   "cell_type": "code",
   "execution_count": 76,
   "metadata": {},
   "outputs": [
    {
     "name": "stdout",
     "output_type": "stream",
     "text": [
      "Unuqie elemnts of the array are: [10 20 30]\n",
      "Unuqie elemnts of the array are: [1 2 3]\n"
     ]
    }
   ],
   "source": [
    "# Q55\n",
    "\n",
    "import numpy as np\n",
    "\n",
    "arr1 = np.array([10,20,30]*2)\n",
    "u1 = np.array(list(set(arr1)))\n",
    "arr2 = np.array([[1, 1], [2, 3]])\n",
    "u2 = np.array(list(set(arr2.reshape(-1,))))\n",
    "print('Unuqie elemnts of the array are:', u1)\n",
    "print('Unuqie elemnts of the array are:', u2)\n"
   ]
  },
  {
   "cell_type": "code",
   "execution_count": 77,
   "metadata": {},
   "outputs": [
    {
     "name": "stdout",
     "output_type": "stream",
     "text": [
      "[ 0 20 30 50 60 70 80]\n"
     ]
    }
   ],
   "source": [
    "# Q 56\n",
    "\n",
    "arr1 = np.array([0, 10, 20, 40, 60, 80])\n",
    "arr2 = np.array([10, 30, 40, 50, 70])\n",
    "a1 = arr1[[x not in arr2 for x in arr1]]\n",
    "a2 = arr2[[x not in arr1 for x in arr2]]\n",
    "a = np.sort(np.concatenate((a1,a2)))\n",
    "print(a)"
   ]
  },
  {
   "cell_type": "code",
   "execution_count": 78,
   "metadata": {},
   "outputs": [
    {
     "name": "stdout",
     "output_type": "stream",
     "text": [
      "False\n",
      "False\n"
     ]
    }
   ],
   "source": [
    "# Q 57\n",
    "\n",
    "arr1 = np.array([True,1,True])\n",
    "arr2 = np.array([False,True,1,0])\n",
    "\n",
    "print(all([1 == x for x in lst1]))\n",
    "print(all([1 == x for x in lst2]))\n"
   ]
  },
  {
   "cell_type": "code",
   "execution_count": 79,
   "metadata": {},
   "outputs": [
    {
     "name": "stdout",
     "output_type": "stream",
     "text": [
      "Please input axis: 1\n"
     ]
    },
    {
     "data": {
      "text/plain": [
       "array([False,  True])"
      ]
     },
     "execution_count": 79,
     "metadata": {},
     "output_type": "execute_result"
    }
   ],
   "source": [
    "# Q 58\n",
    "\n",
    "import numpy as np\n",
    "\n",
    "arr = np.array([[0,5],[1,0]]) # example array\n",
    "arr = np.where(arr == (1 or True), 1,0) # np.any will return True for any nonzero/nonFalse alement\n",
    "axis = int(input('Please input axis: '))\n",
    "np.any(arr,axis)"
   ]
  },
  {
   "cell_type": "code",
   "execution_count": 80,
   "metadata": {},
   "outputs": [
    {
     "name": "stdout",
     "output_type": "stream",
     "text": [
      "repeating 2 times: [1 2 3 4 1 2 3 4]\n",
      "repeating 3 times: [1 2 3 4 1 2 3 4 1 2 3 4]\n"
     ]
    }
   ],
   "source": [
    "# Q59\n",
    "\n",
    "import numpy as np\n",
    "\n",
    "arr = np.array([1,2,3,4]) \n",
    "print('repeating 2 times:',np.array(list(arr)*2))\n",
    "print('repeating 3 times:',np.array(list(arr)*3))"
   ]
  },
  {
   "cell_type": "code",
   "execution_count": 81,
   "metadata": {},
   "outputs": [
    {
     "name": "stdout",
     "output_type": "stream",
     "text": [
      "5\n",
      "0\n"
     ]
    }
   ],
   "source": [
    "# Q 60\n",
    "\n",
    "import numpy as np\n",
    "\n",
    "arr = np.array(range(1,7))\n",
    "\n",
    "print(arr.argmax())\n",
    "print(arr.argmin())"
   ]
  },
  {
   "cell_type": "code",
   "execution_count": 82,
   "metadata": {},
   "outputs": [
    {
     "name": "stdout",
     "output_type": "stream",
     "text": [
      "[False False]\n",
      "[False False]\n",
      "[ True  True]\n",
      "[ True  True]\n"
     ]
    }
   ],
   "source": [
    "# Q 61\n",
    "\n",
    "import numpy as np\n",
    "\n",
    "a = np.array([1, 2])\n",
    "b = np.array([4, 5])\n",
    "print(a > b)\n",
    "print(a >= b)\n",
    "print(a < b)\n",
    "print(a <= b)"
   ]
  },
  {
   "cell_type": "code",
   "execution_count": 83,
   "metadata": {},
   "outputs": [
    {
     "name": "stdout",
     "output_type": "stream",
     "text": [
      "[[2 1]\n",
      " [4 6]] \n",
      "\n",
      "[[1 2]\n",
      " [4 6]]\n"
     ]
    }
   ],
   "source": [
    "# Q 62\n",
    "\n",
    "\n",
    "import numpy as np\n",
    "\n",
    "arr = np.array([[4,6],[2,1]])\n",
    "arr = np.sort(arr,axis=0)\n",
    "print(arr,'\\n')\n",
    "arr = np.sort(arr,axis=1)\n",
    "print(arr)\n"
   ]
  },
  {
   "cell_type": "code",
   "execution_count": 84,
   "metadata": {},
   "outputs": [
    {
     "name": "stdout",
     "output_type": "stream",
     "text": [
      "Sorted by lastname:  [0 3 2 4 1]\n",
      "Sorted by lastname:  [0 1 2 3 4]\n"
     ]
    }
   ],
   "source": [
    "# Q 63\n",
    "\n",
    "import numpy as np\n",
    "\n",
    "\n",
    "t1 = ('Betsey', 'Shelley', 'Lanell', 'Genesis', 'Margery')\n",
    "t2 = ( 'Battle', 'Brien', 'Plotner', 'Stahl', 'Woolum' )\n",
    "print('Sorted by lastname: ', np.lexsort((t2,t1)))\n",
    "print('Sorted by lastname: ', np.lexsort((t1,t2)))"
   ]
  },
  {
   "cell_type": "code",
   "execution_count": 85,
   "metadata": {},
   "outputs": [
    {
     "data": {
      "text/plain": [
       "array([20, 20, 30, 40])"
      ]
     },
     "execution_count": 85,
     "metadata": {},
     "output_type": "execute_result"
    }
   ],
   "source": [
    "# q64\n",
    "\n",
    "import numpy as np\n",
    "\n",
    "arr = np.array([[ 0, 10, 20], [20, 30, 40]])\n",
    "arr = arr[arr>10]\n",
    "arr"
   ]
  },
  {
   "cell_type": "code",
   "execution_count": 86,
   "metadata": {},
   "outputs": [
    {
     "name": "stdout",
     "output_type": "stream",
     "text": [
      "20 bytes\n"
     ]
    }
   ],
   "source": [
    "# Q 65\n",
    "\n",
    "import numpy as np\n",
    "\n",
    "\n",
    "arr = np.array(range(5))\n",
    "print((arr.size * arr.itemsize),'bytes')"
   ]
  },
  {
   "cell_type": "code",
   "execution_count": 87,
   "metadata": {},
   "outputs": [
    {
     "name": "stdout",
     "output_type": "stream",
     "text": [
      "Default type is float:  [[1. 1.]]\n",
      "Type changes to int:  [[1 1]]\n",
      "Default type is float:  [[0. 0.]]\n",
      "Type changes to int:  [[0 0]]\n"
     ]
    }
   ],
   "source": [
    "# Q 66\n",
    "\n",
    "import numpy as np\n",
    "\n",
    "\n",
    "arr = np.ones((1,2))\n",
    "print('Default type is float: ',arr)\n",
    "arr = np.ones((1,2)).astype('int')\n",
    "print('Type changes to int: ',arr)\n",
    "arr = np.zeros((1,2))\n",
    "print('Default type is float: ',arr)\n",
    "arr = np.zeros((1,2)).astype('int')\n",
    "print('Type changes to int: ',arr)"
   ]
  },
  {
   "cell_type": "code",
   "execution_count": 88,
   "metadata": {},
   "outputs": [
    {
     "name": "stdout",
     "output_type": "stream",
     "text": [
      "(6,)\n",
      "[[1 2 3]\n",
      " [4 5 6]\n",
      " [7 8 9]]\n",
      "[[1 2 3]\n",
      " [4 5 6]\n",
      " [7 8 9]]\n"
     ]
    }
   ],
   "source": [
    "# Q 67\n",
    "\n",
    "import numpy as np\n",
    "\n",
    "\n",
    "arr = np.array(range(1,7))\n",
    "print(arr.shape)\n",
    "\n",
    "arr = np.array([[1,2,3],[4,5,6],[7,8,9]])\n",
    "print(arr)\n",
    "\n",
    "arr = np.array(range(1,10)).reshape(3,3)\n",
    "print(arr)"
   ]
  },
  {
   "cell_type": "code",
   "execution_count": 89,
   "metadata": {},
   "outputs": [
    {
     "name": "stdout",
     "output_type": "stream",
     "text": [
      "[[1 2]\n",
      " [3 4]\n",
      " [5 6]]\n",
      "[[1 2 3]\n",
      " [4 5 6]]\n"
     ]
    }
   ],
   "source": [
    "# Q 68\n",
    "\n",
    "import numpy as np\n",
    "\n",
    "\n",
    "arr = np.array(range(1,7)).reshape(3,2)\n",
    "print(arr)\n",
    "arr = arr.reshape(2,3)\n",
    "print(arr)"
   ]
  },
  {
   "cell_type": "code",
   "execution_count": 90,
   "metadata": {},
   "outputs": [
    {
     "data": {
      "text/plain": [
       "array([[2., 2., 2., 2., 2.],\n",
       "       [2., 2., 2., 2., 2.],\n",
       "       [2., 2., 2., 2., 2.]])"
      ]
     },
     "execution_count": 90,
     "metadata": {},
     "output_type": "execute_result"
    }
   ],
   "source": [
    "# Q 69\n",
    "\n",
    "import numpy as np\n",
    "\n",
    "\n",
    "arr = np.ones((3,5))*2\n",
    "arr"
   ]
  },
  {
   "cell_type": "code",
   "execution_count": 91,
   "metadata": {},
   "outputs": [
    {
     "data": {
      "text/plain": [
       "array([[1., 0., 0.],\n",
       "       [0., 1., 0.],\n",
       "       [0., 0., 1.]])"
      ]
     },
     "execution_count": 91,
     "metadata": {},
     "output_type": "execute_result"
    }
   ],
   "source": [
    "# Q 70\n",
    "\n",
    "import numpy as np\n",
    "\n",
    "\n",
    "arr = np.eye(3,3)\n",
    "arr"
   ]
  },
  {
   "cell_type": "code",
   "execution_count": 92,
   "metadata": {},
   "outputs": [
    {
     "data": {
      "text/plain": [
       "[array([1, 2]), array([3, 4, 5, 6]), array([ 7,  8,  9, 10, 11, 12, 13, 14])]"
      ]
     },
     "execution_count": 92,
     "metadata": {},
     "output_type": "execute_result"
    }
   ],
   "source": [
    "# Q 71\n",
    "\n",
    "import numpy as np\n",
    "\n",
    "arr = np.array([1,2,3,4,5,6,7,8,9,10,11,12,13,14])\n",
    "np.split(arr, [2,6])"
   ]
  },
  {
   "cell_type": "code",
   "execution_count": 93,
   "metadata": {},
   "outputs": [
    {
     "data": {
      "text/plain": [
       "[array([[ 0,  1],\n",
       "        [ 4,  5],\n",
       "        [ 8,  9],\n",
       "        [12, 13]]), array([[ 2,  3],\n",
       "        [ 6,  7],\n",
       "        [10, 11],\n",
       "        [14, 15]])]"
      ]
     },
     "execution_count": 93,
     "metadata": {},
     "output_type": "execute_result"
    }
   ],
   "source": [
    "# Q 72\n",
    "\n",
    "import numpy as np\n",
    "\n",
    "arr = np.array([[0, 1, 2, 3], [4, 5, 6, 7], [8, 9, 10, 11], [12, 13, 14, 15]])\n",
    "np.split(arr,[2],axis=1)"
   ]
  },
  {
   "cell_type": "code",
   "execution_count": 94,
   "metadata": {},
   "outputs": [
    {
     "data": {
      "text/plain": [
       "array([[0., 1., 2., 3., 4.],\n",
       "       [0., 1., 2., 3., 4.],\n",
       "       [0., 1., 2., 3., 4.],\n",
       "       [0., 1., 2., 3., 4.],\n",
       "       [0., 1., 2., 3., 4.]])"
      ]
     },
     "execution_count": 94,
     "metadata": {},
     "output_type": "execute_result"
    }
   ],
   "source": [
    "# Q 73\n",
    "\n",
    "import numpy as np\n",
    "\n",
    "arr = np.zeros((5,5))\n",
    "arr += np.array(range(5))\n",
    "arr"
   ]
  },
  {
   "cell_type": "code",
   "execution_count": 95,
   "metadata": {},
   "outputs": [
    {
     "name": "stdout",
     "output_type": "stream",
     "text": [
      "[(1, 1., b'Albert Einstein') (2, 2., b'Edmond Halley')\n",
      " (3, 3., b'Gertrude B. Elion')]\n"
     ]
    }
   ],
   "source": [
    "# Q 74\n",
    "\n",
    "\n",
    "import numpy as np\n",
    "\n",
    "\n",
    "arr = np.zeros((3,),dtype='int,float,a40')\n",
    "\n",
    "arr[0] = (1,1.,'Albert Einstein')\n",
    "arr[1] = (2,2.,'Edmond Halley')\n",
    "arr[2] = (3,3.,'Gertrude B. Elion')\n",
    "\n",
    "print(arr)"
   ]
  },
  {
   "cell_type": "code",
   "execution_count": 96,
   "metadata": {},
   "outputs": [
    {
     "data": {
      "text/plain": [
       "array([0, 0, 0, 2, 3, 4, 5, 0])"
      ]
     },
     "execution_count": 96,
     "metadata": {},
     "output_type": "execute_result"
    }
   ],
   "source": [
    "# Q 75\n",
    "\n",
    "import numpy as np\n",
    "\n",
    "arr = np.array([-1, -4, 0, 2, 3, 4, 5, -6])\n",
    "arr = np.where(arr<0, 0, arr)\n",
    "arr"
   ]
  },
  {
   "cell_type": "code",
   "execution_count": 97,
   "metadata": {},
   "outputs": [
    {
     "data": {
      "text/plain": [
       "(array([0., 2., 1., 0., 0.]),\n",
       " array([0., 1., 2., 3., 4., 5.]),\n",
       " <a list of 5 Patch objects>)"
      ]
     },
     "execution_count": 97,
     "metadata": {},
     "output_type": "execute_result"
    }
   ],
   "source": [
    "# Q 76\n",
    "\n",
    "import numpy as np\n",
    "from matplotlib import pyplot as plt\n",
    "\n",
    "arr = np.array([1,1,2])\n",
    "plt.hist(arr,bins=5,range=[0,5])"
   ]
  },
  {
   "cell_type": "code",
   "execution_count": 98,
   "metadata": {},
   "outputs": [
    {
     "data": {
      "text/plain": [
       "[<matplotlib.lines.Line2D at 0x23f26a82c48>]"
      ]
     },
     "execution_count": 98,
     "metadata": {},
     "output_type": "execute_result"
    },
    {
     "data": {
      "image/png": "[encoded data removed]",
      "text/plain": [
       "<Figure size 432x288 with 1 Axes>"
      ]
     },
     "metadata": {
      "needs_background": "light"
     },
     "output_type": "display_data"
    }
   ],
   "source": [
    "# Q 77\n",
    "\n",
    "import numpy as np\n",
    "from matplotlib import pyplot as plt\n",
    "\n",
    "arr1 = np.array([0,18,19,21,22,23,29,30,32,33,36,37,38,40,41,42,43,44,49])\n",
    "arr2 = np.array([0,0,2,0,1,0,0,1,1,0,0,1,0,0,1,0,1,0,0])\n",
    "plt.plot(arr1,arr2)"
   ]
  },
  {
   "cell_type": "code",
   "execution_count": 99,
   "metadata": {},
   "outputs": [
    {
     "data": {
      "text/plain": [
       "array([4, 5, 6, 7])"
      ]
     },
     "execution_count": 99,
     "metadata": {},
     "output_type": "execute_result"
    }
   ],
   "source": [
    "# Q 78\n",
    "\n",
    "import numpy as np\n",
    "\n",
    "arr = np.array(list(range(0,16))).reshape(4,4)\n",
    "arr[1,:]"
   ]
  },
  {
   "cell_type": "code",
   "execution_count": 100,
   "metadata": {},
   "outputs": [
    {
     "data": {
      "text/plain": [
       "[4, 15]"
      ]
     },
     "execution_count": 100,
     "metadata": {},
     "output_type": "execute_result"
    }
   ],
   "source": [
    "# Q 79\n",
    "\n",
    "import numpy as np\n",
    "\n",
    "arr = np.array([[0, 1, 2, 3], [4, 5, 6, 7], [8, 9, 10, 11], [12, 13, 14, 15]])\n",
    "[arr[1,0], arr[3,3]]"
   ]
  },
  {
   "cell_type": "code",
   "execution_count": 101,
   "metadata": {},
   "outputs": [
    {
     "data": {
      "text/plain": [
       "array([[1., 2., 3.],\n",
       "       [1., 2., 3.],\n",
       "       [1., 2., 3.]])"
      ]
     },
     "execution_count": 101,
     "metadata": {},
     "output_type": "execute_result"
    }
   ],
   "source": [
    "# Q 80\n",
    "\n",
    "import numpy as np\n",
    "\n",
    "A = np.ones((3, 3))\n",
    "B = np.array([0,1,2])\n",
    "\n",
    "A + B            "
   ]
  },
  {
   "cell_type": "code",
   "execution_count": 102,
   "metadata": {},
   "outputs": [
    {
     "data": {
      "text/plain": [
       "array([24, 27, 30, 29, 18, 14])"
      ]
     },
     "execution_count": 102,
     "metadata": {},
     "output_type": "execute_result"
    }
   ],
   "source": [
    "# Q 81\n",
    "\n",
    "import numpy as np\n",
    "\n",
    "arr = np.array([24, 27, 30, 29, 18, 14])\n",
    "arr_copy = np.copy(arr)\n",
    "arr_copy"
   ]
  },
  {
   "cell_type": "code",
   "execution_count": 103,
   "metadata": {},
   "outputs": [
    {
     "data": {
      "text/plain": [
       "array([54, 58, 62, 66, 70, 74, 78, 82, 86])"
      ]
     },
     "execution_count": 103,
     "metadata": {},
     "output_type": "execute_result"
    }
   ],
   "source": [
    "# Q 82\n",
    "\n",
    "import numpy as np\n",
    "\n",
    "arr = np.array(list(range(36))).reshape(-1,9)\n",
    "sum_of_columns = np.sum(arr, axis=0)\n",
    "sum_of_columns"
   ]
  },
  {
   "cell_type": "code",
   "execution_count": 104,
   "metadata": {},
   "outputs": [
    {
     "data": {
      "text/plain": [
       "[20.0, 45.0, 6.0, nan]"
      ]
     },
     "execution_count": 104,
     "metadata": {},
     "output_type": "execute_result"
    }
   ],
   "source": [
    "# Q 83\n",
    "\n",
    "import numpy as np\n",
    "\n",
    "arr = np.array([[10., 20., 30.] ,[40., 50., np.nan], [np.nan, 6., np.nan], [np.nan, np.nan, np.nan]])\n",
    "(n,m) = arr.shape\n",
    "avg = []\n",
    "for i in range(n):\n",
    "    s = 0\n",
    "    k = 0\n",
    "    for j in range(m):\n",
    "        if not(np.isnan(arr[i,j])):\n",
    "            s +=arr[i,j]\n",
    "            k +=1\n",
    "    if k == 0:\n",
    "        avg.append(np.nan)\n",
    "    else:\n",
    "        avg.append(s/k)\n",
    "avg"
   ]
  },
  {
   "cell_type": "code",
   "execution_count": 105,
   "metadata": {},
   "outputs": [
    {
     "data": {
      "text/plain": [
       "2"
      ]
     },
     "execution_count": 105,
     "metadata": {},
     "output_type": "execute_result"
    }
   ],
   "source": [
    "# Q 84\n",
    "\n",
    "\n",
    "import numpy as np\n",
    "\n",
    "\n",
    "arr1 = np.array([ 10, -10, 10, -10, -10, 10])\n",
    "arr2 = np.array([0.85, 0.45, 0.9, 0.8, 0.12, 0.6 ])\n",
    "np.sum((arr1 == -10) & (arr2>0.4))"
   ]
  },
  {
   "cell_type": "code",
   "execution_count": 106,
   "metadata": {},
   "outputs": [
    {
     "data": {
      "text/plain": [
       "array([[ 1.,  0.,  0.,  2.],\n",
       "       [ 3.,  1.,  0., -1.],\n",
       "       [ 4.,  1.,  5., -1.],\n",
       "       [ 3., -1., -1., -1.]])"
      ]
     },
     "execution_count": 106,
     "metadata": {},
     "output_type": "execute_result"
    }
   ],
   "source": [
    "# Q 85\n",
    "\n",
    "import numpy as np\n",
    "\n",
    "d = {'column0': {'a': 1, 'b': 0.0, 'c': 0.0, 'd': 2.0}, \n",
    "     'column1': {'a': 3.0, 'b': 1, 'c': 0.0, 'd': -1.0}, \n",
    "     'column2': {'a': 4, 'b': 1, 'c': 5.0, 'd': -1.0}, \n",
    "     'column3': {'a': 3.0, 'b': -1.0, 'c': -1.0, 'd': -1.0}}\n",
    "\n",
    "arr = np.zeros((4,4))\n",
    "i = 0\n",
    "for col in ['column0','column1','column2','column3']:\n",
    "    arr[i,:] = np.array(list(d[col].values()))\n",
    "    i += 1\n",
    "    \n",
    "arr"
   ]
  },
  {
   "cell_type": "code",
   "execution_count": 107,
   "metadata": {},
   "outputs": [
    {
     "data": {
      "text/plain": [
       "array([[ 1,  1,  0],\n",
       "       [ 0,  2,  3],\n",
       "       [ 0, -1,  1]])"
      ]
     },
     "execution_count": 107,
     "metadata": {},
     "output_type": "execute_result"
    }
   ],
   "source": [
    "# Q 86\n",
    "\n",
    "\n",
    "import numpy as np\n",
    "\n",
    "\n",
    "arr = np.array([[1, 1, 0], [0, 0, 0], [0, 2, 3], [0, 0, 0], [0, -1, 1], [0, 0, 0]])\n",
    "\n",
    "lst = []\n",
    "for j in range(arr.shape[0]-1):\n",
    "    if not(np.all(arr[j,:] == 0)):\n",
    "        l = 1\n",
    "        for i in range(j+1,arr.shape[0]):\n",
    "            if np.all(arr[j,:] == arr[i,:]):\n",
    "                arr[i,:] = 0\n",
    "                l = 0\n",
    "        if l:\n",
    "            lst.append(arr[j,:])\n",
    "np.array(lst)    "
   ]
  },
  {
   "cell_type": "code",
   "execution_count": 108,
   "metadata": {},
   "outputs": [
    {
     "data": {
      "text/plain": [
       "(70-8j)"
      ]
     },
     "execution_count": 108,
     "metadata": {},
     "output_type": "execute_result"
    }
   ],
   "source": [
    "# Q 87\n",
    "\n",
    "import numpy as np\n",
    "\n",
    "\n",
    "arr1 = np.array([ 1.+2.j ,3.+4.j])\n",
    "arr2 = np.array([ 5.+6.j, 7.+8.j])\n",
    "\n",
    "np.vdot(arr1,arr2)"
   ]
  },
  {
   "cell_type": "code",
   "execution_count": 109,
   "metadata": {},
   "outputs": [
    {
     "data": {
      "text/plain": [
       "array([[3, 1],\n",
       "       [5, 3]])"
      ]
     },
     "execution_count": 109,
     "metadata": {},
     "output_type": "execute_result"
    }
   ],
   "source": [
    "# Q 88\n",
    "\n",
    "import numpy as np\n",
    "\n",
    "\n",
    "x = np.array([[1, 0], [1, 1]])\n",
    "y = np.array([[3, 1], [2, 2]])\n",
    "\n",
    "np.dot(x,y)"
   ]
  },
  {
   "cell_type": "code",
   "execution_count": 110,
   "metadata": {},
   "outputs": [
    {
     "name": "stdout",
     "output_type": "stream",
     "text": [
      "Roots for the polynomial x**2-4x+7 is:  [2.+1.73205081j 2.-1.73205081j]\n",
      "\n",
      "Roots for the polynomial x**4-11x**3+9x**2 is:  [ 9.98873698  1.67049354 -0.65923052  0.        ]\n"
     ]
    }
   ],
   "source": [
    "# Q 89\n",
    "\n",
    "import numpy as np\n",
    "\n",
    "\n",
    "print('Roots for the polynomial x**2-4x+7 is: ', np.roots([1,-4,7]) ) # i think that soluntion in pdf is for different polynomials\n",
    "print()\n",
    "print('Roots for the polynomial x**4-11x**3+9x**2 is: ', np.roots([1,-11,9,11,0]))"
   ]
  },
  {
   "cell_type": "code",
   "execution_count": 111,
   "metadata": {},
   "outputs": [
    {
     "name": "stdout",
     "output_type": "stream",
     "text": [
      "Inverse sine- [-1.57079633  0.          1.57079633]\n",
      "Inverse cosine- [3.14159265 1.57079633 0.        ]\n",
      "Inverse tagent- [-0.78539816  0.          0.78539816]\n"
     ]
    }
   ],
   "source": [
    "# Q 90\n",
    "\n",
    "import numpy as np\n",
    "\n",
    "given_array = np.sin([-1.57079633, 0., 1.57079633])\n",
    "print('Inverse sine-', np.arcsin(given_array))\n",
    "print('Inverse cosine-', np.arccos(given_array))\n",
    "print('Inverse tagent-', np.arctan(given_array))\n"
   ]
  },
  {
   "cell_type": "code",
   "execution_count": 112,
   "metadata": {},
   "outputs": [
    {
     "name": "stdout",
     "output_type": "stream",
     "text": [
      "Difference between neighbouring elements, element-wise of the said array-\n",
      " [ 2  2  2 -7]\n"
     ]
    }
   ],
   "source": [
    "# Q 91\n",
    "\n",
    "import numpy as np\n",
    "\n",
    "arr = np.array([1, 3, 5, 7, 0])\n",
    "print('Difference between neighbouring elements, element-wise of the said array-\\n',arr[1::]-arr[0:-1])"
   ]
  },
  {
   "cell_type": "code",
   "execution_count": 113,
   "metadata": {},
   "outputs": [
    {
     "name": "stdout",
     "output_type": "stream",
     "text": [
      "Difference between the maximum and the minimum values of the said array-\n",
      " [5 5]\n"
     ]
    }
   ],
   "source": [
    "# Q 93 \n",
    "\n",
    "import numpy as np\n",
    "\n",
    "arr = np.array(range(12)).reshape(2,-1)\n",
    "print('Difference between the maximum and the minimum values of the said array-\\n',arr.max(axis=1)-arr.min(axis=1))"
   ]
  },
  {
   "cell_type": "code",
   "execution_count": 114,
   "metadata": {},
   "outputs": [
    {
     "data": {
      "text/plain": [
       "2.6666666666666665"
      ]
     },
     "execution_count": 114,
     "metadata": {},
     "output_type": "execute_result"
    }
   ],
   "source": [
    "# Q 94\n",
    "\n",
    "\n",
    "import numpy as np\n",
    "\n",
    "\n",
    "np.average(np.arange(5), weights=np.arange(1,6))"
   ]
  },
  {
   "cell_type": "code",
   "execution_count": 115,
   "metadata": {},
   "outputs": [
    {
     "name": "stdout",
     "output_type": "stream",
     "text": [
      "2.5\n",
      "1.707825127659933\n",
      "2.9166666666666665\n"
     ]
    }
   ],
   "source": [
    "# Q 95\n",
    "\n",
    "import numpy as np\n",
    "\n",
    "\n",
    "arr = np.array(range(6))\n",
    "print(np.mean(arr))\n",
    "print(np.std(arr)) # can't be 1, it's sqrt of var\n",
    "print(np.var(arr))\n"
   ]
  },
  {
   "cell_type": "code",
   "execution_count": 116,
   "metadata": {},
   "outputs": [
    {
     "name": "stdout",
     "output_type": "stream",
     "text": [
      "[[ 1. -1.]\n",
      " [-1.  1.]]\n"
     ]
    }
   ],
   "source": [
    "# Q 96 \n",
    "\n",
    "import numpy as np\n",
    "\n",
    "\n",
    "arr1 = np.array([0,1,2])\n",
    "arr2 = np.array([2,1,0])\n",
    "print(np.cov([arr1,arr2]))"
   ]
  },
  {
   "cell_type": "code",
   "execution_count": 117,
   "metadata": {},
   "outputs": [
    {
     "name": "stdout",
     "output_type": "stream",
     "text": [
      "[19]\n"
     ]
    }
   ],
   "source": [
    "# Q 97 \n",
    "\n",
    "import numpy as np\n",
    "\n",
    "\n",
    "arr1 = np.array([0,1,3])\n",
    "arr2 = np.array([2,4,5])\n",
    "\n",
    "print(np.correlate(arr1,arr2))"
   ]
  },
  {
   "cell_type": "code",
   "execution_count": 118,
   "metadata": {},
   "outputs": [
    {
     "name": "stdout",
     "output_type": "stream",
     "text": [
      "[[1.         0.92857143]\n",
      " [0.92857143 1.        ]]\n"
     ]
    }
   ],
   "source": [
    "# Q 98 \n",
    "\n",
    "import numpy as np\n",
    "\n",
    "\n",
    "arr1 = np.array([0,1,3])\n",
    "arr2 = np.array([2,4,5])\n",
    "print(np.corrcoef(arr1,arr2))"
   ]
  },
  {
   "cell_type": "code",
   "execution_count": 119,
   "metadata": {},
   "outputs": [
    {
     "name": "stdout",
     "output_type": "stream",
     "text": [
      "[1, 3, 2, 0, 1, 0, 1, 1]\n"
     ]
    }
   ],
   "source": [
    "# Q 99\n",
    "\n",
    "import numpy as np\n",
    "\n",
    "\n",
    "arr = np.array([0, 1, 6, 1, 4, 1, 2, 2, 7])\n",
    "lst1 = list(range(arr.min(),arr.max()+1))\n",
    "lst2 = [list(arr).count(x) for x in lst1]\n",
    "print(lst2)"
   ]
  },
  {
   "cell_type": "code",
   "execution_count": 120,
   "metadata": {},
   "outputs": [
    {
     "data": {
      "text/plain": [
       "(array([2., 3., 1.]), array([0, 1, 2, 3]), <a list of 3 Patch objects>)"
      ]
     },
     "execution_count": 120,
     "metadata": {},
     "output_type": "execute_result"
    },
    {
     "data": {
      "image/png": "[encoded data removed]",
      "text/plain": [
       "<Figure size 432x288 with 1 Axes>"
      ]
     },
     "metadata": {
      "needs_background": "light"
     },
     "output_type": "display_data"
    }
   ],
   "source": [
    "# Q 100\n",
    "\n",
    "import matplotlib.pyplot as plt\n",
    "\n",
    "\n",
    "data = [0.5, 0.7, 1., 1.2, 1.3, 2.1]\n",
    "plt.hist(data, bins=[0,1,2,3])"
   ]
  },
  {
   "cell_type": "code",
   "execution_count": 121,
   "metadata": {},
   "outputs": [
    {
     "name": "stdout",
     "output_type": "stream",
     "text": [
      "0     3\n",
      "1     7\n",
      "2    11\n",
      "3    15\n",
      "4    19\n",
      "dtype: int64\n",
      "0   -1\n",
      "1   -1\n",
      "2   -1\n",
      "3   -1\n",
      "4   -1\n",
      "dtype: int64\n",
      "0    0.500000\n",
      "1    0.750000\n",
      "2    0.833333\n",
      "3    0.875000\n",
      "4    0.900000\n",
      "dtype: float64\n",
      "0     2\n",
      "1    12\n",
      "2    30\n",
      "3    56\n",
      "4    90\n",
      "dtype: int64\n"
     ]
    }
   ],
   "source": [
    "# Q 101\n",
    "\n",
    "import pandas as pd\n",
    "\n",
    "\n",
    "s1 = pd.Series(range(1,10,2))\n",
    "s2 = pd.Series(range(2,11,2))\n",
    "print(s1 + s2)\n",
    "print(s1 - s2)\n",
    "print(s1 / s2)\n",
    "print(s1 * s2)\n"
   ]
  },
  {
   "cell_type": "code",
   "execution_count": 122,
   "metadata": {},
   "outputs": [
    {
     "data": {
      "text/plain": [
       "a    100\n",
       "b    200\n",
       "c    300\n",
       "d    400\n",
       "e    800\n",
       "dtype: int64"
      ]
     },
     "execution_count": 122,
     "metadata": {},
     "output_type": "execute_result"
    }
   ],
   "source": [
    "# Q 102\n",
    "\n",
    "import pandas as pd\n",
    "\n",
    "\n",
    "d = {'a': 100, 'b': 200, 'c': 300, 'd': 400, 'e': 800}\n",
    "s = pd.Series(d)\n",
    "s"
   ]
  },
  {
   "cell_type": "code",
   "execution_count": 123,
   "metadata": {},
   "outputs": [
    {
     "data": {
      "text/plain": [
       "0    100.00\n",
       "1     44.00\n",
       "2    200.00\n",
       "3       NaN\n",
       "4    300.12\n",
       "5    400.00\n",
       "dtype: float64"
      ]
     },
     "execution_count": 123,
     "metadata": {},
     "output_type": "execute_result"
    }
   ],
   "source": [
    "# Q 103\n",
    "\n",
    " \n",
    "import pandas as pd\n",
    "import numpy as np\n",
    "\n",
    " \n",
    "\n",
    "data = [100, 44, 200, 'python', 300.12, 400]\n",
    "\n",
    "s = pd.Series(data = data)\n",
    "s.iloc[3] = np.nan\n",
    "s = s.astype('float64')\n",
    "\n",
    "s"
   ]
  },
  {
   "cell_type": "code",
   "execution_count": 124,
   "metadata": {},
   "outputs": [
    {
     "name": "stdout",
     "output_type": "stream",
     "text": [
      "0     1\n",
      "1     2\n",
      "2     3\n",
      "3     4\n",
      "4     7\n",
      "5    11\n",
      "Name: col1, dtype: int64\n",
      "<class 'pandas.core.series.Series'>\n"
     ]
    }
   ],
   "source": [
    "# Q 104\n",
    "\n",
    "\n",
    "import pandas as pd\n",
    "\n",
    "\n",
    "df = pd.DataFrame([[1, 4, 7], [2, 5, 5], [3, 6, 8], [4, 9, 12], [7, 5, 1], [11, 0, 11]],columns=['col1','col2','col3'])\n",
    "s = df.iloc[:,0] # iloc creates series\n",
    "print(s)\n",
    "print(type(s))\n"
   ]
  },
  {
   "cell_type": "code",
   "execution_count": 125,
   "metadata": {},
   "outputs": [
    {
     "name": "stdout",
     "output_type": "stream",
     "text": [
      "Mean of the said Data Series-\n",
      "4.818181818181818\n",
      "Standard deviation of the said Data Series-\n",
      "2.522624895547565\n"
     ]
    }
   ],
   "source": [
    "# Q 105\n",
    "\n",
    " \n",
    "\n",
    "import pandas as pd\n",
    "import numpy as np\n",
    "\n",
    " \n",
    "\n",
    "sample = list(range(1,10))+ [5,3]\n",
    "s = pd.Series(data=sample)\n",
    "\n",
    "print('Mean of the said Data Series-')\n",
    "print(s.mean())\n",
    "print('Standard deviation of the said Data Series-')\n",
    "print(s.std())"
   ]
  },
  {
   "cell_type": "code",
   "execution_count": 126,
   "metadata": {},
   "outputs": [
    {
     "data": {
      "text/html": [
       "<div>\n",
       "<style scoped>\n",
       "    .dataframe tbody tr th:only-of-type {\n",
       "        vertical-align: middle;\n",
       "    }\n",
       "\n",
       "    .dataframe tbody tr th {\n",
       "        vertical-align: top;\n",
       "    }\n",
       "\n",
       "    .dataframe thead th {\n",
       "        text-align: right;\n",
       "    }\n",
       "</style>\n",
       "<table border=\"1\" class=\"dataframe\">\n",
       "  <thead>\n",
       "    <tr style=\"text-align: right;\">\n",
       "      <th></th>\n",
       "      <th>X</th>\n",
       "      <th>Y</th>\n",
       "      <th>Z</th>\n",
       "    </tr>\n",
       "  </thead>\n",
       "  <tbody>\n",
       "    <tr>\n",
       "      <td>0</td>\n",
       "      <td>78</td>\n",
       "      <td>84</td>\n",
       "      <td>86</td>\n",
       "    </tr>\n",
       "    <tr>\n",
       "      <td>1</td>\n",
       "      <td>85</td>\n",
       "      <td>94</td>\n",
       "      <td>97</td>\n",
       "    </tr>\n",
       "    <tr>\n",
       "      <td>2</td>\n",
       "      <td>96</td>\n",
       "      <td>89</td>\n",
       "      <td>96</td>\n",
       "    </tr>\n",
       "    <tr>\n",
       "      <td>3</td>\n",
       "      <td>80</td>\n",
       "      <td>83</td>\n",
       "      <td>72</td>\n",
       "    </tr>\n",
       "    <tr>\n",
       "      <td>4</td>\n",
       "      <td>86</td>\n",
       "      <td>86</td>\n",
       "      <td>83</td>\n",
       "    </tr>\n",
       "  </tbody>\n",
       "</table>\n",
       "</div>"
      ],
      "text/plain": [
       "   X    Y    Z\n",
       "0  78   84  86\n",
       "1  85   94  97\n",
       "2  96   89  96\n",
       "3  80   83  72\n",
       "4  86   86  83"
      ]
     },
     "execution_count": 126,
     "metadata": {},
     "output_type": "execute_result"
    }
   ],
   "source": [
    "# Q 106\n",
    "\n",
    "import pandas as pd\n",
    "\n",
    "Sample_data = {'X ':[78,85,96,80,86], ' Y ':[84,94,89,83,86],'Z':[86,97,96,72,83]}\n",
    "df = pd.DataFrame(Sample_data)\n",
    "df"
   ]
  },
  {
   "cell_type": "code",
   "execution_count": 127,
   "metadata": {},
   "outputs": [
    {
     "data": {
      "text/html": [
       "<div>\n",
       "<style scoped>\n",
       "    .dataframe tbody tr th:only-of-type {\n",
       "        vertical-align: middle;\n",
       "    }\n",
       "\n",
       "    .dataframe tbody tr th {\n",
       "        vertical-align: top;\n",
       "    }\n",
       "\n",
       "    .dataframe thead th {\n",
       "        text-align: right;\n",
       "    }\n",
       "</style>\n",
       "<table border=\"1\" class=\"dataframe\">\n",
       "  <thead>\n",
       "    <tr style=\"text-align: right;\">\n",
       "      <th></th>\n",
       "      <th>attempts</th>\n",
       "      <th>name</th>\n",
       "      <th>qualify</th>\n",
       "      <th>score</th>\n",
       "    </tr>\n",
       "  </thead>\n",
       "  <tbody>\n",
       "    <tr>\n",
       "      <td>a</td>\n",
       "      <td>1</td>\n",
       "      <td>Anastasia</td>\n",
       "      <td>yes</td>\n",
       "      <td>12.5</td>\n",
       "    </tr>\n",
       "    <tr>\n",
       "      <td>b</td>\n",
       "      <td>3</td>\n",
       "      <td>Dima</td>\n",
       "      <td>no</td>\n",
       "      <td>9.0</td>\n",
       "    </tr>\n",
       "    <tr>\n",
       "      <td>c</td>\n",
       "      <td>2</td>\n",
       "      <td>Katherine</td>\n",
       "      <td>yes</td>\n",
       "      <td>16.5</td>\n",
       "    </tr>\n",
       "  </tbody>\n",
       "</table>\n",
       "</div>"
      ],
      "text/plain": [
       "   attempts       name qualify  score\n",
       "a         1  Anastasia     yes   12.5\n",
       "b         3       Dima      no    9.0\n",
       "c         2  Katherine     yes   16.5"
      ]
     },
     "execution_count": 127,
     "metadata": {},
     "output_type": "execute_result"
    }
   ],
   "source": [
    "#Q 107\n",
    "\n",
    " \n",
    "import pandas as pd\n",
    "import numpy as np\n",
    "\n",
    " \n",
    "exam_data = {'name': ['Anastasia', 'Dima', 'Katherine', 'James', 'Emily', 'Michael', 'Matthew', 'Laura', 'Kevin', 'Jonas'],\n",
    "\n",
    "             'score': [12.5, 9, 16.5, np.nan, 9, 20, 14.5, np.nan, 8, 19],\n",
    "\n",
    "             'attempts': [1, 3, 2, 3, 2, 3, 1, 1, 2, 1],\n",
    "\n",
    "             'qualify': [ 'yes', 'no', 'yes' , 'no', ' no ', ' yes ', 'yes', 'no', 'no', 'yes' ] }\n",
    "labels = ['a', 'b', 'c', 'd', 'e', 'f', 'g', 'h', 'i', 'j' ]\n",
    "\n",
    "df = pd.DataFrame(exam_data, index=labels)\n",
    "df = df[['attempts','name', 'qualify', 'score']]\n",
    "df.iloc[0:3]"
   ]
  },
  {
   "cell_type": "code",
   "execution_count": 128,
   "metadata": {},
   "outputs": [
    {
     "data": {
      "text/html": [
       "<div>\n",
       "<style scoped>\n",
       "    .dataframe tbody tr th:only-of-type {\n",
       "        vertical-align: middle;\n",
       "    }\n",
       "\n",
       "    .dataframe tbody tr th {\n",
       "        vertical-align: top;\n",
       "    }\n",
       "\n",
       "    .dataframe thead th {\n",
       "        text-align: right;\n",
       "    }\n",
       "</style>\n",
       "<table border=\"1\" class=\"dataframe\">\n",
       "  <thead>\n",
       "    <tr style=\"text-align: right;\">\n",
       "      <th></th>\n",
       "      <th>name</th>\n",
       "      <th>score</th>\n",
       "    </tr>\n",
       "  </thead>\n",
       "  <tbody>\n",
       "    <tr>\n",
       "      <td>b</td>\n",
       "      <td>Dima</td>\n",
       "      <td>9.0</td>\n",
       "    </tr>\n",
       "    <tr>\n",
       "      <td>d</td>\n",
       "      <td>James</td>\n",
       "      <td>NaN</td>\n",
       "    </tr>\n",
       "    <tr>\n",
       "      <td>f</td>\n",
       "      <td>Michael</td>\n",
       "      <td>20.0</td>\n",
       "    </tr>\n",
       "    <tr>\n",
       "      <td>g</td>\n",
       "      <td>Matthew</td>\n",
       "      <td>14.5</td>\n",
       "    </tr>\n",
       "  </tbody>\n",
       "</table>\n",
       "</div>"
      ],
      "text/plain": [
       "        name  score\n",
       " b      Dima    9.0\n",
       " d     James    NaN\n",
       " f   Michael   20.0\n",
       " g   Matthew   14.5"
      ]
     },
     "execution_count": 128,
     "metadata": {},
     "output_type": "execute_result"
    }
   ],
   "source": [
    "# Q 108\n",
    "\n",
    "\n",
    "import pandas as pd\n",
    "\n",
    "\n",
    "exam_data = {'name': [ 'Anastasia', 'Dima', 'Katherine', 'James', 'Emily', 'Michael', 'Matthew', 'Laura', 'Kevin', 'Jonas'],\n",
    "             'score': [12.5, 9, 16.5, np.nan, 9, 20, 14.5, np.nan, 8, 19], \n",
    "             'attempts': [1, 3, 2, 3, 2, 3, 1, 1, 2, 1], \n",
    "             'qualify' : ['yes', 'no', 'yes', 'no', 'no', 'yes', 'yes', 'no', 'no', 'yes'] }\n",
    "labels = ['a ', ' b ', ' c ', ' d ', ' e ', ' f ', ' g ', 'h', 'i', 'j']\n",
    "\n",
    "df = pd.DataFrame(data=exam_data,index=labels)\n",
    "df[['name','score']].iloc[[1,3,5,6]]"
   ]
  },
  {
   "cell_type": "code",
   "execution_count": 129,
   "metadata": {},
   "outputs": [
    {
     "data": {
      "text/plain": [
       "13.5625"
      ]
     },
     "execution_count": 129,
     "metadata": {},
     "output_type": "execute_result"
    }
   ],
   "source": [
    "# Q 109\n",
    "\n",
    "\n",
    "import pandas as pd\n",
    "\n",
    "\n",
    "exam_data = {'name': ['Anastasia', 'Dima', 'Katherine', 'James', 'Emily', 'Michael', 'Matthew', 'Laura', 'Kevin', 'Jonas'], \n",
    "             'score': [12.5, 9, 16.5, np.nan, 9, 20, 14.5, np.nan, 8, 19], \n",
    "             'attempts': [1, 3, 2, 3, 2, 3, 1, 1, 2, 1], \n",
    "             'qualify': ['yes', 'no', ' yes ', ' no ', ' no ', ' yes ', ' yes ', ' no ', ' no ', ' yes '] } \n",
    "labels = ['a', 'b', 'c', 'd', 'e', 'f', 'g', 'h', 'i', 'j']\n",
    "df = pd.DataFrame(data=exam_data,index=labels)\n",
    "df['score'].mean()"
   ]
  },
  {
   "cell_type": "code",
   "execution_count": 130,
   "metadata": {},
   "outputs": [
    {
     "data": {
      "text/html": [
       "<div>\n",
       "<style scoped>\n",
       "    .dataframe tbody tr th:only-of-type {\n",
       "        vertical-align: middle;\n",
       "    }\n",
       "\n",
       "    .dataframe tbody tr th {\n",
       "        vertical-align: top;\n",
       "    }\n",
       "\n",
       "    .dataframe thead th {\n",
       "        text-align: right;\n",
       "    }\n",
       "</style>\n",
       "<table border=\"1\" class=\"dataframe\">\n",
       "  <thead>\n",
       "    <tr style=\"text-align: right;\">\n",
       "      <th></th>\n",
       "      <th>Column1</th>\n",
       "      <th>Column2</th>\n",
       "      <th>Column3</th>\n",
       "    </tr>\n",
       "  </thead>\n",
       "  <tbody>\n",
       "    <tr>\n",
       "      <td>0</td>\n",
       "      <td>1</td>\n",
       "      <td>4</td>\n",
       "      <td>7</td>\n",
       "    </tr>\n",
       "    <tr>\n",
       "      <td>1</td>\n",
       "      <td>2</td>\n",
       "      <td>5</td>\n",
       "      <td>8</td>\n",
       "    </tr>\n",
       "    <tr>\n",
       "      <td>2</td>\n",
       "      <td>3</td>\n",
       "      <td>6</td>\n",
       "      <td>9</td>\n",
       "    </tr>\n",
       "  </tbody>\n",
       "</table>\n",
       "</div>"
      ],
      "text/plain": [
       "   Column1  Column2  Column3\n",
       "0        1        4        7\n",
       "1        2        5        8\n",
       "2        3        6        9"
      ]
     },
     "execution_count": 130,
     "metadata": {},
     "output_type": "execute_result"
    }
   ],
   "source": [
    "# Q 110\n",
    "\n",
    "import pandas as pd\n",
    "import numpy as np\n",
    "\n",
    "\n",
    "arr = np.array(range(1,10)).reshape((3,3)).T\n",
    "df = pd.DataFrame(arr, columns = ['col1', 'col2', 'col3'])\n",
    "df.set_axis(['Column1', 'Column2', 'Column3'],axis=1,inplace=True)\n",
    "df"
   ]
  },
  {
   "cell_type": "code",
   "execution_count": 131,
   "metadata": {},
   "outputs": [
    {
     "data": {
      "text/html": [
       "<div>\n",
       "<style scoped>\n",
       "    .dataframe tbody tr th:only-of-type {\n",
       "        vertical-align: middle;\n",
       "    }\n",
       "\n",
       "    .dataframe tbody tr th {\n",
       "        vertical-align: top;\n",
       "    }\n",
       "\n",
       "    .dataframe thead th {\n",
       "        text-align: right;\n",
       "    }\n",
       "</style>\n",
       "<table border=\"1\" class=\"dataframe\">\n",
       "  <thead>\n",
       "    <tr style=\"text-align: right;\">\n",
       "      <th></th>\n",
       "      <th>Number of people</th>\n",
       "    </tr>\n",
       "    <tr>\n",
       "      <th>city</th>\n",
       "      <th></th>\n",
       "    </tr>\n",
       "  </thead>\n",
       "  <tbody>\n",
       "    <tr>\n",
       "      <td>California</td>\n",
       "      <td>4</td>\n",
       "    </tr>\n",
       "    <tr>\n",
       "      <td>Georgia</td>\n",
       "      <td>2</td>\n",
       "    </tr>\n",
       "    <tr>\n",
       "      <td>Los Angeles</td>\n",
       "      <td>4</td>\n",
       "    </tr>\n",
       "  </tbody>\n",
       "</table>\n",
       "</div>"
      ],
      "text/plain": [
       "             Number of people\n",
       "city                         \n",
       "California                  4\n",
       "Georgia                     2\n",
       "Los Angeles                 4"
      ]
     },
     "execution_count": 131,
     "metadata": {},
     "output_type": "execute_result"
    }
   ],
   "source": [
    "# Q 111\n",
    "\n",
    "import pandas as pd\n",
    "\n",
    "\n",
    "columns = ['city', 'Number of people']\n",
    "data = [('California',4), ('Georgia',2), ('Los Angeles',4)]\n",
    "\n",
    "df = pd. DataFrame(columns=columns, data=data)\n",
    "df.groupby('city').sum()"
   ]
  },
  {
   "cell_type": "code",
   "execution_count": 132,
   "metadata": {},
   "outputs": [
    {
     "data": {
      "text/html": [
       "<div>\n",
       "<style scoped>\n",
       "    .dataframe tbody tr th:only-of-type {\n",
       "        vertical-align: middle;\n",
       "    }\n",
       "\n",
       "    .dataframe tbody tr th {\n",
       "        vertical-align: top;\n",
       "    }\n",
       "\n",
       "    .dataframe thead th {\n",
       "        text-align: right;\n",
       "    }\n",
       "</style>\n",
       "<table border=\"1\" class=\"dataframe\">\n",
       "  <thead>\n",
       "    <tr style=\"text-align: right;\">\n",
       "      <th></th>\n",
       "      <th>column1</th>\n",
       "      <th>column2</th>\n",
       "      <th>column3</th>\n",
       "    </tr>\n",
       "  </thead>\n",
       "  <tbody>\n",
       "    <tr>\n",
       "      <td>0</td>\n",
       "      <td>1</td>\n",
       "      <td>4</td>\n",
       "      <td>7</td>\n",
       "    </tr>\n",
       "    <tr>\n",
       "      <td>1</td>\n",
       "      <td>4</td>\n",
       "      <td>5</td>\n",
       "      <td>8</td>\n",
       "    </tr>\n",
       "    <tr>\n",
       "      <td>2</td>\n",
       "      <td>3</td>\n",
       "      <td>6</td>\n",
       "      <td>9</td>\n",
       "    </tr>\n",
       "    <tr>\n",
       "      <td>3</td>\n",
       "      <td>4</td>\n",
       "      <td>7</td>\n",
       "      <td>0</td>\n",
       "    </tr>\n",
       "    <tr>\n",
       "      <td>4</td>\n",
       "      <td>5</td>\n",
       "      <td>8</td>\n",
       "      <td>1</td>\n",
       "    </tr>\n",
       "  </tbody>\n",
       "</table>\n",
       "</div>"
      ],
      "text/plain": [
       "   column1  column2  column3\n",
       "0        1        4        7\n",
       "1        4        5        8\n",
       "2        3        6        9\n",
       "3        4        7        0\n",
       "4        5        8        1"
      ]
     },
     "execution_count": 132,
     "metadata": {},
     "output_type": "execute_result"
    }
   ],
   "source": [
    "# Q 112\n",
    "\n",
    "import pandas as pd\n",
    "import numpy as np\n",
    "\n",
    "pd.set_option('display.max_columns', 500)\n",
    "pd.set_option('display.width', 1000)\n",
    "columns = ['column1','column2', 'column3']\n",
    "data = np.array([[1,4,3,4,5],[4,5,6,7,8],[7,8,9,0,1]]).T\n",
    "df = pd.DataFrame(data=data,columns=columns)\n",
    "df"
   ]
  },
  {
   "cell_type": "code",
   "execution_count": 133,
   "metadata": {},
   "outputs": [
    {
     "data": {
      "text/plain": [
       "0   2000-03-11\n",
       "1   2000-03-12\n",
       "2   2000-03-13\n",
       "Name: String Date, dtype: datetime64[ns]"
      ]
     },
     "execution_count": 133,
     "metadata": {},
     "output_type": "execute_result"
    }
   ],
   "source": [
    "# Q 113\n",
    "\n",
    "import pandas as pd\n",
    "\n",
    "d = {'String Date': ['3/11/2000',  '3/12/2000',  '3/13/2000']}\n",
    "df=pd.DataFrame(d)\n",
    "df['String Date']=pd.to_datetime(df['String Date'])\n",
    "df['String Date']"
   ]
  },
  {
   "cell_type": "code",
   "execution_count": 134,
   "metadata": {},
   "outputs": [
    {
     "data": {
      "text/html": [
       "<div>\n",
       "<style scoped>\n",
       "    .dataframe tbody tr th:only-of-type {\n",
       "        vertical-align: middle;\n",
       "    }\n",
       "\n",
       "    .dataframe tbody tr th {\n",
       "        vertical-align: top;\n",
       "    }\n",
       "\n",
       "    .dataframe thead th {\n",
       "        text-align: right;\n",
       "    }\n",
       "</style>\n",
       "<table border=\"1\" class=\"dataframe\">\n",
       "  <thead>\n",
       "    <tr style=\"text-align: right;\">\n",
       "      <th></th>\n",
       "      <th>column1</th>\n",
       "      <th>column2</th>\n",
       "    </tr>\n",
       "  </thead>\n",
       "  <tbody>\n",
       "    <tr>\n",
       "      <td>0</td>\n",
       "      <td>0</td>\n",
       "      <td>0</td>\n",
       "    </tr>\n",
       "    <tr>\n",
       "      <td>1</td>\n",
       "      <td>1</td>\n",
       "      <td>1</td>\n",
       "    </tr>\n",
       "    <tr>\n",
       "      <td>2</td>\n",
       "      <td>2</td>\n",
       "      <td>2</td>\n",
       "    </tr>\n",
       "  </tbody>\n",
       "</table>\n",
       "</div>"
      ],
      "text/plain": [
       "   column1  column2\n",
       "0        0        0\n",
       "1        1        1\n",
       "2        2        2"
      ]
     },
     "execution_count": 134,
     "metadata": {},
     "output_type": "execute_result"
    }
   ],
   "source": [
    "# Q 114\n",
    "\n",
    "import pandas as pd\n",
    "import numpy as np\n",
    "\n",
    "df = pd.DataFrame()\n",
    "d = {'column1': [0,1,2],'column2':[0,1,2]}\n",
    "df1 = pd.DataFrame(d)\n",
    "df.append(df1)"
   ]
  },
  {
   "cell_type": "code",
   "execution_count": 135,
   "metadata": {},
   "outputs": [
    {
     "data": {
      "text/plain": [
       "3"
      ]
     },
     "execution_count": 135,
     "metadata": {},
     "output_type": "execute_result"
    }
   ],
   "source": [
    "# Q 115\n",
    "\n",
    "import pandas as pd\n",
    "import numpy as np\n",
    "\n",
    "arr = np.array([1, 4, 7, 2, 5, 8, 3, 6, 12, 4, 9, 1, 7, 5, 11]).reshape((5,3))\n",
    "df = pd.DataFrame(data = arr, columns = ['col1', 'col2', 'col3'])\n",
    "df.shape[1]\n"
   ]
  },
  {
   "cell_type": "code",
   "execution_count": 136,
   "metadata": {},
   "outputs": [
    {
     "name": "stdout",
     "output_type": "stream",
     "text": [
      "3\n"
     ]
    },
    {
     "data": {
      "text/html": [
       "<div>\n",
       "<style scoped>\n",
       "    .dataframe tbody tr th:only-of-type {\n",
       "        vertical-align: middle;\n",
       "    }\n",
       "\n",
       "    .dataframe tbody tr th {\n",
       "        vertical-align: top;\n",
       "    }\n",
       "\n",
       "    .dataframe thead th {\n",
       "        text-align: right;\n",
       "    }\n",
       "</style>\n",
       "<table border=\"1\" class=\"dataframe\">\n",
       "  <thead>\n",
       "    <tr style=\"text-align: right;\">\n",
       "      <th></th>\n",
       "      <th>col1</th>\n",
       "      <th>col2</th>\n",
       "      <th>col3</th>\n",
       "    </tr>\n",
       "  </thead>\n",
       "  <tbody>\n",
       "    <tr>\n",
       "      <td>0</td>\n",
       "      <td>1</td>\n",
       "      <td>4</td>\n",
       "      <td>7</td>\n",
       "    </tr>\n",
       "    <tr>\n",
       "      <td>1</td>\n",
       "      <td>2</td>\n",
       "      <td>5</td>\n",
       "      <td>5</td>\n",
       "    </tr>\n",
       "    <tr>\n",
       "      <td>2</td>\n",
       "      <td>3</td>\n",
       "      <td>6</td>\n",
       "      <td>8</td>\n",
       "    </tr>\n",
       "  </tbody>\n",
       "</table>\n",
       "</div>"
      ],
      "text/plain": [
       "   col1  col2  col3\n",
       "0     1     4     7\n",
       "1     2     5     5\n",
       "2     3     6     8"
      ]
     },
     "execution_count": 136,
     "metadata": {},
     "output_type": "execute_result"
    }
   ],
   "source": [
    "# Q 116\n",
    "\n",
    "import pandas as pd\n",
    "import numpy as np\n",
    "\n",
    "arr = np.array([1, 4, 7, 2, 5, 5, 3, 6, 8, 4, 9, 12, 7, 5, 1, 11, 0, 11]).reshape((6,3))\n",
    "df = pd.DataFrame(data = arr, columns = ['col1', 'col2', 'col3'])\n",
    "n = int(input())\n",
    "df = df[0:df.shape[0]-n]\n",
    "df"
   ]
  },
  {
   "cell_type": "code",
   "execution_count": 137,
   "metadata": {},
   "outputs": [
    {
     "data": {
      "text/html": [
       "<div>\n",
       "<style scoped>\n",
       "    .dataframe tbody tr th:only-of-type {\n",
       "        vertical-align: middle;\n",
       "    }\n",
       "\n",
       "    .dataframe tbody tr th {\n",
       "        vertical-align: top;\n",
       "    }\n",
       "\n",
       "    .dataframe thead th {\n",
       "        text-align: right;\n",
       "    }\n",
       "</style>\n",
       "<table border=\"1\" class=\"dataframe\">\n",
       "  <thead>\n",
       "    <tr style=\"text-align: right;\">\n",
       "      <th></th>\n",
       "      <th>Year</th>\n",
       "      <th>MSHA ID</th>\n",
       "      <th>Mine_Name</th>\n",
       "      <th>Production</th>\n",
       "      <th>Labor_Hours</th>\n",
       "    </tr>\n",
       "  </thead>\n",
       "  <tbody>\n",
       "    <tr>\n",
       "      <td>0</td>\n",
       "      <td>2013</td>\n",
       "      <td>103381</td>\n",
       "      <td>Tacoa Highwall Miner</td>\n",
       "      <td>56004</td>\n",
       "      <td>22392</td>\n",
       "    </tr>\n",
       "    <tr>\n",
       "      <td>1</td>\n",
       "      <td>2013</td>\n",
       "      <td>103404</td>\n",
       "      <td>Reid School Mine</td>\n",
       "      <td>28807</td>\n",
       "      <td>28447</td>\n",
       "    </tr>\n",
       "    <tr>\n",
       "      <td>2</td>\n",
       "      <td>2013</td>\n",
       "      <td>100759</td>\n",
       "      <td>North River #1 Underground Min</td>\n",
       "      <td>1440115</td>\n",
       "      <td>474784</td>\n",
       "    </tr>\n",
       "    <tr>\n",
       "      <td>3</td>\n",
       "      <td>2013</td>\n",
       "      <td>103246</td>\n",
       "      <td>Bear Creek</td>\n",
       "      <td>87587</td>\n",
       "      <td>29193</td>\n",
       "    </tr>\n",
       "    <tr>\n",
       "      <td>4</td>\n",
       "      <td>2013</td>\n",
       "      <td>103451</td>\n",
       "      <td>Knight Mine</td>\n",
       "      <td>147499</td>\n",
       "      <td>46393</td>\n",
       "    </tr>\n",
       "  </tbody>\n",
       "</table>\n",
       "</div>"
      ],
      "text/plain": [
       "   Year  MSHA ID                       Mine_Name  Production  Labor_Hours\n",
       "0  2013   103381            Tacoa Highwall Miner       56004        22392\n",
       "1  2013   103404                Reid School Mine       28807        28447\n",
       "2  2013   100759  North River #1 Underground Min     1440115       474784\n",
       "3  2013   103246                      Bear Creek       87587        29193\n",
       "4  2013   103451                     Knight Mine      147499        46393"
      ]
     },
     "execution_count": 137,
     "metadata": {},
     "output_type": "execute_result"
    }
   ],
   "source": [
    "# Q 117\n",
    "\n",
    "\n",
    "import pandas as pd\n",
    "\n",
    "\n",
    "df = pd.read_excel('coalpublic2013.xlsx')\n",
    "df.head()"
   ]
  },
  {
   "cell_type": "code",
   "execution_count": 138,
   "metadata": {},
   "outputs": [
    {
     "data": {
      "text/html": [
       "<div>\n",
       "<style scoped>\n",
       "    .dataframe tbody tr th:only-of-type {\n",
       "        vertical-align: middle;\n",
       "    }\n",
       "\n",
       "    .dataframe tbody tr th {\n",
       "        vertical-align: top;\n",
       "    }\n",
       "\n",
       "    .dataframe thead th {\n",
       "        text-align: right;\n",
       "    }\n",
       "</style>\n",
       "<table border=\"1\" class=\"dataframe\">\n",
       "  <thead>\n",
       "    <tr style=\"text-align: right;\">\n",
       "      <th></th>\n",
       "      <th>Year</th>\n",
       "      <th>MSHA ID</th>\n",
       "      <th>Mine_Name</th>\n",
       "      <th>Production</th>\n",
       "      <th>Labor_Hours</th>\n",
       "    </tr>\n",
       "  </thead>\n",
       "  <tbody>\n",
       "    <tr>\n",
       "      <td>13</td>\n",
       "      <td>2013</td>\n",
       "      <td>103332</td>\n",
       "      <td>Powhatan Mine</td>\n",
       "      <td>140521</td>\n",
       "      <td>61394</td>\n",
       "    </tr>\n",
       "    <tr>\n",
       "      <td>18</td>\n",
       "      <td>2013</td>\n",
       "      <td>102976</td>\n",
       "      <td>Piney Woods Preparation Plant</td>\n",
       "      <td>0</td>\n",
       "      <td>14828</td>\n",
       "    </tr>\n",
       "    <tr>\n",
       "      <td>19</td>\n",
       "      <td>2013</td>\n",
       "      <td>102976</td>\n",
       "      <td>Piney Woods Preparation Plant</td>\n",
       "      <td>0</td>\n",
       "      <td>23193</td>\n",
       "    </tr>\n",
       "    <tr>\n",
       "      <td>46</td>\n",
       "      <td>2013</td>\n",
       "      <td>103321</td>\n",
       "      <td>Poplar Springs</td>\n",
       "      <td>189370</td>\n",
       "      <td>76366</td>\n",
       "    </tr>\n",
       "  </tbody>\n",
       "</table>\n",
       "</div>"
      ],
      "text/plain": [
       "    Year  MSHA ID                      Mine_Name  Production  Labor_Hours\n",
       "13  2013   103332                  Powhatan Mine      140521        61394\n",
       "18  2013   102976  Piney Woods Preparation Plant           0        14828\n",
       "19  2013   102976  Piney Woods Preparation Plant           0        23193\n",
       "46  2013   103321                 Poplar Springs      189370        76366"
      ]
     },
     "execution_count": 138,
     "metadata": {},
     "output_type": "execute_result"
    }
   ],
   "source": [
    "# Q 118\n",
    "\n",
    "\n",
    "import pandas as pd\n",
    "\n",
    "\n",
    "df = pd.read_excel('coalpublic2013.xlsx')\n",
    "\n",
    "def first(x):\n",
    "    return x[0] == 'P'\n",
    "\n",
    "df[df['Mine_Name'].apply(first)]"
   ]
  },
  {
   "cell_type": "code",
   "execution_count": 139,
   "metadata": {},
   "outputs": [
    {
     "name": "stderr",
     "output_type": "stream",
     "text": [
      "C:\\Users\\Vanja\\Anaconda3\\lib\\site-packages\\ipykernel_launcher.py:10: FutureWarning: Comparing Series of datetimes with 'datetime.date'.  Currently, the\n",
      "'datetime.date' is coerced to a datetime. In the future pandas will\n",
      "not coerce, and a TypeError will be raised. To retain the current\n",
      "behavior, convert the 'datetime.date' to a datetime with\n",
      "'pd.Timestamp'.\n",
      "  # Remove the CWD from sys.path while we load stuff.\n"
     ]
    },
    {
     "data": {
      "text/html": [
       "<div>\n",
       "<style scoped>\n",
       "    .dataframe tbody tr th:only-of-type {\n",
       "        vertical-align: middle;\n",
       "    }\n",
       "\n",
       "    .dataframe tbody tr th {\n",
       "        vertical-align: top;\n",
       "    }\n",
       "\n",
       "    .dataframe thead th {\n",
       "        text-align: right;\n",
       "    }\n",
       "</style>\n",
       "<table border=\"1\" class=\"dataframe\">\n",
       "  <thead>\n",
       "    <tr style=\"text-align: right;\">\n",
       "      <th></th>\n",
       "      <th>emp_id</th>\n",
       "      <th>first_name</th>\n",
       "      <th>last_name</th>\n",
       "      <th>hire_date</th>\n",
       "    </tr>\n",
       "  </thead>\n",
       "  <tbody>\n",
       "    <tr>\n",
       "      <td>4</td>\n",
       "      <td>104</td>\n",
       "      <td>Bruce</td>\n",
       "      <td>Ernst</td>\n",
       "      <td>2007-05-21</td>\n",
       "    </tr>\n",
       "    <tr>\n",
       "      <td>7</td>\n",
       "      <td>107</td>\n",
       "      <td>Diana</td>\n",
       "      <td>Lorentz</td>\n",
       "      <td>2007-02-07</td>\n",
       "    </tr>\n",
       "    <tr>\n",
       "      <td>13</td>\n",
       "      <td>113</td>\n",
       "      <td>Luis</td>\n",
       "      <td>Popp</td>\n",
       "      <td>2007-12-07</td>\n",
       "    </tr>\n",
       "    <tr>\n",
       "      <td>19</td>\n",
       "      <td>119</td>\n",
       "      <td>Karen</td>\n",
       "      <td>Colmenares</td>\n",
       "      <td>2007-08-10</td>\n",
       "    </tr>\n",
       "  </tbody>\n",
       "</table>\n",
       "</div>"
      ],
      "text/plain": [
       "    emp_id first_name   last_name  hire_date\n",
       "4      104      Bruce       Ernst 2007-05-21\n",
       "7      107      Diana     Lorentz 2007-02-07\n",
       "13     113       Luis        Popp 2007-12-07\n",
       "19     119      Karen  Colmenares 2007-08-10"
      ]
     },
     "execution_count": 139,
     "metadata": {},
     "output_type": "execute_result"
    }
   ],
   "source": [
    "# Q 119\n",
    "\n",
    "\n",
    "import pandas as pd\n",
    "from datetime import date\n",
    "\n",
    "\n",
    "df = pd.read_excel('employee.xlsx')\n",
    "df['hire_date'] = pd.to_datetime(df['hire_date'])\n",
    "df[df['hire_date'] > date(2007,1,1)]"
   ]
  },
  {
   "cell_type": "code",
   "execution_count": 140,
   "metadata": {},
   "outputs": [
    {
     "data": {
      "text/plain": [
       "year\n",
       "2001                             [102]\n",
       "2002                   [108, 109, 114]\n",
       "2003                        [100, 115]\n",
       "2005    [101, 105, 110, 111, 116, 117]\n",
       "2006              [103, 106, 112, 118]\n",
       "2007              [104, 107, 113, 119]\n",
       "Name: emp_id, dtype: object"
      ]
     },
     "execution_count": 140,
     "metadata": {},
     "output_type": "execute_result"
    }
   ],
   "source": [
    "# Q 120\n",
    "\n",
    "\n",
    "import pandas as pd\n",
    "from datetime import date\n",
    "\n",
    "\n",
    "df = pd.read_excel('employee.xlsx')\n",
    "df['year'] = df['hire_date'].dt.year\n",
    "df.groupby('year')['emp_id'].apply(list)"
   ]
  },
  {
   "cell_type": "code",
   "execution_count": 141,
   "metadata": {},
   "outputs": [
    {
     "data": {
      "text/html": [
       "<div>\n",
       "<style scoped>\n",
       "    .dataframe tbody tr th:only-of-type {\n",
       "        vertical-align: middle;\n",
       "    }\n",
       "\n",
       "    .dataframe tbody tr th {\n",
       "        vertical-align: top;\n",
       "    }\n",
       "\n",
       "    .dataframe thead th {\n",
       "        text-align: right;\n",
       "    }\n",
       "</style>\n",
       "<table border=\"1\" class=\"dataframe\">\n",
       "  <thead>\n",
       "    <tr style=\"text-align: right;\">\n",
       "      <th></th>\n",
       "      <th>emp_id</th>\n",
       "      <th>first_name</th>\n",
       "      <th>last_name</th>\n",
       "      <th>hire_date</th>\n",
       "    </tr>\n",
       "  </thead>\n",
       "  <tbody>\n",
       "    <tr>\n",
       "      <td>0</td>\n",
       "      <td>100</td>\n",
       "      <td>Steven</td>\n",
       "      <td>King</td>\n",
       "      <td>2003-06-17</td>\n",
       "    </tr>\n",
       "    <tr>\n",
       "      <td>1</td>\n",
       "      <td>101</td>\n",
       "      <td>Neena</td>\n",
       "      <td>Kochhar</td>\n",
       "      <td>2005-09-21</td>\n",
       "    </tr>\n",
       "    <tr>\n",
       "      <td>2</td>\n",
       "      <td>102</td>\n",
       "      <td>Lex</td>\n",
       "      <td>De Haan</td>\n",
       "      <td>2001-01-13</td>\n",
       "    </tr>\n",
       "    <tr>\n",
       "      <td>3</td>\n",
       "      <td>103</td>\n",
       "      <td>Alexander</td>\n",
       "      <td>Hunold</td>\n",
       "      <td>2006-01-03</td>\n",
       "    </tr>\n",
       "    <tr>\n",
       "      <td>4</td>\n",
       "      <td>104</td>\n",
       "      <td>Bruce</td>\n",
       "      <td>Ernst</td>\n",
       "      <td>2007-05-21</td>\n",
       "    </tr>\n",
       "    <tr>\n",
       "      <td>5</td>\n",
       "      <td>105</td>\n",
       "      <td>David</td>\n",
       "      <td>Austin</td>\n",
       "      <td>2005-06-25</td>\n",
       "    </tr>\n",
       "    <tr>\n",
       "      <td>6</td>\n",
       "      <td>106</td>\n",
       "      <td>Valli</td>\n",
       "      <td>Pataballa</td>\n",
       "      <td>2006-02-05</td>\n",
       "    </tr>\n",
       "    <tr>\n",
       "      <td>7</td>\n",
       "      <td>107</td>\n",
       "      <td>Diana</td>\n",
       "      <td>Lorentz</td>\n",
       "      <td>2007-02-07</td>\n",
       "    </tr>\n",
       "    <tr>\n",
       "      <td>8</td>\n",
       "      <td>108</td>\n",
       "      <td>Nancy</td>\n",
       "      <td>Greenberg</td>\n",
       "      <td>2002-08-17</td>\n",
       "    </tr>\n",
       "    <tr>\n",
       "      <td>9</td>\n",
       "      <td>109</td>\n",
       "      <td>Daniel</td>\n",
       "      <td>Faviet</td>\n",
       "      <td>2002-08-16</td>\n",
       "    </tr>\n",
       "    <tr>\n",
       "      <td>10</td>\n",
       "      <td>110</td>\n",
       "      <td>John</td>\n",
       "      <td>Chen</td>\n",
       "      <td>2005-09-28</td>\n",
       "    </tr>\n",
       "    <tr>\n",
       "      <td>11</td>\n",
       "      <td>111</td>\n",
       "      <td>Ismael</td>\n",
       "      <td>Sciarra</td>\n",
       "      <td>2005-09-30</td>\n",
       "    </tr>\n",
       "    <tr>\n",
       "      <td>12</td>\n",
       "      <td>112</td>\n",
       "      <td>Jose Manuel</td>\n",
       "      <td>Urman</td>\n",
       "      <td>2006-03-07</td>\n",
       "    </tr>\n",
       "    <tr>\n",
       "      <td>13</td>\n",
       "      <td>113</td>\n",
       "      <td>Luis</td>\n",
       "      <td>Popp</td>\n",
       "      <td>2007-12-07</td>\n",
       "    </tr>\n",
       "    <tr>\n",
       "      <td>14</td>\n",
       "      <td>114</td>\n",
       "      <td>Den</td>\n",
       "      <td>Raphaely</td>\n",
       "      <td>2002-12-07</td>\n",
       "    </tr>\n",
       "    <tr>\n",
       "      <td>15</td>\n",
       "      <td>115</td>\n",
       "      <td>Alexander</td>\n",
       "      <td>Khoo</td>\n",
       "      <td>2003-05-18</td>\n",
       "    </tr>\n",
       "    <tr>\n",
       "      <td>16</td>\n",
       "      <td>116</td>\n",
       "      <td>Shelli</td>\n",
       "      <td>Baida</td>\n",
       "      <td>2005-12-24</td>\n",
       "    </tr>\n",
       "    <tr>\n",
       "      <td>17</td>\n",
       "      <td>117</td>\n",
       "      <td>Sigal</td>\n",
       "      <td>Tobias</td>\n",
       "      <td>2005-07-24</td>\n",
       "    </tr>\n",
       "    <tr>\n",
       "      <td>18</td>\n",
       "      <td>118</td>\n",
       "      <td>Guy</td>\n",
       "      <td>Himuro</td>\n",
       "      <td>2006-11-15</td>\n",
       "    </tr>\n",
       "    <tr>\n",
       "      <td>19</td>\n",
       "      <td>119</td>\n",
       "      <td>Karen</td>\n",
       "      <td>Colmenares</td>\n",
       "      <td>2007-08-10</td>\n",
       "    </tr>\n",
       "    <tr>\n",
       "      <td>0</td>\n",
       "      <td>100</td>\n",
       "      <td>Steven</td>\n",
       "      <td>King</td>\n",
       "      <td>2003-06-17</td>\n",
       "    </tr>\n",
       "    <tr>\n",
       "      <td>1</td>\n",
       "      <td>101</td>\n",
       "      <td>Neena</td>\n",
       "      <td>Kochhar</td>\n",
       "      <td>2005-09-21</td>\n",
       "    </tr>\n",
       "    <tr>\n",
       "      <td>2</td>\n",
       "      <td>102</td>\n",
       "      <td>Lex</td>\n",
       "      <td>De Haan</td>\n",
       "      <td>2001-01-13</td>\n",
       "    </tr>\n",
       "    <tr>\n",
       "      <td>3</td>\n",
       "      <td>103</td>\n",
       "      <td>Alexander</td>\n",
       "      <td>Hunold</td>\n",
       "      <td>2006-01-03</td>\n",
       "    </tr>\n",
       "    <tr>\n",
       "      <td>4</td>\n",
       "      <td>104</td>\n",
       "      <td>Bruce</td>\n",
       "      <td>Ernst</td>\n",
       "      <td>2007-05-21</td>\n",
       "    </tr>\n",
       "    <tr>\n",
       "      <td>5</td>\n",
       "      <td>105</td>\n",
       "      <td>David</td>\n",
       "      <td>Austin</td>\n",
       "      <td>2005-06-25</td>\n",
       "    </tr>\n",
       "    <tr>\n",
       "      <td>6</td>\n",
       "      <td>106</td>\n",
       "      <td>Valli</td>\n",
       "      <td>Pataballa</td>\n",
       "      <td>2006-02-05</td>\n",
       "    </tr>\n",
       "    <tr>\n",
       "      <td>7</td>\n",
       "      <td>107</td>\n",
       "      <td>Diana</td>\n",
       "      <td>Lorentz</td>\n",
       "      <td>2007-02-07</td>\n",
       "    </tr>\n",
       "    <tr>\n",
       "      <td>8</td>\n",
       "      <td>108</td>\n",
       "      <td>Nancy</td>\n",
       "      <td>Greenberg</td>\n",
       "      <td>2002-08-17</td>\n",
       "    </tr>\n",
       "    <tr>\n",
       "      <td>9</td>\n",
       "      <td>109</td>\n",
       "      <td>Daniel</td>\n",
       "      <td>Faviet</td>\n",
       "      <td>2002-08-16</td>\n",
       "    </tr>\n",
       "    <tr>\n",
       "      <td>10</td>\n",
       "      <td>110</td>\n",
       "      <td>John</td>\n",
       "      <td>Chen</td>\n",
       "      <td>2005-09-28</td>\n",
       "    </tr>\n",
       "    <tr>\n",
       "      <td>11</td>\n",
       "      <td>111</td>\n",
       "      <td>Ismael</td>\n",
       "      <td>Sciarra</td>\n",
       "      <td>2005-09-30</td>\n",
       "    </tr>\n",
       "    <tr>\n",
       "      <td>12</td>\n",
       "      <td>112</td>\n",
       "      <td>Jose Manuel</td>\n",
       "      <td>Urman</td>\n",
       "      <td>2006-03-07</td>\n",
       "    </tr>\n",
       "    <tr>\n",
       "      <td>13</td>\n",
       "      <td>113</td>\n",
       "      <td>Luis</td>\n",
       "      <td>Popp</td>\n",
       "      <td>2007-12-07</td>\n",
       "    </tr>\n",
       "    <tr>\n",
       "      <td>14</td>\n",
       "      <td>114</td>\n",
       "      <td>Den</td>\n",
       "      <td>Raphaely</td>\n",
       "      <td>2002-12-07</td>\n",
       "    </tr>\n",
       "    <tr>\n",
       "      <td>15</td>\n",
       "      <td>115</td>\n",
       "      <td>Alexander</td>\n",
       "      <td>Khoo</td>\n",
       "      <td>2003-05-18</td>\n",
       "    </tr>\n",
       "    <tr>\n",
       "      <td>16</td>\n",
       "      <td>116</td>\n",
       "      <td>Shelli</td>\n",
       "      <td>Baida</td>\n",
       "      <td>2005-12-24</td>\n",
       "    </tr>\n",
       "    <tr>\n",
       "      <td>17</td>\n",
       "      <td>117</td>\n",
       "      <td>Sigal</td>\n",
       "      <td>Tobias</td>\n",
       "      <td>2005-07-24</td>\n",
       "    </tr>\n",
       "    <tr>\n",
       "      <td>18</td>\n",
       "      <td>118</td>\n",
       "      <td>Guy</td>\n",
       "      <td>Himuro</td>\n",
       "      <td>2006-11-15</td>\n",
       "    </tr>\n",
       "    <tr>\n",
       "      <td>19</td>\n",
       "      <td>119</td>\n",
       "      <td>Karen</td>\n",
       "      <td>Colmenares</td>\n",
       "      <td>2007-08-10</td>\n",
       "    </tr>\n",
       "    <tr>\n",
       "      <td>0</td>\n",
       "      <td>100</td>\n",
       "      <td>Steven</td>\n",
       "      <td>King</td>\n",
       "      <td>2003-06-17</td>\n",
       "    </tr>\n",
       "    <tr>\n",
       "      <td>1</td>\n",
       "      <td>101</td>\n",
       "      <td>Neena</td>\n",
       "      <td>Kochhar</td>\n",
       "      <td>2005-09-21</td>\n",
       "    </tr>\n",
       "    <tr>\n",
       "      <td>2</td>\n",
       "      <td>102</td>\n",
       "      <td>Lex</td>\n",
       "      <td>De Haan</td>\n",
       "      <td>2001-01-13</td>\n",
       "    </tr>\n",
       "    <tr>\n",
       "      <td>3</td>\n",
       "      <td>103</td>\n",
       "      <td>Alexander</td>\n",
       "      <td>Hunold</td>\n",
       "      <td>2006-01-03</td>\n",
       "    </tr>\n",
       "    <tr>\n",
       "      <td>4</td>\n",
       "      <td>104</td>\n",
       "      <td>Bruce</td>\n",
       "      <td>Ernst</td>\n",
       "      <td>2007-05-21</td>\n",
       "    </tr>\n",
       "    <tr>\n",
       "      <td>5</td>\n",
       "      <td>105</td>\n",
       "      <td>David</td>\n",
       "      <td>Austin</td>\n",
       "      <td>2005-06-25</td>\n",
       "    </tr>\n",
       "    <tr>\n",
       "      <td>6</td>\n",
       "      <td>106</td>\n",
       "      <td>Valli</td>\n",
       "      <td>Pataballa</td>\n",
       "      <td>2006-02-05</td>\n",
       "    </tr>\n",
       "    <tr>\n",
       "      <td>7</td>\n",
       "      <td>107</td>\n",
       "      <td>Diana</td>\n",
       "      <td>Lorentz</td>\n",
       "      <td>2007-02-07</td>\n",
       "    </tr>\n",
       "    <tr>\n",
       "      <td>8</td>\n",
       "      <td>108</td>\n",
       "      <td>Nancy</td>\n",
       "      <td>Greenberg</td>\n",
       "      <td>2002-08-17</td>\n",
       "    </tr>\n",
       "    <tr>\n",
       "      <td>9</td>\n",
       "      <td>109</td>\n",
       "      <td>Daniel</td>\n",
       "      <td>Faviet</td>\n",
       "      <td>2002-08-16</td>\n",
       "    </tr>\n",
       "    <tr>\n",
       "      <td>10</td>\n",
       "      <td>110</td>\n",
       "      <td>John</td>\n",
       "      <td>Chen</td>\n",
       "      <td>2005-09-28</td>\n",
       "    </tr>\n",
       "    <tr>\n",
       "      <td>11</td>\n",
       "      <td>111</td>\n",
       "      <td>Ismael</td>\n",
       "      <td>Sciarra</td>\n",
       "      <td>2005-09-30</td>\n",
       "    </tr>\n",
       "    <tr>\n",
       "      <td>12</td>\n",
       "      <td>112</td>\n",
       "      <td>Jose Manuel</td>\n",
       "      <td>Urman</td>\n",
       "      <td>2006-03-07</td>\n",
       "    </tr>\n",
       "    <tr>\n",
       "      <td>13</td>\n",
       "      <td>113</td>\n",
       "      <td>Luis</td>\n",
       "      <td>Popp</td>\n",
       "      <td>2007-12-07</td>\n",
       "    </tr>\n",
       "    <tr>\n",
       "      <td>14</td>\n",
       "      <td>114</td>\n",
       "      <td>Den</td>\n",
       "      <td>Raphaely</td>\n",
       "      <td>2002-12-07</td>\n",
       "    </tr>\n",
       "    <tr>\n",
       "      <td>15</td>\n",
       "      <td>115</td>\n",
       "      <td>Alexander</td>\n",
       "      <td>Khoo</td>\n",
       "      <td>2003-05-18</td>\n",
       "    </tr>\n",
       "    <tr>\n",
       "      <td>16</td>\n",
       "      <td>116</td>\n",
       "      <td>Shelli</td>\n",
       "      <td>Baida</td>\n",
       "      <td>2005-12-24</td>\n",
       "    </tr>\n",
       "    <tr>\n",
       "      <td>17</td>\n",
       "      <td>117</td>\n",
       "      <td>Sigal</td>\n",
       "      <td>Tobias</td>\n",
       "      <td>2005-07-24</td>\n",
       "    </tr>\n",
       "    <tr>\n",
       "      <td>18</td>\n",
       "      <td>118</td>\n",
       "      <td>Guy</td>\n",
       "      <td>Himuro</td>\n",
       "      <td>2006-11-15</td>\n",
       "    </tr>\n",
       "    <tr>\n",
       "      <td>19</td>\n",
       "      <td>119</td>\n",
       "      <td>Karen</td>\n",
       "      <td>Colmenares</td>\n",
       "      <td>2007-08-10</td>\n",
       "    </tr>\n",
       "  </tbody>\n",
       "</table>\n",
       "</div>"
      ],
      "text/plain": [
       "    emp_id   first_name   last_name  hire_date\n",
       "0      100       Steven        King 2003-06-17\n",
       "1      101        Neena     Kochhar 2005-09-21\n",
       "2      102          Lex     De Haan 2001-01-13\n",
       "3      103    Alexander      Hunold 2006-01-03\n",
       "4      104        Bruce       Ernst 2007-05-21\n",
       "5      105        David      Austin 2005-06-25\n",
       "6      106        Valli   Pataballa 2006-02-05\n",
       "7      107        Diana     Lorentz 2007-02-07\n",
       "8      108        Nancy   Greenberg 2002-08-17\n",
       "9      109       Daniel      Faviet 2002-08-16\n",
       "10     110         John        Chen 2005-09-28\n",
       "11     111       Ismael     Sciarra 2005-09-30\n",
       "12     112  Jose Manuel       Urman 2006-03-07\n",
       "13     113         Luis        Popp 2007-12-07\n",
       "14     114          Den    Raphaely 2002-12-07\n",
       "15     115    Alexander        Khoo 2003-05-18\n",
       "16     116       Shelli       Baida 2005-12-24\n",
       "17     117        Sigal      Tobias 2005-07-24\n",
       "18     118          Guy      Himuro 2006-11-15\n",
       "19     119        Karen  Colmenares 2007-08-10\n",
       "0      100       Steven        King 2003-06-17\n",
       "1      101        Neena     Kochhar 2005-09-21\n",
       "2      102          Lex     De Haan 2001-01-13\n",
       "3      103    Alexander      Hunold 2006-01-03\n",
       "4      104        Bruce       Ernst 2007-05-21\n",
       "5      105        David      Austin 2005-06-25\n",
       "6      106        Valli   Pataballa 2006-02-05\n",
       "7      107        Diana     Lorentz 2007-02-07\n",
       "8      108        Nancy   Greenberg 2002-08-17\n",
       "9      109       Daniel      Faviet 2002-08-16\n",
       "10     110         John        Chen 2005-09-28\n",
       "11     111       Ismael     Sciarra 2005-09-30\n",
       "12     112  Jose Manuel       Urman 2006-03-07\n",
       "13     113         Luis        Popp 2007-12-07\n",
       "14     114          Den    Raphaely 2002-12-07\n",
       "15     115    Alexander        Khoo 2003-05-18\n",
       "16     116       Shelli       Baida 2005-12-24\n",
       "17     117        Sigal      Tobias 2005-07-24\n",
       "18     118          Guy      Himuro 2006-11-15\n",
       "19     119        Karen  Colmenares 2007-08-10\n",
       "0      100       Steven        King 2003-06-17\n",
       "1      101        Neena     Kochhar 2005-09-21\n",
       "2      102          Lex     De Haan 2001-01-13\n",
       "3      103    Alexander      Hunold 2006-01-03\n",
       "4      104        Bruce       Ernst 2007-05-21\n",
       "5      105        David      Austin 2005-06-25\n",
       "6      106        Valli   Pataballa 2006-02-05\n",
       "7      107        Diana     Lorentz 2007-02-07\n",
       "8      108        Nancy   Greenberg 2002-08-17\n",
       "9      109       Daniel      Faviet 2002-08-16\n",
       "10     110         John        Chen 2005-09-28\n",
       "11     111       Ismael     Sciarra 2005-09-30\n",
       "12     112  Jose Manuel       Urman 2006-03-07\n",
       "13     113         Luis        Popp 2007-12-07\n",
       "14     114          Den    Raphaely 2002-12-07\n",
       "15     115    Alexander        Khoo 2003-05-18\n",
       "16     116       Shelli       Baida 2005-12-24\n",
       "17     117        Sigal      Tobias 2005-07-24\n",
       "18     118          Guy      Himuro 2006-11-15\n",
       "19     119        Karen  Colmenares 2007-08-10"
      ]
     },
     "execution_count": 141,
     "metadata": {},
     "output_type": "execute_result"
    }
   ],
   "source": [
    "# Q 121\n",
    "\n",
    "\n",
    "import pandas as pd\n",
    "\n",
    "\n",
    "df1 = pd.read_excel('employee.xlsx',sheets='Sheet1')\n",
    "df2 = pd.read_excel('employee.xlsx',sheets='Sheet2')\n",
    "df3 = pd.read_excel('employee.xlsx',sheets='Sheet3')\n",
    "df = pd.concat((df2,df2,df3))\n",
    "df"
   ]
  },
  {
   "cell_type": "code",
   "execution_count": 142,
   "metadata": {},
   "outputs": [],
   "source": [
    "# Q 122\n",
    "\n",
    "\n",
    "import pandas as pd\n",
    "\n",
    "\n",
    "df1 = pd.read_excel('employee.xlsx',sheets='Sheet1')\n",
    "df2 = pd.read_excel('employee.xlsx',sheets='Sheet2')\n",
    "df3 = pd.read_excel('employee.xlsx',sheets='Sheet3')\n",
    "df = pd.concat((df2,df2,df3))\n",
    "df.to_excel(\"New_file.xlsx\",index=False) # if we want to save the result\n",
    "\n",
    "\n",
    "df1.to_excel(\"New_file1.xlsx\",sheet_name='Shhet1',index=False) # if we want to be on seperat sheets (note in pdf)\n",
    "df2.to_excel(\"New_file1.xlsx\",sheet_name='Shhet2',index=False)\n",
    "df3.to_excel(\"New_file1.xlsx\",sheet_name='Shhet3',index=False)"
   ]
  },
  {
   "cell_type": "code",
   "execution_count": 143,
   "metadata": {},
   "outputs": [
    {
     "data": {
      "text/html": [
       "<div>\n",
       "<style scoped>\n",
       "    .dataframe tbody tr th:only-of-type {\n",
       "        vertical-align: middle;\n",
       "    }\n",
       "\n",
       "    .dataframe tbody tr th {\n",
       "        vertical-align: top;\n",
       "    }\n",
       "\n",
       "    .dataframe thead th {\n",
       "        text-align: right;\n",
       "    }\n",
       "</style>\n",
       "<table border=\"1\" class=\"dataframe\">\n",
       "  <thead>\n",
       "    <tr style=\"text-align: right;\">\n",
       "      <th></th>\n",
       "      <th>age</th>\n",
       "      <th>0.42</th>\n",
       "      <th>0.67</th>\n",
       "      <th>0.75</th>\n",
       "      <th>0.83</th>\n",
       "      <th>0.92</th>\n",
       "      <th>1.00</th>\n",
       "      <th>2.00</th>\n",
       "      <th>3.00</th>\n",
       "      <th>4.00</th>\n",
       "      <th>5.00</th>\n",
       "      <th>6.00</th>\n",
       "      <th>7.00</th>\n",
       "      <th>8.00</th>\n",
       "      <th>9.00</th>\n",
       "      <th>10.00</th>\n",
       "      <th>11.00</th>\n",
       "      <th>12.00</th>\n",
       "      <th>13.00</th>\n",
       "      <th>14.00</th>\n",
       "      <th>14.50</th>\n",
       "      <th>15.00</th>\n",
       "      <th>16.00</th>\n",
       "      <th>17.00</th>\n",
       "      <th>18.00</th>\n",
       "      <th>19.00</th>\n",
       "      <th>20.00</th>\n",
       "      <th>20.50</th>\n",
       "      <th>21.00</th>\n",
       "      <th>22.00</th>\n",
       "      <th>23.00</th>\n",
       "      <th>23.50</th>\n",
       "      <th>24.00</th>\n",
       "      <th>24.50</th>\n",
       "      <th>25.00</th>\n",
       "      <th>26.00</th>\n",
       "      <th>27.00</th>\n",
       "      <th>28.00</th>\n",
       "      <th>28.50</th>\n",
       "      <th>29.00</th>\n",
       "      <th>30.00</th>\n",
       "      <th>30.50</th>\n",
       "      <th>31.00</th>\n",
       "      <th>32.00</th>\n",
       "      <th>32.50</th>\n",
       "      <th>33.00</th>\n",
       "      <th>34.00</th>\n",
       "      <th>34.50</th>\n",
       "      <th>35.00</th>\n",
       "      <th>36.00</th>\n",
       "      <th>36.50</th>\n",
       "      <th>37.00</th>\n",
       "      <th>38.00</th>\n",
       "      <th>39.00</th>\n",
       "      <th>40.00</th>\n",
       "      <th>40.50</th>\n",
       "      <th>41.00</th>\n",
       "      <th>42.00</th>\n",
       "      <th>43.00</th>\n",
       "      <th>44.00</th>\n",
       "      <th>45.00</th>\n",
       "      <th>45.50</th>\n",
       "      <th>46.00</th>\n",
       "      <th>47.00</th>\n",
       "      <th>48.00</th>\n",
       "      <th>49.00</th>\n",
       "      <th>50.00</th>\n",
       "      <th>51.00</th>\n",
       "      <th>52.00</th>\n",
       "      <th>53.00</th>\n",
       "      <th>54.00</th>\n",
       "      <th>55.00</th>\n",
       "      <th>55.50</th>\n",
       "      <th>56.00</th>\n",
       "      <th>57.00</th>\n",
       "      <th>58.00</th>\n",
       "      <th>59.00</th>\n",
       "      <th>60.00</th>\n",
       "      <th>61.00</th>\n",
       "      <th>62.00</th>\n",
       "      <th>63.00</th>\n",
       "      <th>64.00</th>\n",
       "      <th>65.00</th>\n",
       "      <th>66.00</th>\n",
       "      <th>70.00</th>\n",
       "      <th>70.50</th>\n",
       "      <th>71.00</th>\n",
       "      <th>74.00</th>\n",
       "      <th>80.00</th>\n",
       "    </tr>\n",
       "    <tr>\n",
       "      <th>sex</th>\n",
       "      <th>who</th>\n",
       "      <th></th>\n",
       "      <th></th>\n",
       "      <th></th>\n",
       "      <th></th>\n",
       "      <th></th>\n",
       "      <th></th>\n",
       "      <th></th>\n",
       "      <th></th>\n",
       "      <th></th>\n",
       "      <th></th>\n",
       "      <th></th>\n",
       "      <th></th>\n",
       "      <th></th>\n",
       "      <th></th>\n",
       "      <th></th>\n",
       "      <th></th>\n",
       "      <th></th>\n",
       "      <th></th>\n",
       "      <th></th>\n",
       "      <th></th>\n",
       "      <th></th>\n",
       "      <th></th>\n",
       "      <th></th>\n",
       "      <th></th>\n",
       "      <th></th>\n",
       "      <th></th>\n",
       "      <th></th>\n",
       "      <th></th>\n",
       "      <th></th>\n",
       "      <th></th>\n",
       "      <th></th>\n",
       "      <th></th>\n",
       "      <th></th>\n",
       "      <th></th>\n",
       "      <th></th>\n",
       "      <th></th>\n",
       "      <th></th>\n",
       "      <th></th>\n",
       "      <th></th>\n",
       "      <th></th>\n",
       "      <th></th>\n",
       "      <th></th>\n",
       "      <th></th>\n",
       "      <th></th>\n",
       "      <th></th>\n",
       "      <th></th>\n",
       "      <th></th>\n",
       "      <th></th>\n",
       "      <th></th>\n",
       "      <th></th>\n",
       "      <th></th>\n",
       "      <th></th>\n",
       "      <th></th>\n",
       "      <th></th>\n",
       "      <th></th>\n",
       "      <th></th>\n",
       "      <th></th>\n",
       "      <th></th>\n",
       "      <th></th>\n",
       "      <th></th>\n",
       "      <th></th>\n",
       "      <th></th>\n",
       "      <th></th>\n",
       "      <th></th>\n",
       "      <th></th>\n",
       "      <th></th>\n",
       "      <th></th>\n",
       "      <th></th>\n",
       "      <th></th>\n",
       "      <th></th>\n",
       "      <th></th>\n",
       "      <th></th>\n",
       "      <th></th>\n",
       "      <th></th>\n",
       "      <th></th>\n",
       "      <th></th>\n",
       "      <th></th>\n",
       "      <th></th>\n",
       "      <th></th>\n",
       "      <th></th>\n",
       "      <th></th>\n",
       "      <th></th>\n",
       "      <th></th>\n",
       "      <th></th>\n",
       "      <th></th>\n",
       "      <th></th>\n",
       "      <th></th>\n",
       "      <th></th>\n",
       "    </tr>\n",
       "  </thead>\n",
       "  <tbody>\n",
       "    <tr>\n",
       "      <td rowspan=\"2\" valign=\"top\">female</td>\n",
       "      <td>child</td>\n",
       "      <td>NaN</td>\n",
       "      <td>NaN</td>\n",
       "      <td>1.0</td>\n",
       "      <td>NaN</td>\n",
       "      <td>NaN</td>\n",
       "      <td>1.0</td>\n",
       "      <td>0.333333</td>\n",
       "      <td>0.5</td>\n",
       "      <td>1.0</td>\n",
       "      <td>1.0</td>\n",
       "      <td>0.5</td>\n",
       "      <td>1.0</td>\n",
       "      <td>0.5</td>\n",
       "      <td>0.0</td>\n",
       "      <td>0.0</td>\n",
       "      <td>0.000000</td>\n",
       "      <td>NaN</td>\n",
       "      <td>1.0</td>\n",
       "      <td>0.75</td>\n",
       "      <td>0.0</td>\n",
       "      <td>1.0</td>\n",
       "      <td>NaN</td>\n",
       "      <td>NaN</td>\n",
       "      <td>NaN</td>\n",
       "      <td>NaN</td>\n",
       "      <td>NaN</td>\n",
       "      <td>NaN</td>\n",
       "      <td>NaN</td>\n",
       "      <td>NaN</td>\n",
       "      <td>NaN</td>\n",
       "      <td>NaN</td>\n",
       "      <td>NaN</td>\n",
       "      <td>NaN</td>\n",
       "      <td>NaN</td>\n",
       "      <td>NaN</td>\n",
       "      <td>NaN</td>\n",
       "      <td>NaN</td>\n",
       "      <td>NaN</td>\n",
       "      <td>NaN</td>\n",
       "      <td>NaN</td>\n",
       "      <td>NaN</td>\n",
       "      <td>NaN</td>\n",
       "      <td>NaN</td>\n",
       "      <td>NaN</td>\n",
       "      <td>NaN</td>\n",
       "      <td>NaN</td>\n",
       "      <td>NaN</td>\n",
       "      <td>NaN</td>\n",
       "      <td>NaN</td>\n",
       "      <td>NaN</td>\n",
       "      <td>NaN</td>\n",
       "      <td>NaN</td>\n",
       "      <td>NaN</td>\n",
       "      <td>NaN</td>\n",
       "      <td>NaN</td>\n",
       "      <td>NaN</td>\n",
       "      <td>NaN</td>\n",
       "      <td>NaN</td>\n",
       "      <td>NaN</td>\n",
       "      <td>NaN</td>\n",
       "      <td>NaN</td>\n",
       "      <td>NaN</td>\n",
       "      <td>NaN</td>\n",
       "      <td>NaN</td>\n",
       "      <td>NaN</td>\n",
       "      <td>NaN</td>\n",
       "      <td>NaN</td>\n",
       "      <td>NaN</td>\n",
       "      <td>NaN</td>\n",
       "      <td>NaN</td>\n",
       "      <td>NaN</td>\n",
       "      <td>NaN</td>\n",
       "      <td>NaN</td>\n",
       "      <td>NaN</td>\n",
       "      <td>NaN</td>\n",
       "      <td>NaN</td>\n",
       "      <td>NaN</td>\n",
       "      <td>NaN</td>\n",
       "      <td>NaN</td>\n",
       "      <td>NaN</td>\n",
       "      <td>NaN</td>\n",
       "      <td>NaN</td>\n",
       "      <td>NaN</td>\n",
       "      <td>NaN</td>\n",
       "      <td>NaN</td>\n",
       "      <td>NaN</td>\n",
       "      <td>NaN</td>\n",
       "      <td>NaN</td>\n",
       "    </tr>\n",
       "    <tr>\n",
       "      <td>woman</td>\n",
       "      <td>NaN</td>\n",
       "      <td>NaN</td>\n",
       "      <td>NaN</td>\n",
       "      <td>NaN</td>\n",
       "      <td>NaN</td>\n",
       "      <td>NaN</td>\n",
       "      <td>NaN</td>\n",
       "      <td>NaN</td>\n",
       "      <td>NaN</td>\n",
       "      <td>NaN</td>\n",
       "      <td>NaN</td>\n",
       "      <td>NaN</td>\n",
       "      <td>NaN</td>\n",
       "      <td>NaN</td>\n",
       "      <td>NaN</td>\n",
       "      <td>NaN</td>\n",
       "      <td>NaN</td>\n",
       "      <td>NaN</td>\n",
       "      <td>NaN</td>\n",
       "      <td>NaN</td>\n",
       "      <td>NaN</td>\n",
       "      <td>0.833333</td>\n",
       "      <td>0.833333</td>\n",
       "      <td>0.615385</td>\n",
       "      <td>1.000000</td>\n",
       "      <td>0.000000</td>\n",
       "      <td>NaN</td>\n",
       "      <td>0.571429</td>\n",
       "      <td>0.833333</td>\n",
       "      <td>0.8</td>\n",
       "      <td>NaN</td>\n",
       "      <td>0.875000</td>\n",
       "      <td>NaN</td>\n",
       "      <td>0.400000</td>\n",
       "      <td>0.600000</td>\n",
       "      <td>0.833333</td>\n",
       "      <td>0.714286</td>\n",
       "      <td>NaN</td>\n",
       "      <td>0.714286</td>\n",
       "      <td>0.818182</td>\n",
       "      <td>0.0</td>\n",
       "      <td>0.714286</td>\n",
       "      <td>0.666667</td>\n",
       "      <td>1.0</td>\n",
       "      <td>1.0</td>\n",
       "      <td>1.000000</td>\n",
       "      <td>NaN</td>\n",
       "      <td>1.0</td>\n",
       "      <td>1.000000</td>\n",
       "      <td>NaN</td>\n",
       "      <td>0.0</td>\n",
       "      <td>0.800000</td>\n",
       "      <td>0.666667</td>\n",
       "      <td>0.833333</td>\n",
       "      <td>NaN</td>\n",
       "      <td>0.5</td>\n",
       "      <td>1.0</td>\n",
       "      <td>0.5</td>\n",
       "      <td>0.666667</td>\n",
       "      <td>0.500000</td>\n",
       "      <td>NaN</td>\n",
       "      <td>NaN</td>\n",
       "      <td>0.5</td>\n",
       "      <td>0.75</td>\n",
       "      <td>1.0</td>\n",
       "      <td>0.8</td>\n",
       "      <td>1.000000</td>\n",
       "      <td>1.00</td>\n",
       "      <td>1.0</td>\n",
       "      <td>1.0</td>\n",
       "      <td>1.0</td>\n",
       "      <td>NaN</td>\n",
       "      <td>1.000000</td>\n",
       "      <td>0.0</td>\n",
       "      <td>1.0</td>\n",
       "      <td>NaN</td>\n",
       "      <td>1.000000</td>\n",
       "      <td>NaN</td>\n",
       "      <td>1.000000</td>\n",
       "      <td>1.0</td>\n",
       "      <td>NaN</td>\n",
       "      <td>NaN</td>\n",
       "      <td>NaN</td>\n",
       "      <td>NaN</td>\n",
       "      <td>NaN</td>\n",
       "      <td>NaN</td>\n",
       "      <td>NaN</td>\n",
       "      <td>NaN</td>\n",
       "    </tr>\n",
       "    <tr>\n",
       "      <td rowspan=\"2\" valign=\"top\">male</td>\n",
       "      <td>child</td>\n",
       "      <td>1.0</td>\n",
       "      <td>1.0</td>\n",
       "      <td>NaN</td>\n",
       "      <td>1.0</td>\n",
       "      <td>1.0</td>\n",
       "      <td>0.6</td>\n",
       "      <td>0.250000</td>\n",
       "      <td>1.0</td>\n",
       "      <td>0.4</td>\n",
       "      <td>NaN</td>\n",
       "      <td>1.0</td>\n",
       "      <td>0.0</td>\n",
       "      <td>0.5</td>\n",
       "      <td>0.5</td>\n",
       "      <td>0.0</td>\n",
       "      <td>0.333333</td>\n",
       "      <td>1.0</td>\n",
       "      <td>NaN</td>\n",
       "      <td>0.00</td>\n",
       "      <td>NaN</td>\n",
       "      <td>0.0</td>\n",
       "      <td>NaN</td>\n",
       "      <td>NaN</td>\n",
       "      <td>NaN</td>\n",
       "      <td>NaN</td>\n",
       "      <td>NaN</td>\n",
       "      <td>NaN</td>\n",
       "      <td>NaN</td>\n",
       "      <td>NaN</td>\n",
       "      <td>NaN</td>\n",
       "      <td>NaN</td>\n",
       "      <td>NaN</td>\n",
       "      <td>NaN</td>\n",
       "      <td>NaN</td>\n",
       "      <td>NaN</td>\n",
       "      <td>NaN</td>\n",
       "      <td>NaN</td>\n",
       "      <td>NaN</td>\n",
       "      <td>NaN</td>\n",
       "      <td>NaN</td>\n",
       "      <td>NaN</td>\n",
       "      <td>NaN</td>\n",
       "      <td>NaN</td>\n",
       "      <td>NaN</td>\n",
       "      <td>NaN</td>\n",
       "      <td>NaN</td>\n",
       "      <td>NaN</td>\n",
       "      <td>NaN</td>\n",
       "      <td>NaN</td>\n",
       "      <td>NaN</td>\n",
       "      <td>NaN</td>\n",
       "      <td>NaN</td>\n",
       "      <td>NaN</td>\n",
       "      <td>NaN</td>\n",
       "      <td>NaN</td>\n",
       "      <td>NaN</td>\n",
       "      <td>NaN</td>\n",
       "      <td>NaN</td>\n",
       "      <td>NaN</td>\n",
       "      <td>NaN</td>\n",
       "      <td>NaN</td>\n",
       "      <td>NaN</td>\n",
       "      <td>NaN</td>\n",
       "      <td>NaN</td>\n",
       "      <td>NaN</td>\n",
       "      <td>NaN</td>\n",
       "      <td>NaN</td>\n",
       "      <td>NaN</td>\n",
       "      <td>NaN</td>\n",
       "      <td>NaN</td>\n",
       "      <td>NaN</td>\n",
       "      <td>NaN</td>\n",
       "      <td>NaN</td>\n",
       "      <td>NaN</td>\n",
       "      <td>NaN</td>\n",
       "      <td>NaN</td>\n",
       "      <td>NaN</td>\n",
       "      <td>NaN</td>\n",
       "      <td>NaN</td>\n",
       "      <td>NaN</td>\n",
       "      <td>NaN</td>\n",
       "      <td>NaN</td>\n",
       "      <td>NaN</td>\n",
       "      <td>NaN</td>\n",
       "      <td>NaN</td>\n",
       "      <td>NaN</td>\n",
       "      <td>NaN</td>\n",
       "      <td>NaN</td>\n",
       "    </tr>\n",
       "    <tr>\n",
       "      <td>man</td>\n",
       "      <td>NaN</td>\n",
       "      <td>NaN</td>\n",
       "      <td>NaN</td>\n",
       "      <td>NaN</td>\n",
       "      <td>NaN</td>\n",
       "      <td>NaN</td>\n",
       "      <td>NaN</td>\n",
       "      <td>NaN</td>\n",
       "      <td>NaN</td>\n",
       "      <td>NaN</td>\n",
       "      <td>NaN</td>\n",
       "      <td>NaN</td>\n",
       "      <td>NaN</td>\n",
       "      <td>NaN</td>\n",
       "      <td>NaN</td>\n",
       "      <td>NaN</td>\n",
       "      <td>NaN</td>\n",
       "      <td>NaN</td>\n",
       "      <td>NaN</td>\n",
       "      <td>NaN</td>\n",
       "      <td>NaN</td>\n",
       "      <td>0.090909</td>\n",
       "      <td>0.142857</td>\n",
       "      <td>0.076923</td>\n",
       "      <td>0.111111</td>\n",
       "      <td>0.230769</td>\n",
       "      <td>0.0</td>\n",
       "      <td>0.058824</td>\n",
       "      <td>0.066667</td>\n",
       "      <td>0.1</td>\n",
       "      <td>0.0</td>\n",
       "      <td>0.071429</td>\n",
       "      <td>0.0</td>\n",
       "      <td>0.222222</td>\n",
       "      <td>0.230769</td>\n",
       "      <td>0.500000</td>\n",
       "      <td>0.111111</td>\n",
       "      <td>0.0</td>\n",
       "      <td>0.230769</td>\n",
       "      <td>0.071429</td>\n",
       "      <td>0.0</td>\n",
       "      <td>0.300000</td>\n",
       "      <td>0.466667</td>\n",
       "      <td>0.0</td>\n",
       "      <td>0.0</td>\n",
       "      <td>0.181818</td>\n",
       "      <td>0.0</td>\n",
       "      <td>0.3</td>\n",
       "      <td>0.266667</td>\n",
       "      <td>0.0</td>\n",
       "      <td>0.2</td>\n",
       "      <td>0.166667</td>\n",
       "      <td>0.125000</td>\n",
       "      <td>0.142857</td>\n",
       "      <td>0.0</td>\n",
       "      <td>0.0</td>\n",
       "      <td>0.3</td>\n",
       "      <td>0.0</td>\n",
       "      <td>0.166667</td>\n",
       "      <td>0.333333</td>\n",
       "      <td>0.0</td>\n",
       "      <td>0.0</td>\n",
       "      <td>0.0</td>\n",
       "      <td>0.60</td>\n",
       "      <td>0.5</td>\n",
       "      <td>0.2</td>\n",
       "      <td>0.166667</td>\n",
       "      <td>0.25</td>\n",
       "      <td>NaN</td>\n",
       "      <td>0.0</td>\n",
       "      <td>0.0</td>\n",
       "      <td>0.0</td>\n",
       "      <td>0.333333</td>\n",
       "      <td>0.0</td>\n",
       "      <td>0.0</td>\n",
       "      <td>0.0</td>\n",
       "      <td>0.333333</td>\n",
       "      <td>0.0</td>\n",
       "      <td>0.333333</td>\n",
       "      <td>NaN</td>\n",
       "      <td>0.0</td>\n",
       "      <td>0.0</td>\n",
       "      <td>0.0</td>\n",
       "      <td>0.0</td>\n",
       "      <td>0.0</td>\n",
       "      <td>0.0</td>\n",
       "      <td>0.0</td>\n",
       "      <td>1.0</td>\n",
       "    </tr>\n",
       "  </tbody>\n",
       "</table>\n",
       "</div>"
      ],
      "text/plain": [
       "age           0.42   0.67   0.75   0.83   0.92   1.00      2.00   3.00   4.00   5.00   6.00   7.00   8.00   9.00   10.00     11.00  12.00  13.00  14.00  14.50  15.00     16.00     17.00     18.00     19.00     20.00  20.50     21.00     22.00  23.00  23.50     24.00  24.50     25.00     26.00     27.00     28.00  28.50     29.00     30.00  30.50     31.00     32.00  32.50  33.00     34.00  34.50  35.00     36.00  36.50  37.00     38.00     39.00     40.00  40.50  41.00  42.00  43.00     44.00     45.00  45.50  46.00  47.00  48.00  49.00  50.00     51.00  52.00  53.00  54.00  55.00  55.50     56.00  57.00  58.00  59.00     60.00  61.00     62.00  63.00  64.00  65.00  66.00  70.00  70.50  71.00  74.00  80.00\n",
       "sex    who                                                                                                                                                                                                                                                                                                                                                                                                                                                                                                                                                                                                                                                                                                                                 \n",
       "female child    NaN    NaN    1.0    NaN    NaN    1.0  0.333333    0.5    1.0    1.0    0.5    1.0    0.5    0.0    0.0  0.000000    NaN    1.0   0.75    0.0    1.0       NaN       NaN       NaN       NaN       NaN    NaN       NaN       NaN    NaN    NaN       NaN    NaN       NaN       NaN       NaN       NaN    NaN       NaN       NaN    NaN       NaN       NaN    NaN    NaN       NaN    NaN    NaN       NaN    NaN    NaN       NaN       NaN       NaN    NaN    NaN    NaN    NaN       NaN       NaN    NaN    NaN    NaN    NaN    NaN    NaN       NaN    NaN    NaN    NaN    NaN    NaN       NaN    NaN    NaN    NaN       NaN    NaN       NaN    NaN    NaN    NaN    NaN    NaN    NaN    NaN    NaN    NaN\n",
       "       woman    NaN    NaN    NaN    NaN    NaN    NaN       NaN    NaN    NaN    NaN    NaN    NaN    NaN    NaN    NaN       NaN    NaN    NaN    NaN    NaN    NaN  0.833333  0.833333  0.615385  1.000000  0.000000    NaN  0.571429  0.833333    0.8    NaN  0.875000    NaN  0.400000  0.600000  0.833333  0.714286    NaN  0.714286  0.818182    0.0  0.714286  0.666667    1.0    1.0  1.000000    NaN    1.0  1.000000    NaN    0.0  0.800000  0.666667  0.833333    NaN    0.5    1.0    0.5  0.666667  0.500000    NaN    NaN    0.5   0.75    1.0    0.8  1.000000   1.00    1.0    1.0    1.0    NaN  1.000000    0.0    1.0    NaN  1.000000    NaN  1.000000    1.0    NaN    NaN    NaN    NaN    NaN    NaN    NaN    NaN\n",
       "male   child    1.0    1.0    NaN    1.0    1.0    0.6  0.250000    1.0    0.4    NaN    1.0    0.0    0.5    0.5    0.0  0.333333    1.0    NaN   0.00    NaN    0.0       NaN       NaN       NaN       NaN       NaN    NaN       NaN       NaN    NaN    NaN       NaN    NaN       NaN       NaN       NaN       NaN    NaN       NaN       NaN    NaN       NaN       NaN    NaN    NaN       NaN    NaN    NaN       NaN    NaN    NaN       NaN       NaN       NaN    NaN    NaN    NaN    NaN       NaN       NaN    NaN    NaN    NaN    NaN    NaN    NaN       NaN    NaN    NaN    NaN    NaN    NaN       NaN    NaN    NaN    NaN       NaN    NaN       NaN    NaN    NaN    NaN    NaN    NaN    NaN    NaN    NaN    NaN\n",
       "       man      NaN    NaN    NaN    NaN    NaN    NaN       NaN    NaN    NaN    NaN    NaN    NaN    NaN    NaN    NaN       NaN    NaN    NaN    NaN    NaN    NaN  0.090909  0.142857  0.076923  0.111111  0.230769    0.0  0.058824  0.066667    0.1    0.0  0.071429    0.0  0.222222  0.230769  0.500000  0.111111    0.0  0.230769  0.071429    0.0  0.300000  0.466667    0.0    0.0  0.181818    0.0    0.3  0.266667    0.0    0.2  0.166667  0.125000  0.142857    0.0    0.0    0.3    0.0  0.166667  0.333333    0.0    0.0    0.0   0.60    0.5    0.2  0.166667   0.25    NaN    0.0    0.0    0.0  0.333333    0.0    0.0    0.0  0.333333    0.0  0.333333    NaN    0.0    0.0    0.0    0.0    0.0    0.0    0.0    1.0"
      ]
     },
     "execution_count": 143,
     "metadata": {},
     "output_type": "execute_result"
    }
   ],
   "source": [
    "# Q 123\n",
    "\n",
    "\n",
    "import pandas as pd\n",
    "import seaborn as sns\n",
    "\n",
    "\n",
    "df = sns.load_dataset('titanic')\n",
    "pd.pivot_table(df,index = ['sex','who'],columns='age',values='survived')"
   ]
  },
  {
   "cell_type": "code",
   "execution_count": 144,
   "metadata": {},
   "outputs": [
    {
     "data": {
      "text/html": [
       "<div>\n",
       "<style scoped>\n",
       "    .dataframe tbody tr th:only-of-type {\n",
       "        vertical-align: middle;\n",
       "    }\n",
       "\n",
       "    .dataframe tbody tr th {\n",
       "        vertical-align: top;\n",
       "    }\n",
       "\n",
       "    .dataframe thead th {\n",
       "        text-align: right;\n",
       "    }\n",
       "</style>\n",
       "<table border=\"1\" class=\"dataframe\">\n",
       "  <thead>\n",
       "    <tr style=\"text-align: right;\">\n",
       "      <th>sex</th>\n",
       "      <th>female</th>\n",
       "      <th>male</th>\n",
       "    </tr>\n",
       "  </thead>\n",
       "  <tbody>\n",
       "    <tr>\n",
       "      <td>survived</td>\n",
       "      <td>0.742038</td>\n",
       "      <td>0.188908</td>\n",
       "    </tr>\n",
       "  </tbody>\n",
       "</table>\n",
       "</div>"
      ],
      "text/plain": [
       "sex         female      male\n",
       "survived  0.742038  0.188908"
      ]
     },
     "execution_count": 144,
     "metadata": {},
     "output_type": "execute_result"
    }
   ],
   "source": [
    "# Q 124\n",
    "\n",
    "import pandas as pd\n",
    "import seaborn as sns\n",
    "\n",
    "\n",
    "data = sns.load_dataset('titanic')\n",
    "data.pivot_table(columns='sex',values='survived')"
   ]
  },
  {
   "cell_type": "code",
   "execution_count": 145,
   "metadata": {},
   "outputs": [
    {
     "data": {
      "text/html": [
       "<div>\n",
       "<style scoped>\n",
       "    .dataframe tbody tr th:only-of-type {\n",
       "        vertical-align: middle;\n",
       "    }\n",
       "\n",
       "    .dataframe tbody tr th {\n",
       "        vertical-align: top;\n",
       "    }\n",
       "\n",
       "    .dataframe thead th {\n",
       "        text-align: right;\n",
       "    }\n",
       "</style>\n",
       "<table border=\"1\" class=\"dataframe\">\n",
       "  <thead>\n",
       "    <tr style=\"text-align: right;\">\n",
       "      <th></th>\n",
       "      <th>survived</th>\n",
       "      <th>pclass</th>\n",
       "      <th>sex</th>\n",
       "      <th>age</th>\n",
       "      <th>sibsp</th>\n",
       "      <th>parch</th>\n",
       "      <th>fare</th>\n",
       "      <th>embarked</th>\n",
       "      <th>class</th>\n",
       "      <th>who</th>\n",
       "      <th>adult_male</th>\n",
       "      <th>deck</th>\n",
       "      <th>embark_town</th>\n",
       "      <th>alive</th>\n",
       "      <th>alone</th>\n",
       "    </tr>\n",
       "  </thead>\n",
       "  <tbody>\n",
       "    <tr>\n",
       "      <td>0</td>\n",
       "      <td>0</td>\n",
       "      <td>3</td>\n",
       "      <td>male</td>\n",
       "      <td>(10-30)</td>\n",
       "      <td>1</td>\n",
       "      <td>0</td>\n",
       "      <td>7.2500</td>\n",
       "      <td>S</td>\n",
       "      <td>Third</td>\n",
       "      <td>man</td>\n",
       "      <td>True</td>\n",
       "      <td>NaN</td>\n",
       "      <td>Southampton</td>\n",
       "      <td>no</td>\n",
       "      <td>False</td>\n",
       "    </tr>\n",
       "    <tr>\n",
       "      <td>1</td>\n",
       "      <td>1</td>\n",
       "      <td>1</td>\n",
       "      <td>female</td>\n",
       "      <td>(30-60)</td>\n",
       "      <td>1</td>\n",
       "      <td>0</td>\n",
       "      <td>71.2833</td>\n",
       "      <td>C</td>\n",
       "      <td>First</td>\n",
       "      <td>woman</td>\n",
       "      <td>False</td>\n",
       "      <td>C</td>\n",
       "      <td>Cherbourg</td>\n",
       "      <td>yes</td>\n",
       "      <td>False</td>\n",
       "    </tr>\n",
       "    <tr>\n",
       "      <td>2</td>\n",
       "      <td>1</td>\n",
       "      <td>3</td>\n",
       "      <td>female</td>\n",
       "      <td>(10-30)</td>\n",
       "      <td>0</td>\n",
       "      <td>0</td>\n",
       "      <td>7.9250</td>\n",
       "      <td>S</td>\n",
       "      <td>Third</td>\n",
       "      <td>woman</td>\n",
       "      <td>False</td>\n",
       "      <td>NaN</td>\n",
       "      <td>Southampton</td>\n",
       "      <td>yes</td>\n",
       "      <td>True</td>\n",
       "    </tr>\n",
       "    <tr>\n",
       "      <td>3</td>\n",
       "      <td>1</td>\n",
       "      <td>1</td>\n",
       "      <td>female</td>\n",
       "      <td>(30-60)</td>\n",
       "      <td>1</td>\n",
       "      <td>0</td>\n",
       "      <td>53.1000</td>\n",
       "      <td>S</td>\n",
       "      <td>First</td>\n",
       "      <td>woman</td>\n",
       "      <td>False</td>\n",
       "      <td>C</td>\n",
       "      <td>Southampton</td>\n",
       "      <td>yes</td>\n",
       "      <td>False</td>\n",
       "    </tr>\n",
       "    <tr>\n",
       "      <td>4</td>\n",
       "      <td>0</td>\n",
       "      <td>3</td>\n",
       "      <td>male</td>\n",
       "      <td>(30-60)</td>\n",
       "      <td>0</td>\n",
       "      <td>0</td>\n",
       "      <td>8.0500</td>\n",
       "      <td>S</td>\n",
       "      <td>Third</td>\n",
       "      <td>man</td>\n",
       "      <td>True</td>\n",
       "      <td>NaN</td>\n",
       "      <td>Southampton</td>\n",
       "      <td>no</td>\n",
       "      <td>True</td>\n",
       "    </tr>\n",
       "  </tbody>\n",
       "</table>\n",
       "</div>"
      ],
      "text/plain": [
       "   survived  pclass     sex      age  sibsp  parch     fare embarked  class    who  adult_male deck  embark_town alive  alone\n",
       "0         0       3    male  (10-30)      1      0   7.2500        S  Third    man        True  NaN  Southampton    no  False\n",
       "1         1       1  female  (30-60)      1      0  71.2833        C  First  woman       False    C    Cherbourg   yes  False\n",
       "2         1       3  female  (10-30)      0      0   7.9250        S  Third  woman       False  NaN  Southampton   yes   True\n",
       "3         1       1  female  (30-60)      1      0  53.1000        S  First  woman       False    C  Southampton   yes  False\n",
       "4         0       3    male  (30-60)      0      0   8.0500        S  Third    man        True  NaN  Southampton    no   True"
      ]
     },
     "execution_count": 145,
     "metadata": {},
     "output_type": "execute_result"
    }
   ],
   "source": [
    "# Q 125\n",
    "\n",
    "import pandas as pd\n",
    "import seaborn as sns\n",
    "\n",
    "\n",
    "data = sns.load_dataset('titanic')\n",
    "def category(x):\n",
    "    if x<=10:\n",
    "        return '(0-10)' \n",
    "    elif x<=30:\n",
    "        return '(10-30)'\n",
    "    elif x<=60:\n",
    "        return '(30-60)'\n",
    "    elif x<=80:\n",
    "        return '(60-80)'\n",
    "    \n",
    "data['age'] = pd.Categorical((data['age']).apply(category))   \n",
    "data.head()"
   ]
  },
  {
   "cell_type": "code",
   "execution_count": 146,
   "metadata": {},
   "outputs": [
    {
     "data": {
      "text/html": [
       "<div>\n",
       "<style scoped>\n",
       "    .dataframe tbody tr th:only-of-type {\n",
       "        vertical-align: middle;\n",
       "    }\n",
       "\n",
       "    .dataframe tbody tr th {\n",
       "        vertical-align: top;\n",
       "    }\n",
       "\n",
       "    .dataframe thead th {\n",
       "        text-align: right;\n",
       "    }\n",
       "</style>\n",
       "<table border=\"1\" class=\"dataframe\">\n",
       "  <thead>\n",
       "    <tr style=\"text-align: right;\">\n",
       "      <th>sex</th>\n",
       "      <th>female</th>\n",
       "      <th>male</th>\n",
       "    </tr>\n",
       "    <tr>\n",
       "      <th>age</th>\n",
       "      <th></th>\n",
       "      <th></th>\n",
       "    </tr>\n",
       "  </thead>\n",
       "  <tbody>\n",
       "    <tr>\n",
       "      <td>(0-10)</td>\n",
       "      <td>0.612903</td>\n",
       "      <td>0.575758</td>\n",
       "    </tr>\n",
       "    <tr>\n",
       "      <td>(10-30)</td>\n",
       "      <td>0.748031</td>\n",
       "      <td>0.151376</td>\n",
       "    </tr>\n",
       "    <tr>\n",
       "      <td>(30-60)</td>\n",
       "      <td>0.800000</td>\n",
       "      <td>0.213115</td>\n",
       "    </tr>\n",
       "    <tr>\n",
       "      <td>(60-80)</td>\n",
       "      <td>1.000000</td>\n",
       "      <td>0.105263</td>\n",
       "    </tr>\n",
       "  </tbody>\n",
       "</table>\n",
       "</div>"
      ],
      "text/plain": [
       "sex        female      male\n",
       "age                        \n",
       "(0-10)   0.612903  0.575758\n",
       "(10-30)  0.748031  0.151376\n",
       "(30-60)  0.800000  0.213115\n",
       "(60-80)  1.000000  0.105263"
      ]
     },
     "execution_count": 146,
     "metadata": {},
     "output_type": "execute_result"
    }
   ],
   "source": [
    "# Q 126\n",
    "\n",
    "# used categories from previous task\n",
    "\n",
    "data.pivot_table(columns='sex', index='age',values='survived')"
   ]
  },
  {
   "cell_type": "code",
   "execution_count": 147,
   "metadata": {},
   "outputs": [
    {
     "data": {
      "text/html": [
       "<div>\n",
       "<style scoped>\n",
       "    .dataframe tbody tr th:only-of-type {\n",
       "        vertical-align: middle;\n",
       "    }\n",
       "\n",
       "    .dataframe tbody tr th {\n",
       "        vertical-align: top;\n",
       "    }\n",
       "\n",
       "    .dataframe thead tr th {\n",
       "        text-align: left;\n",
       "    }\n",
       "\n",
       "    .dataframe thead tr:last-of-type th {\n",
       "        text-align: right;\n",
       "    }\n",
       "</style>\n",
       "<table border=\"1\" class=\"dataframe\">\n",
       "  <thead>\n",
       "    <tr>\n",
       "      <th></th>\n",
       "      <th colspan=\"3\" halign=\"left\">adult_male</th>\n",
       "      <th colspan=\"3\" halign=\"left\">age</th>\n",
       "      <th colspan=\"3\" halign=\"left\">alive</th>\n",
       "      <th colspan=\"3\" halign=\"left\">alone</th>\n",
       "      <th colspan=\"3\" halign=\"left\">deck</th>\n",
       "      <th colspan=\"3\" halign=\"left\">embark_town</th>\n",
       "      <th colspan=\"3\" halign=\"left\">embarked</th>\n",
       "      <th colspan=\"3\" halign=\"left\">fare</th>\n",
       "      <th colspan=\"3\" halign=\"left\">parch</th>\n",
       "      <th colspan=\"3\" halign=\"left\">pclass</th>\n",
       "      <th colspan=\"3\" halign=\"left\">sibsp</th>\n",
       "      <th colspan=\"3\" halign=\"left\">survived</th>\n",
       "      <th colspan=\"3\" halign=\"left\">who</th>\n",
       "    </tr>\n",
       "    <tr>\n",
       "      <th>class</th>\n",
       "      <th>First</th>\n",
       "      <th>Second</th>\n",
       "      <th>Third</th>\n",
       "      <th>First</th>\n",
       "      <th>Second</th>\n",
       "      <th>Third</th>\n",
       "      <th>First</th>\n",
       "      <th>Second</th>\n",
       "      <th>Third</th>\n",
       "      <th>First</th>\n",
       "      <th>Second</th>\n",
       "      <th>Third</th>\n",
       "      <th>First</th>\n",
       "      <th>Second</th>\n",
       "      <th>Third</th>\n",
       "      <th>First</th>\n",
       "      <th>Second</th>\n",
       "      <th>Third</th>\n",
       "      <th>First</th>\n",
       "      <th>Second</th>\n",
       "      <th>Third</th>\n",
       "      <th>First</th>\n",
       "      <th>Second</th>\n",
       "      <th>Third</th>\n",
       "      <th>First</th>\n",
       "      <th>Second</th>\n",
       "      <th>Third</th>\n",
       "      <th>First</th>\n",
       "      <th>Second</th>\n",
       "      <th>Third</th>\n",
       "      <th>First</th>\n",
       "      <th>Second</th>\n",
       "      <th>Third</th>\n",
       "      <th>First</th>\n",
       "      <th>Second</th>\n",
       "      <th>Third</th>\n",
       "      <th>First</th>\n",
       "      <th>Second</th>\n",
       "      <th>Third</th>\n",
       "    </tr>\n",
       "    <tr>\n",
       "      <th>sex</th>\n",
       "      <th></th>\n",
       "      <th></th>\n",
       "      <th></th>\n",
       "      <th></th>\n",
       "      <th></th>\n",
       "      <th></th>\n",
       "      <th></th>\n",
       "      <th></th>\n",
       "      <th></th>\n",
       "      <th></th>\n",
       "      <th></th>\n",
       "      <th></th>\n",
       "      <th></th>\n",
       "      <th></th>\n",
       "      <th></th>\n",
       "      <th></th>\n",
       "      <th></th>\n",
       "      <th></th>\n",
       "      <th></th>\n",
       "      <th></th>\n",
       "      <th></th>\n",
       "      <th></th>\n",
       "      <th></th>\n",
       "      <th></th>\n",
       "      <th></th>\n",
       "      <th></th>\n",
       "      <th></th>\n",
       "      <th></th>\n",
       "      <th></th>\n",
       "      <th></th>\n",
       "      <th></th>\n",
       "      <th></th>\n",
       "      <th></th>\n",
       "      <th></th>\n",
       "      <th></th>\n",
       "      <th></th>\n",
       "      <th></th>\n",
       "      <th></th>\n",
       "      <th></th>\n",
       "    </tr>\n",
       "  </thead>\n",
       "  <tbody>\n",
       "    <tr>\n",
       "      <td>female</td>\n",
       "      <td>94</td>\n",
       "      <td>76</td>\n",
       "      <td>144</td>\n",
       "      <td>85</td>\n",
       "      <td>74</td>\n",
       "      <td>102</td>\n",
       "      <td>94</td>\n",
       "      <td>76</td>\n",
       "      <td>144</td>\n",
       "      <td>94</td>\n",
       "      <td>76</td>\n",
       "      <td>144</td>\n",
       "      <td>81</td>\n",
       "      <td>10</td>\n",
       "      <td>6</td>\n",
       "      <td>92</td>\n",
       "      <td>76</td>\n",
       "      <td>144</td>\n",
       "      <td>92</td>\n",
       "      <td>76</td>\n",
       "      <td>144</td>\n",
       "      <td>94</td>\n",
       "      <td>76</td>\n",
       "      <td>144</td>\n",
       "      <td>94</td>\n",
       "      <td>76</td>\n",
       "      <td>144</td>\n",
       "      <td>94</td>\n",
       "      <td>76</td>\n",
       "      <td>144</td>\n",
       "      <td>94</td>\n",
       "      <td>76</td>\n",
       "      <td>144</td>\n",
       "      <td>94</td>\n",
       "      <td>76</td>\n",
       "      <td>144</td>\n",
       "      <td>94</td>\n",
       "      <td>76</td>\n",
       "      <td>144</td>\n",
       "    </tr>\n",
       "    <tr>\n",
       "      <td>male</td>\n",
       "      <td>122</td>\n",
       "      <td>108</td>\n",
       "      <td>347</td>\n",
       "      <td>101</td>\n",
       "      <td>99</td>\n",
       "      <td>253</td>\n",
       "      <td>122</td>\n",
       "      <td>108</td>\n",
       "      <td>347</td>\n",
       "      <td>122</td>\n",
       "      <td>108</td>\n",
       "      <td>347</td>\n",
       "      <td>94</td>\n",
       "      <td>6</td>\n",
       "      <td>6</td>\n",
       "      <td>122</td>\n",
       "      <td>108</td>\n",
       "      <td>347</td>\n",
       "      <td>122</td>\n",
       "      <td>108</td>\n",
       "      <td>347</td>\n",
       "      <td>122</td>\n",
       "      <td>108</td>\n",
       "      <td>347</td>\n",
       "      <td>122</td>\n",
       "      <td>108</td>\n",
       "      <td>347</td>\n",
       "      <td>122</td>\n",
       "      <td>108</td>\n",
       "      <td>347</td>\n",
       "      <td>122</td>\n",
       "      <td>108</td>\n",
       "      <td>347</td>\n",
       "      <td>122</td>\n",
       "      <td>108</td>\n",
       "      <td>347</td>\n",
       "      <td>122</td>\n",
       "      <td>108</td>\n",
       "      <td>347</td>\n",
       "    </tr>\n",
       "  </tbody>\n",
       "</table>\n",
       "</div>"
      ],
      "text/plain": [
       "       adult_male                age              alive              alone               deck              embark_town              embarked               fare              parch              pclass              sibsp              survived                who             \n",
       "class       First Second Third First Second Third First Second Third First Second Third First Second Third       First Second Third    First Second Third First Second Third First Second Third  First Second Third First Second Third    First Second Third First Second Third\n",
       "sex                                                                                                                                                                                                                                                                            \n",
       "female         94     76   144    85     74   102    94     76   144    94     76   144    81     10     6          92     76   144       92     76   144    94     76   144    94     76   144     94     76   144    94     76   144       94     76   144    94     76   144\n",
       "male          122    108   347   101     99   253   122    108   347   122    108   347    94      6     6         122    108   347      122    108   347   122    108   347   122    108   347    122    108   347   122    108   347      122    108   347   122    108   347"
      ]
     },
     "execution_count": 147,
     "metadata": {},
     "output_type": "execute_result"
    }
   ],
   "source": [
    "# Q 127\n",
    "\n",
    "\n",
    "import pandas as pd\n",
    "import seaborn as sns\n",
    "\n",
    "\n",
    "df = sns.load_dataset('titanic')\n",
    "pd.pivot_table(df,index = 'sex',columns='class',aggfunc='count')"
   ]
  },
  {
   "cell_type": "code",
   "execution_count": 148,
   "metadata": {},
   "outputs": [
    {
     "data": {
      "text/html": [
       "<div>\n",
       "<style scoped>\n",
       "    .dataframe tbody tr th:only-of-type {\n",
       "        vertical-align: middle;\n",
       "    }\n",
       "\n",
       "    .dataframe tbody tr th {\n",
       "        vertical-align: top;\n",
       "    }\n",
       "\n",
       "    .dataframe thead th {\n",
       "        text-align: right;\n",
       "    }\n",
       "</style>\n",
       "<table border=\"1\" class=\"dataframe\">\n",
       "  <thead>\n",
       "    <tr style=\"text-align: right;\">\n",
       "      <th>sex</th>\n",
       "      <th>female</th>\n",
       "      <th>male</th>\n",
       "    </tr>\n",
       "    <tr>\n",
       "      <th>alone</th>\n",
       "      <th></th>\n",
       "      <th></th>\n",
       "    </tr>\n",
       "  </thead>\n",
       "  <tbody>\n",
       "    <tr>\n",
       "      <td>False</td>\n",
       "      <td>0.712766</td>\n",
       "      <td>0.271084</td>\n",
       "    </tr>\n",
       "    <tr>\n",
       "      <td>True</td>\n",
       "      <td>0.785714</td>\n",
       "      <td>0.155718</td>\n",
       "    </tr>\n",
       "  </tbody>\n",
       "</table>\n",
       "</div>"
      ],
      "text/plain": [
       "sex      female      male\n",
       "alone                    \n",
       "False  0.712766  0.271084\n",
       "True   0.785714  0.155718"
      ]
     },
     "execution_count": 148,
     "metadata": {},
     "output_type": "execute_result"
    }
   ],
   "source": [
    "# Q 128\n",
    "\n",
    "import pandas as pd\n",
    "import seaborn as sns\n",
    "\n",
    "\n",
    "data = sns.load_dataset('titanic')\n",
    "data.pivot_table(columns='sex',index='alone', values='survived')"
   ]
  },
  {
   "cell_type": "code",
   "execution_count": 149,
   "metadata": {},
   "outputs": [
    {
     "data": {
      "text/html": [
       "<div>\n",
       "<style scoped>\n",
       "    .dataframe tbody tr th:only-of-type {\n",
       "        vertical-align: middle;\n",
       "    }\n",
       "\n",
       "    .dataframe tbody tr th {\n",
       "        vertical-align: top;\n",
       "    }\n",
       "\n",
       "    .dataframe thead th {\n",
       "        text-align: right;\n",
       "    }\n",
       "</style>\n",
       "<table border=\"1\" class=\"dataframe\">\n",
       "  <thead>\n",
       "    <tr style=\"text-align: right;\">\n",
       "      <th></th>\n",
       "      <th></th>\n",
       "      <th></th>\n",
       "      <th></th>\n",
       "      <th>probability of survival</th>\n",
       "    </tr>\n",
       "    <tr>\n",
       "      <th>class</th>\n",
       "      <th>sex</th>\n",
       "      <th>alone</th>\n",
       "      <th>embark_town</th>\n",
       "      <th></th>\n",
       "    </tr>\n",
       "  </thead>\n",
       "  <tbody>\n",
       "    <tr>\n",
       "      <td rowspan=\"10\" valign=\"top\">First</td>\n",
       "      <td rowspan=\"5\" valign=\"top\">female</td>\n",
       "      <td rowspan=\"3\" valign=\"top\">False</td>\n",
       "      <td>Cherbourg</td>\n",
       "      <td>1.000000</td>\n",
       "    </tr>\n",
       "    <tr>\n",
       "      <td>Queenstown</td>\n",
       "      <td>1.000000</td>\n",
       "    </tr>\n",
       "    <tr>\n",
       "      <td>Southampton</td>\n",
       "      <td>0.941176</td>\n",
       "    </tr>\n",
       "    <tr>\n",
       "      <td rowspan=\"2\" valign=\"top\">True</td>\n",
       "      <td>Cherbourg</td>\n",
       "      <td>0.944444</td>\n",
       "    </tr>\n",
       "    <tr>\n",
       "      <td>Southampton</td>\n",
       "      <td>1.000000</td>\n",
       "    </tr>\n",
       "    <tr>\n",
       "      <td rowspan=\"5\" valign=\"top\">male</td>\n",
       "      <td rowspan=\"3\" valign=\"top\">False</td>\n",
       "      <td>Cherbourg</td>\n",
       "      <td>0.473684</td>\n",
       "    </tr>\n",
       "    <tr>\n",
       "      <td>Queenstown</td>\n",
       "      <td>0.000000</td>\n",
       "    </tr>\n",
       "    <tr>\n",
       "      <td>Southampton</td>\n",
       "      <td>0.407407</td>\n",
       "    </tr>\n",
       "    <tr>\n",
       "      <td rowspan=\"2\" valign=\"top\">True</td>\n",
       "      <td>Cherbourg</td>\n",
       "      <td>0.347826</td>\n",
       "    </tr>\n",
       "    <tr>\n",
       "      <td>Southampton</td>\n",
       "      <td>0.326923</td>\n",
       "    </tr>\n",
       "    <tr>\n",
       "      <td rowspan=\"10\" valign=\"top\">Second</td>\n",
       "      <td rowspan=\"5\" valign=\"top\">female</td>\n",
       "      <td rowspan=\"2\" valign=\"top\">False</td>\n",
       "      <td>Cherbourg</td>\n",
       "      <td>1.000000</td>\n",
       "    </tr>\n",
       "    <tr>\n",
       "      <td>Southampton</td>\n",
       "      <td>0.923077</td>\n",
       "    </tr>\n",
       "    <tr>\n",
       "      <td rowspan=\"3\" valign=\"top\">True</td>\n",
       "      <td>Cherbourg</td>\n",
       "      <td>1.000000</td>\n",
       "    </tr>\n",
       "    <tr>\n",
       "      <td>Queenstown</td>\n",
       "      <td>1.000000</td>\n",
       "    </tr>\n",
       "    <tr>\n",
       "      <td>Southampton</td>\n",
       "      <td>0.892857</td>\n",
       "    </tr>\n",
       "    <tr>\n",
       "      <td rowspan=\"5\" valign=\"top\">male</td>\n",
       "      <td rowspan=\"2\" valign=\"top\">False</td>\n",
       "      <td>Cherbourg</td>\n",
       "      <td>0.166667</td>\n",
       "    </tr>\n",
       "    <tr>\n",
       "      <td>Southampton</td>\n",
       "      <td>0.300000</td>\n",
       "    </tr>\n",
       "    <tr>\n",
       "      <td rowspan=\"3\" valign=\"top\">True</td>\n",
       "      <td>Cherbourg</td>\n",
       "      <td>0.250000</td>\n",
       "    </tr>\n",
       "    <tr>\n",
       "      <td>Queenstown</td>\n",
       "      <td>0.000000</td>\n",
       "    </tr>\n",
       "    <tr>\n",
       "      <td>Southampton</td>\n",
       "      <td>0.089552</td>\n",
       "    </tr>\n",
       "    <tr>\n",
       "      <td rowspan=\"12\" valign=\"top\">Third</td>\n",
       "      <td rowspan=\"6\" valign=\"top\">female</td>\n",
       "      <td rowspan=\"3\" valign=\"top\">False</td>\n",
       "      <td>Cherbourg</td>\n",
       "      <td>0.611111</td>\n",
       "    </tr>\n",
       "    <tr>\n",
       "      <td>Queenstown</td>\n",
       "      <td>0.625000</td>\n",
       "    </tr>\n",
       "    <tr>\n",
       "      <td>Southampton</td>\n",
       "      <td>0.327586</td>\n",
       "    </tr>\n",
       "    <tr>\n",
       "      <td rowspan=\"3\" valign=\"top\">True</td>\n",
       "      <td>Cherbourg</td>\n",
       "      <td>0.800000</td>\n",
       "    </tr>\n",
       "    <tr>\n",
       "      <td>Queenstown</td>\n",
       "      <td>0.760000</td>\n",
       "    </tr>\n",
       "    <tr>\n",
       "      <td>Southampton</td>\n",
       "      <td>0.466667</td>\n",
       "    </tr>\n",
       "    <tr>\n",
       "      <td rowspan=\"6\" valign=\"top\">male</td>\n",
       "      <td rowspan=\"3\" valign=\"top\">False</td>\n",
       "      <td>Cherbourg</td>\n",
       "      <td>0.500000</td>\n",
       "    </tr>\n",
       "    <tr>\n",
       "      <td>Queenstown</td>\n",
       "      <td>0.100000</td>\n",
       "    </tr>\n",
       "    <tr>\n",
       "      <td>Southampton</td>\n",
       "      <td>0.142857</td>\n",
       "    </tr>\n",
       "    <tr>\n",
       "      <td rowspan=\"3\" valign=\"top\">True</td>\n",
       "      <td>Cherbourg</td>\n",
       "      <td>0.151515</td>\n",
       "    </tr>\n",
       "    <tr>\n",
       "      <td>Queenstown</td>\n",
       "      <td>0.068966</td>\n",
       "    </tr>\n",
       "    <tr>\n",
       "      <td>Southampton</td>\n",
       "      <td>0.123762</td>\n",
       "    </tr>\n",
       "  </tbody>\n",
       "</table>\n",
       "</div>"
      ],
      "text/plain": [
       "                                 probability of survival\n",
       "class  sex    alone embark_town                         \n",
       "First  female False Cherbourg                   1.000000\n",
       "                    Queenstown                  1.000000\n",
       "                    Southampton                 0.941176\n",
       "              True  Cherbourg                   0.944444\n",
       "                    Southampton                 1.000000\n",
       "       male   False Cherbourg                   0.473684\n",
       "                    Queenstown                  0.000000\n",
       "                    Southampton                 0.407407\n",
       "              True  Cherbourg                   0.347826\n",
       "                    Southampton                 0.326923\n",
       "Second female False Cherbourg                   1.000000\n",
       "                    Southampton                 0.923077\n",
       "              True  Cherbourg                   1.000000\n",
       "                    Queenstown                  1.000000\n",
       "                    Southampton                 0.892857\n",
       "       male   False Cherbourg                   0.166667\n",
       "                    Southampton                 0.300000\n",
       "              True  Cherbourg                   0.250000\n",
       "                    Queenstown                  0.000000\n",
       "                    Southampton                 0.089552\n",
       "Third  female False Cherbourg                   0.611111\n",
       "                    Queenstown                  0.625000\n",
       "                    Southampton                 0.327586\n",
       "              True  Cherbourg                   0.800000\n",
       "                    Queenstown                  0.760000\n",
       "                    Southampton                 0.466667\n",
       "       male   False Cherbourg                   0.500000\n",
       "                    Queenstown                  0.100000\n",
       "                    Southampton                 0.142857\n",
       "              True  Cherbourg                   0.151515\n",
       "                    Queenstown                  0.068966\n",
       "                    Southampton                 0.123762"
      ]
     },
     "execution_count": 149,
     "metadata": {},
     "output_type": "execute_result"
    }
   ],
   "source": [
    "# Q 129\n",
    "\n",
    "import seaborn as sns\n",
    "import pandas as pd\n",
    "import numpy as np\n",
    "\n",
    "df = sns.load_dataset('titanic')  \n",
    "df_pivot = pd.pivot_table(df,index=['class', 'sex', 'alone', 'embark_town'],values='survived',aggfunc='mean').rename(columns={'survived':'probability of survival'})\n",
    "df_pivot"
   ]
  },
  {
   "cell_type": "code",
   "execution_count": 150,
   "metadata": {},
   "outputs": [
    {
     "name": "stdout",
     "output_type": "stream",
     "text": [
      "Current date 2020-07-29\n",
      "Oldest date 1910-06-01\n",
      "Number of days between current date and the oldest date 40236 days, 0:00:00\n"
     ]
    }
   ],
   "source": [
    "# Q 130\n",
    "\n",
    "import pandas as pd\n",
    "from datetime import date\n",
    "\n",
    "df = pd.read_csv('ufo.csv')\n",
    "df['Date_time'] = pd.to_datetime(df['Date_time'])\n",
    "\n",
    "today = date.today()\n",
    "oldest =df['Date_time'].min().date()\n",
    "print('Current date', today)\n",
    "print('Oldest date', oldest)\n",
    "print('Number of days between current date and the oldest date', today-oldest)"
   ]
  },
  {
   "cell_type": "code",
   "execution_count": 151,
   "metadata": {},
   "outputs": [
    {
     "name": "stderr",
     "output_type": "stream",
     "text": [
      "C:\\Users\\Vanja\\Anaconda3\\lib\\site-packages\\ipykernel_launcher.py:9: FutureWarning: Comparing Series of datetimes with 'datetime.date'.  Currently, the\n",
      "'datetime.date' is coerced to a datetime. In the future pandas will\n",
      "not coerce, and a TypeError will be raised. To retain the current\n",
      "behavior, convert the 'datetime.date' to a datetime with\n",
      "'pd.Timestamp'.\n",
      "  if __name__ == '__main__':\n",
      "C:\\Users\\Vanja\\Anaconda3\\lib\\site-packages\\ipykernel_launcher.py:9: UserWarning: Boolean Series key will be reindexed to match DataFrame index.\n",
      "  if __name__ == '__main__':\n"
     ]
    },
    {
     "data": {
      "text/html": [
       "<div>\n",
       "<style scoped>\n",
       "    .dataframe tbody tr th:only-of-type {\n",
       "        vertical-align: middle;\n",
       "    }\n",
       "\n",
       "    .dataframe tbody tr th {\n",
       "        vertical-align: top;\n",
       "    }\n",
       "\n",
       "    .dataframe thead th {\n",
       "        text-align: right;\n",
       "    }\n",
       "</style>\n",
       "<table border=\"1\" class=\"dataframe\">\n",
       "  <thead>\n",
       "    <tr style=\"text-align: right;\">\n",
       "      <th></th>\n",
       "      <th>Date_time</th>\n",
       "      <th>city</th>\n",
       "      <th>state/province</th>\n",
       "      <th>country</th>\n",
       "      <th>UFO_shape</th>\n",
       "      <th>length_of_encounter_seconds</th>\n",
       "      <th>described_duration_of_encounter</th>\n",
       "      <th>description</th>\n",
       "      <th>date_documented</th>\n",
       "      <th>latitude</th>\n",
       "      <th>longitude</th>\n",
       "    </tr>\n",
       "  </thead>\n",
       "  <tbody>\n",
       "    <tr>\n",
       "      <td>33</td>\n",
       "      <td>1951-06-01 07:00:00</td>\n",
       "      <td>brandon (canada)</td>\n",
       "      <td>mb</td>\n",
       "      <td>ca</td>\n",
       "      <td>disk</td>\n",
       "      <td>1800</td>\n",
       "      <td>30 minutes</td>\n",
       "      <td>Circular Craft and Man in Black Sighted in Sum...</td>\n",
       "      <td>2/18/2001</td>\n",
       "      <td>49.833333</td>\n",
       "      <td>-99.950000</td>\n",
       "    </tr>\n",
       "    <tr>\n",
       "      <td>34</td>\n",
       "      <td>1951-07-01 03:00:00</td>\n",
       "      <td>otis orchards</td>\n",
       "      <td>wa</td>\n",
       "      <td>us</td>\n",
       "      <td>disk</td>\n",
       "      <td>120</td>\n",
       "      <td>~2 minutes</td>\n",
       "      <td>Cigar shaped Disc darting back and forth (East...</td>\n",
       "      <td>12/23/2013</td>\n",
       "      <td>47.700556</td>\n",
       "      <td>-117.105278</td>\n",
       "    </tr>\n",
       "    <tr>\n",
       "      <td>35</td>\n",
       "      <td>1951-02-03 22:00:00</td>\n",
       "      <td>thompsonville</td>\n",
       "      <td>ct</td>\n",
       "      <td>us</td>\n",
       "      <td>disk</td>\n",
       "      <td>30</td>\n",
       "      <td>30 seconds</td>\n",
       "      <td>A golden-orange glowing bowl&amp;#44 flat on top&amp;#...</td>\n",
       "      <td>7/25/2004</td>\n",
       "      <td>41.996944</td>\n",
       "      <td>-72.599444</td>\n",
       "    </tr>\n",
       "    <tr>\n",
       "      <td>36</td>\n",
       "      <td>1951-06-03 13:00:00</td>\n",
       "      <td>jasper</td>\n",
       "      <td>nc</td>\n",
       "      <td>us</td>\n",
       "      <td>oval</td>\n",
       "      <td>300</td>\n",
       "      <td>5 minutes</td>\n",
       "      <td>MIDDAY OVAL SHAPE&amp;#44 ANITQUE COLOR OBJECT SIT...</td>\n",
       "      <td>6/20/2005</td>\n",
       "      <td>35.201389</td>\n",
       "      <td>-77.206944</td>\n",
       "    </tr>\n",
       "    <tr>\n",
       "      <td>37</td>\n",
       "      <td>1952-07-01 15:00:00</td>\n",
       "      <td>sebeka</td>\n",
       "      <td>mn</td>\n",
       "      <td>us</td>\n",
       "      <td>other</td>\n",
       "      <td>1800</td>\n",
       "      <td>30 min</td>\n",
       "      <td>Silver donut shape object sighted over rural M...</td>\n",
       "      <td>12/12/2011</td>\n",
       "      <td>46.630000</td>\n",
       "      <td>-95.088611</td>\n",
       "    </tr>\n",
       "  </tbody>\n",
       "</table>\n",
       "</div>"
      ],
      "text/plain": [
       "             Date_time              city state/province country UFO_shape  length_of_encounter_seconds described_duration_of_encounter                                        description date_documented   latitude   longitude\n",
       "33 1951-06-01 07:00:00  brandon (canada)             mb      ca      disk                         1800                      30 minutes  Circular Craft and Man in Black Sighted in Sum...       2/18/2001  49.833333  -99.950000\n",
       "34 1951-07-01 03:00:00     otis orchards             wa      us      disk                          120                      ~2 minutes  Cigar shaped Disc darting back and forth (East...      12/23/2013  47.700556 -117.105278\n",
       "35 1951-02-03 22:00:00     thompsonville             ct      us      disk                           30                      30 seconds  A golden-orange glowing bowl&#44 flat on top&#...       7/25/2004  41.996944  -72.599444\n",
       "36 1951-06-03 13:00:00            jasper             nc      us      oval                          300                       5 minutes  MIDDAY OVAL SHAPE&#44 ANITQUE COLOR OBJECT SIT...       6/20/2005  35.201389  -77.206944\n",
       "37 1952-07-01 15:00:00            sebeka             mn      us     other                         1800                          30 min  Silver donut shape object sighted over rural M...      12/12/2011  46.630000  -95.088611"
      ]
     },
     "execution_count": 151,
     "metadata": {},
     "output_type": "execute_result"
    }
   ],
   "source": [
    "# Q 131\n",
    "\n",
    "import pandas as pd\n",
    "\n",
    "df = pd.read_csv('ufo.csv')\n",
    "df['Date_time'] = pd.to_datetime(df['Date_time'])\n",
    "\n",
    "\n",
    "DF = df[df['Date_time']>=date(1950,10,10)][df['Date_time']<=date(1960,10,10)]\n",
    "DF.head()"
   ]
  },
  {
   "cell_type": "code",
   "execution_count": 152,
   "metadata": {},
   "outputs": [
    {
     "data": {
      "text/html": [
       "<div>\n",
       "<style scoped>\n",
       "    .dataframe tbody tr th:only-of-type {\n",
       "        vertical-align: middle;\n",
       "    }\n",
       "\n",
       "    .dataframe tbody tr th {\n",
       "        vertical-align: top;\n",
       "    }\n",
       "\n",
       "    .dataframe thead th {\n",
       "        text-align: right;\n",
       "    }\n",
       "</style>\n",
       "<table border=\"1\" class=\"dataframe\">\n",
       "  <thead>\n",
       "    <tr style=\"text-align: right;\">\n",
       "      <th></th>\n",
       "      <th>Date_time</th>\n",
       "      <th>city</th>\n",
       "      <th>state/province</th>\n",
       "      <th>country</th>\n",
       "      <th>UFO_shape</th>\n",
       "      <th>length_of_encounter_seconds</th>\n",
       "      <th>described_duration_of_encounter</th>\n",
       "      <th>description</th>\n",
       "      <th>date_documented</th>\n",
       "      <th>latitude</th>\n",
       "      <th>longitude</th>\n",
       "      <th>year</th>\n",
       "      <th>month</th>\n",
       "      <th>day</th>\n",
       "      <th>hour</th>\n",
       "      <th>minute</th>\n",
       "      <th>second</th>\n",
       "      <th>day of week</th>\n",
       "    </tr>\n",
       "  </thead>\n",
       "  <tbody>\n",
       "    <tr>\n",
       "      <td>0</td>\n",
       "      <td>1910-06-01 15:00:00</td>\n",
       "      <td>wills point</td>\n",
       "      <td>tx</td>\n",
       "      <td>us</td>\n",
       "      <td>cigar</td>\n",
       "      <td>120</td>\n",
       "      <td>2 minutes</td>\n",
       "      <td>Cigar shaped object moving from West to East</td>\n",
       "      <td>4/16/2005</td>\n",
       "      <td>32.709167</td>\n",
       "      <td>-96.008056</td>\n",
       "      <td>1910</td>\n",
       "      <td>6</td>\n",
       "      <td>1</td>\n",
       "      <td>15</td>\n",
       "      <td>0</td>\n",
       "      <td>0</td>\n",
       "      <td>2</td>\n",
       "    </tr>\n",
       "    <tr>\n",
       "      <td>1</td>\n",
       "      <td>1920-06-11 21:00:00</td>\n",
       "      <td>cicero</td>\n",
       "      <td>in</td>\n",
       "      <td>us</td>\n",
       "      <td>unknown</td>\n",
       "      <td>60</td>\n",
       "      <td>1 minute</td>\n",
       "      <td>((NUFORC Note:  Probable hoax.  Note date.  PD...</td>\n",
       "      <td>5/12/2009</td>\n",
       "      <td>40.123889</td>\n",
       "      <td>-86.013333</td>\n",
       "      <td>1920</td>\n",
       "      <td>6</td>\n",
       "      <td>11</td>\n",
       "      <td>21</td>\n",
       "      <td>0</td>\n",
       "      <td>0</td>\n",
       "      <td>4</td>\n",
       "    </tr>\n",
       "    <tr>\n",
       "      <td>2</td>\n",
       "      <td>1929-07-05 14:00:00</td>\n",
       "      <td>buchanan  (or burns)</td>\n",
       "      <td>or</td>\n",
       "      <td>us</td>\n",
       "      <td>disk</td>\n",
       "      <td>60</td>\n",
       "      <td>1min</td>\n",
       "      <td>we were traveling east of burns&amp;#44clmbing up ...</td>\n",
       "      <td>8/16/2002</td>\n",
       "      <td>43.642500</td>\n",
       "      <td>-118.627500</td>\n",
       "      <td>1929</td>\n",
       "      <td>7</td>\n",
       "      <td>5</td>\n",
       "      <td>14</td>\n",
       "      <td>0</td>\n",
       "      <td>0</td>\n",
       "      <td>4</td>\n",
       "    </tr>\n",
       "    <tr>\n",
       "      <td>3</td>\n",
       "      <td>1931-06-01 13:00:00</td>\n",
       "      <td>abilene</td>\n",
       "      <td>ks</td>\n",
       "      <td>us</td>\n",
       "      <td>disk</td>\n",
       "      <td>1800</td>\n",
       "      <td>30 min. approx.</td>\n",
       "      <td>This is a what my mother related to me regardi...</td>\n",
       "      <td>2/14/2006</td>\n",
       "      <td>38.917222</td>\n",
       "      <td>-97.213611</td>\n",
       "      <td>1931</td>\n",
       "      <td>6</td>\n",
       "      <td>1</td>\n",
       "      <td>13</td>\n",
       "      <td>0</td>\n",
       "      <td>0</td>\n",
       "      <td>0</td>\n",
       "    </tr>\n",
       "    <tr>\n",
       "      <td>4</td>\n",
       "      <td>1939-06-01 20:00:00</td>\n",
       "      <td>waterloo</td>\n",
       "      <td>al</td>\n",
       "      <td>us</td>\n",
       "      <td>fireball</td>\n",
       "      <td>300</td>\n",
       "      <td>5 minutes</td>\n",
       "      <td>4 high school students see bright&amp;#44 ground-l...</td>\n",
       "      <td>2/21/2014</td>\n",
       "      <td>34.918056</td>\n",
       "      <td>-88.064167</td>\n",
       "      <td>1939</td>\n",
       "      <td>6</td>\n",
       "      <td>1</td>\n",
       "      <td>20</td>\n",
       "      <td>0</td>\n",
       "      <td>0</td>\n",
       "      <td>3</td>\n",
       "    </tr>\n",
       "  </tbody>\n",
       "</table>\n",
       "</div>"
      ],
      "text/plain": [
       "            Date_time                  city state/province country UFO_shape  length_of_encounter_seconds described_duration_of_encounter                                        description date_documented   latitude   longitude  year  month  day  hour  minute  second  day of week\n",
       "0 1910-06-01 15:00:00           wills point             tx      us     cigar                          120                       2 minutes       Cigar shaped object moving from West to East       4/16/2005  32.709167  -96.008056  1910      6    1    15       0       0            2\n",
       "1 1920-06-11 21:00:00                cicero             in      us   unknown                           60                        1 minute  ((NUFORC Note:  Probable hoax.  Note date.  PD...       5/12/2009  40.123889  -86.013333  1920      6   11    21       0       0            4\n",
       "2 1929-07-05 14:00:00  buchanan  (or burns)             or      us      disk                           60                            1min  we were traveling east of burns&#44clmbing up ...       8/16/2002  43.642500 -118.627500  1929      7    5    14       0       0            4\n",
       "3 1931-06-01 13:00:00               abilene             ks      us      disk                         1800                 30 min. approx.  This is a what my mother related to me regardi...       2/14/2006  38.917222  -97.213611  1931      6    1    13       0       0            0\n",
       "4 1939-06-01 20:00:00              waterloo             al      us  fireball                          300                       5 minutes  4 high school students see bright&#44 ground-l...       2/21/2014  34.918056  -88.064167  1939      6    1    20       0       0            3"
      ]
     },
     "execution_count": 152,
     "metadata": {},
     "output_type": "execute_result"
    }
   ],
   "source": [
    "# Q 132\n",
    "\n",
    "\n",
    "import pandas as pd\n",
    "import datetime\n",
    "\n",
    "df = pd.read_csv('ufo.csv')\n",
    "df['Date_time'] = pd.to_datetime(df['Date_time'])\n",
    "\n",
    "df['year'] = df['Date_time'].dt.year\n",
    "df['month'] = df['Date_time'].dt.month\n",
    "df['day'] = df['Date_time'].dt.day\n",
    "df['hour'] = df['Date_time'].dt.hour\n",
    "df['minute'] = df['Date_time'].dt.minute\n",
    "df['second'] = df['Date_time'].dt.second\n",
    "df['day of week'] = df['Date_time'].dt.dayofweek\n",
    "df.head()"
   ]
  },
  {
   "cell_type": "code",
   "execution_count": 153,
   "metadata": {},
   "outputs": [
    {
     "data": {
      "text/html": [
       "<div>\n",
       "<style scoped>\n",
       "    .dataframe tbody tr th:only-of-type {\n",
       "        vertical-align: middle;\n",
       "    }\n",
       "\n",
       "    .dataframe tbody tr th {\n",
       "        vertical-align: top;\n",
       "    }\n",
       "\n",
       "    .dataframe thead th {\n",
       "        text-align: right;\n",
       "    }\n",
       "</style>\n",
       "<table border=\"1\" class=\"dataframe\">\n",
       "  <thead>\n",
       "    <tr style=\"text-align: right;\">\n",
       "      <th>country</th>\n",
       "      <th>ca</th>\n",
       "      <th>us</th>\n",
       "    </tr>\n",
       "    <tr>\n",
       "      <th>Year</th>\n",
       "      <th></th>\n",
       "      <th></th>\n",
       "    </tr>\n",
       "  </thead>\n",
       "  <tbody>\n",
       "    <tr>\n",
       "      <td>1910</td>\n",
       "      <td>NaN</td>\n",
       "      <td>1.0</td>\n",
       "    </tr>\n",
       "    <tr>\n",
       "      <td>1920</td>\n",
       "      <td>NaN</td>\n",
       "      <td>1.0</td>\n",
       "    </tr>\n",
       "    <tr>\n",
       "      <td>1929</td>\n",
       "      <td>NaN</td>\n",
       "      <td>1.0</td>\n",
       "    </tr>\n",
       "    <tr>\n",
       "      <td>1931</td>\n",
       "      <td>NaN</td>\n",
       "      <td>1.0</td>\n",
       "    </tr>\n",
       "    <tr>\n",
       "      <td>1939</td>\n",
       "      <td>NaN</td>\n",
       "      <td>2.0</td>\n",
       "    </tr>\n",
       "    <tr>\n",
       "      <td>...</td>\n",
       "      <td>...</td>\n",
       "      <td>...</td>\n",
       "    </tr>\n",
       "    <tr>\n",
       "      <td>2000</td>\n",
       "      <td>1.0</td>\n",
       "      <td>11.0</td>\n",
       "    </tr>\n",
       "    <tr>\n",
       "      <td>2001</td>\n",
       "      <td>1.0</td>\n",
       "      <td>14.0</td>\n",
       "    </tr>\n",
       "    <tr>\n",
       "      <td>2002</td>\n",
       "      <td>1.0</td>\n",
       "      <td>13.0</td>\n",
       "    </tr>\n",
       "    <tr>\n",
       "      <td>2003</td>\n",
       "      <td>NaN</td>\n",
       "      <td>9.0</td>\n",
       "    </tr>\n",
       "    <tr>\n",
       "      <td>2004</td>\n",
       "      <td>1.0</td>\n",
       "      <td>6.0</td>\n",
       "    </tr>\n",
       "  </tbody>\n",
       "</table>\n",
       "<p>68 rows × 2 columns</p>\n",
       "</div>"
      ],
      "text/plain": [
       "country   ca    us\n",
       "Year              \n",
       "1910     NaN   1.0\n",
       "1920     NaN   1.0\n",
       "1929     NaN   1.0\n",
       "1931     NaN   1.0\n",
       "1939     NaN   2.0\n",
       "...      ...   ...\n",
       "2000     1.0  11.0\n",
       "2001     1.0  14.0\n",
       "2002     1.0  13.0\n",
       "2003     NaN   9.0\n",
       "2004     1.0   6.0\n",
       "\n",
       "[68 rows x 2 columns]"
      ]
     },
     "execution_count": 153,
     "metadata": {},
     "output_type": "execute_result"
    }
   ],
   "source": [
    "# Q 133\n",
    "\n",
    "\n",
    "import pandas as pd\n",
    "import numpy as np\n",
    "import datetime\n",
    "\n",
    "\n",
    "df = pd.read_csv('ufo.csv')\n",
    "df['Date_time'] = pd.to_datetime(df['Date_time'])\n",
    "\n",
    "def f(x):\n",
    "    return x.year\n",
    "\n",
    "df['Year'] = df['Date_time'].apply(f)\n",
    "pd.pivot_table(data=df,index='Year',columns = 'country',values='date_documented',aggfunc='count')"
   ]
  },
  {
   "cell_type": "code",
   "execution_count": 154,
   "metadata": {},
   "outputs": [
    {
     "data": {
      "text/plain": [
       "0      34652\n",
       "1      32476\n",
       "2      26704\n",
       "3      27286\n",
       "4      27293\n",
       "       ...  \n",
       "342        3\n",
       "343       20\n",
       "344        1\n",
       "345      971\n",
       "346        1\n",
       "Name: difference in days, Length: 347, dtype: int64"
      ]
     },
     "execution_count": 154,
     "metadata": {},
     "output_type": "execute_result"
    }
   ],
   "source": [
    "# Q 134\n",
    "\n",
    "\n",
    "import pandas as pd\n",
    "import numpy as np\n",
    "import datetime\n",
    "\n",
    "\n",
    "df = pd.read_csv('ufo.csv')\n",
    "df['Date_time'] = pd.to_datetime(df['Date_time'])\n",
    "df['date_documented'] = pd.to_datetime(df['date_documented'])\n",
    "\n",
    "def day(x):\n",
    "    return x.days\n",
    "    \n",
    "df['difference in days'] = (df['date_documented'] - df['Date_time']).apply(day)\n",
    "df['difference in days']"
   ]
  },
  {
   "cell_type": "code",
   "execution_count": 155,
   "metadata": {},
   "outputs": [
    {
     "name": "stdout",
     "output_type": "stream",
     "text": [
      "DatetimeIndex(['2020-02-29', '2020-03-31', '2020-04-30', '2020-05-31', '2020-06-30', '2020-07-31', '2020-08-31', '2020-09-30', '2020-10-31', '2020-11-30', '2020-12-31', '2021-01-31'], dtype='datetime64[ns]', freq='M')\n",
      "DatetimeIndex(['2020-02-23', '2020-03-01', '2020-03-08', '2020-03-15', '2020-03-22', '2020-03-29', '2020-04-05', '2020-04-12', '2020-04-19', '2020-04-26'], dtype='datetime64[ns]', freq='W-SUN')\n",
      "DatetimeIndex(['2020-02-22', '2020-02-23', '2020-02-24', '2020-02-25', '2020-02-26', '2020-02-27', '2020-02-28'], dtype='datetime64[ns]', freq='D')\n",
      "DatetimeIndex(['2020-02-22 00:00:00', '2020-02-22 01:00:00', '2020-02-22 02:00:00', '2020-02-22 03:00:00', '2020-02-22 04:00:00', '2020-02-22 05:00:00', '2020-02-22 06:00:00', '2020-02-22 07:00:00', '2020-02-22 08:00:00', '2020-02-22 09:00:00', '2020-02-22 10:00:00', '2020-02-22 11:00:00', '2020-02-22 12:00:00', '2020-02-22 13:00:00', '2020-02-22 14:00:00', '2020-02-22 15:00:00', '2020-02-22 16:00:00', '2020-02-22 17:00:00', '2020-02-22 18:00:00', '2020-02-22 19:00:00', '2020-02-22 20:00:00', '2020-02-22 21:00:00', '2020-02-22 22:00:00', '2020-02-22 23:00:00'], dtype='datetime64[ns]', freq='H')\n",
      "DatetimeIndex(['2020-02-22 00:00:00', '2020-02-22 00:01:00', '2020-02-22 00:02:00', '2020-02-22 00:03:00', '2020-02-22 00:04:00', '2020-02-22 00:05:00'], dtype='datetime64[ns]', freq='T')\n",
      "DatetimeIndex(['2020-02-22 00:00:00', '2020-02-22 00:00:01', '2020-02-22 00:00:02', '2020-02-22 00:00:03', '2020-02-22 00:00:04', '2020-02-22 00:00:05'], dtype='datetime64[ns]', freq='S')\n",
      "DatetimeIndex(['2020-02-23', '2020-03-22', '2020-04-19', '2020-05-17', '2020-06-14', '2020-07-12', '2020-08-09', '2020-09-06', '2020-10-04', '2020-11-01', '2020-11-29', '2020-12-27'], dtype='datetime64[ns]', freq='4W-SUN')\n"
     ]
    }
   ],
   "source": [
    "# Q 135\n",
    "\n",
    "\n",
    "import pandas as pd\n",
    "\n",
    "\n",
    "months = pd.date_range('2020-02-22',periods=12,freq='m')\n",
    "weeks =pd.date_range('2020-02-22',periods=10,freq='w')\n",
    "days = pd.date_range('2020-02-22',periods=7,freq='d')\n",
    "hours = pd.date_range('2020-02-22',periods=24,freq='h')\n",
    "minutes = pd.date_range('2020-02-22',periods=6,freq='min')\n",
    "seconds =pd.date_range('2020-02-22',periods=6,freq='s')\n",
    "four_weeks = pd.date_range('2020-02-22',periods=12,freq='4w')\n",
    "\n",
    "for i in (months,weeks,days,hours,minutes,seconds,four_weeks):\n",
    "    print(i)\n",
    "    "
   ]
  },
  {
   "cell_type": "code",
   "execution_count": 156,
   "metadata": {},
   "outputs": [
    {
     "name": "stdout",
     "output_type": "stream",
     "text": [
      "DatetimeIndex(['2020-02-22 00:00:00+00:00', '2020-02-22 01:00:00+00:00', '2020-02-22 02:00:00+00:00', '2020-02-22 03:00:00+00:00', '2020-02-22 04:00:00+00:00', '2020-02-22 05:00:00+00:00', '2020-02-22 06:00:00+00:00', '2020-02-22 07:00:00+00:00', '2020-02-22 08:00:00+00:00', '2020-02-22 09:00:00+00:00', '2020-02-22 10:00:00+00:00', '2020-02-22 11:00:00+00:00', '2020-02-22 12:00:00+00:00', '2020-02-22 13:00:00+00:00', '2020-02-22 14:00:00+00:00', '2020-02-22 15:00:00+00:00', '2020-02-22 16:00:00+00:00', '2020-02-22 17:00:00+00:00', '2020-02-22 18:00:00+00:00', '2020-02-22 19:00:00+00:00', '2020-02-22 20:00:00+00:00', '2020-02-22 21:00:00+00:00', '2020-02-22 22:00:00+00:00', '2020-02-22 23:00:00+00:00'], dtype='datetime64[ns, UTC]', freq='H')\n",
      "\n",
      "\n",
      "Belgrade DatetimeIndex(['2020-02-22 01:00:00+01:00', '2020-02-22 02:00:00+01:00', '2020-02-22 03:00:00+01:00', '2020-02-22 04:00:00+01:00', '2020-02-22 05:00:00+01:00', '2020-02-22 06:00:00+01:00', '2020-02-22 07:00:00+01:00', '2020-02-22 08:00:00+01:00', '2020-02-22 09:00:00+01:00', '2020-02-22 10:00:00+01:00', '2020-02-22 11:00:00+01:00', '2020-02-22 12:00:00+01:00', '2020-02-22 13:00:00+01:00', '2020-02-22 14:00:00+01:00', '2020-02-22 15:00:00+01:00', '2020-02-22 16:00:00+01:00', '2020-02-22 17:00:00+01:00', '2020-02-22 18:00:00+01:00', '2020-02-22 19:00:00+01:00', '2020-02-22 20:00:00+01:00', '2020-02-22 21:00:00+01:00', '2020-02-22 22:00:00+01:00', '2020-02-22 23:00:00+01:00', '2020-02-23 00:00:00+01:00'], dtype='datetime64[ns, Europe/Belgrade]', freq='H')\n"
     ]
    }
   ],
   "source": [
    "# Q 136\n",
    "\n",
    "import pandas as pd\n",
    "date_time = pd.date_range('2020-02-22', periods=24, freq='H')\n",
    "date_time = date_time.tz_localize('UTC')\n",
    "print(date_time)\n",
    "print('\\n')\n",
    "\n",
    "date_time = date_time.tz_convert('Europe/Belgrade')\n",
    "print('Belgrade',date_time)"
   ]
  },
  {
   "cell_type": "code",
   "execution_count": 157,
   "metadata": {},
   "outputs": [
    {
     "data": {
      "text/plain": [
       "Text(0, 0.5, 'Number of occurrences')"
      ]
     },
     "execution_count": 157,
     "metadata": {},
     "output_type": "execute_result"
    },
    {
     "data": {
      "image/png": "[encoded data removed]",
      "text/plain": [
       "<Figure size 864x504 with 1 Axes>"
      ]
     },
     "metadata": {
      "needs_background": "light"
     },
     "output_type": "display_data"
    }
   ],
   "source": [
    "# Q 137\n",
    "\n",
    "\n",
    "import pandas as pd\n",
    "\n",
    "\n",
    "df = pd.read_csv('ufo.csv')\n",
    "df['Date_time'] = pd.to_datetime(df['Date_time'])\n",
    "df['year'] = df['Date_time'].dt.year\n",
    "df_new = df.groupby('year').count().iloc[:,0]\n",
    "\n",
    "ax = df_new.plot.bar(x=df_new.index,y=df_new.values,figsize=(12,7), title= 'UFO data')\n",
    "ax.set_xlabel('year')\n",
    "ax.set_ylabel('Number of occurrences')"
   ]
  },
  {
   "cell_type": "code",
   "execution_count": 158,
   "metadata": {},
   "outputs": [
    {
     "name": "stdout",
     "output_type": "stream",
     "text": [
      "      January  February  March  April  May  June  July  Augsut  September  October  November  December\n",
      "year                                                                                                  \n",
      "1994        2         0      3      2    2     0     0       1          0        0         0         1\n",
      "1999        0         0      2      0    1     2     4       0          0        1         0         1\n",
      "1993        0         0      1      1    0     1     3       2          3        0         1         0\n",
      "1995        2         1      0      1    1     1     3       0          1        0         2         0\n",
      "1996        0         1      0      1    1     1     3       3          1        0         1         0\n",
      "2000        0         3      2      0    2     1     1       0          0        0         1         2\n",
      "1998        1         2      1      3    0     2     1       0          0        1         0         2\n",
      "1997        0         2      1      0    2     1     3       1          1        1         1         1\n",
      "2002        3         1      1      0    3     0     2       1          2        1         0         0\n",
      "2001        2         1      2      2    1     2     0       1          2        0         1         1\n"
     ]
    }
   ],
   "source": [
    "# Q 138\n",
    "\n",
    "import pandas as pd\n",
    "\n",
    "\n",
    "df = pd.read_csv('ufo.csv')\n",
    "df['Date_time'] = pd.to_datetime(df['Date_time'])\n",
    "df['year'] = df['Date_time'].dt.year\n",
    "df_new = df.groupby('year')['Date_time'].apply(list)\n",
    "max10 = df_new.apply(len).sort_values()[-10:]\n",
    "data = pd.DataFrame(df_new[max10.index])\n",
    "\n",
    "def seperate(lst):\n",
    "    output = []\n",
    "    for j in lst:\n",
    "        output.append(j.month)\n",
    "    return output\n",
    "\n",
    "for year in data.index:\n",
    "    data.loc[year] = data.loc[year].apply(seperate)\n",
    "\n",
    "lst = ['January',\"February\",\"March\",'April',\"May\",\"June\",'July',\"Augsut\",\"September\",\"October\",\"November\",'December']\n",
    "\n",
    "def c(x,k):\n",
    "    return x.count(k) \n",
    "\n",
    "m=1\n",
    "for month in lst:\n",
    "    data[month] = data['Date_time'].apply(c,k=m)\n",
    "    m= m+1\n",
    "    \n",
    "data = data.drop('Date_time',axis=1)\n",
    "print(data)\n"
   ]
  },
  {
   "cell_type": "code",
   "execution_count": 159,
   "metadata": {},
   "outputs": [
    {
     "data": {
      "text/plain": [
       "<matplotlib.axes._subplots.AxesSubplot at 0x23f29eb0cc8>"
      ]
     },
     "execution_count": 159,
     "metadata": {},
     "output_type": "execute_result"
    },
    {
     "data": {
      "image/png": "[encoded data removed]",
      "text/plain": [
       "<Figure size 432x288 with 2 Axes>"
      ]
     },
     "metadata": {
      "needs_background": "light"
     },
     "output_type": "display_data"
    }
   ],
   "source": [
    "# Q 139   same as previous one\n",
    "\n",
    "\n",
    "import pandas as pd\n",
    "import seaborn as sns\n",
    "\n",
    "\n",
    "df = pd.read_csv('ufo.csv')\n",
    "df['Date_time'] = pd.to_datetime(df['Date_time'])\n",
    "df['year'] = df['Date_time'].dt.year\n",
    "df_new = df.groupby('year')['Date_time'].apply(list)\n",
    "max10 = df_new.apply(len).sort_values()[-10:]\n",
    "data = pd.DataFrame(df_new[max10.index])\n",
    "\n",
    "def seperate(lst):\n",
    "    output = []\n",
    "    for j in lst:\n",
    "        output.append(j.month)\n",
    "    return output\n",
    "\n",
    "for year in data.index:\n",
    "    data.loc[year] = data.loc[year].apply(seperate)\n",
    "\n",
    "lst = ['January',\"February\",\"March\",'April',\"May\",\"June\",'July',\"Augsut\",\"September\",\"October\",\"November\",'December']\n",
    "\n",
    "def c(x,k):\n",
    "    return x.count(k) \n",
    "\n",
    "m=1\n",
    "for month in lst:\n",
    "    data[month] = data['Date_time'].apply(c,k=m)\n",
    "    m= m+1\n",
    "    \n",
    "data = data.drop('Date_time',axis=1)\n",
    "\n",
    "sns.heatmap(data)"
   ]
  },
  {
   "cell_type": "code",
   "execution_count": 160,
   "metadata": {},
   "outputs": [
    {
     "data": {
      "text/plain": [
       "Text(0.5, 1.0, 'Sample graph!')"
      ]
     },
     "execution_count": 160,
     "metadata": {},
     "output_type": "execute_result"
    },
    {
     "data": {
      "image/png": "[encoded data removed]",
      "text/plain": [
       "<Figure size 432x288 with 1 Axes>"
      ]
     },
     "metadata": {
      "needs_background": "light"
     },
     "output_type": "display_data"
    }
   ],
   "source": [
    "# Q 141\n",
    "\n",
    "\n",
    "import pandas as pd\n",
    "\n",
    "\n",
    "df = pd.DataFrame(data = [2,4,1], index = range(1,4), columns = ['y-axis'])\n",
    "ax = df.plot(legend=False)\n",
    "ax.set_ylabel('y-axis')\n",
    "ax.set_xlabel('x-axis')\n",
    "ax.set_title('Sample graph!')\n"
   ]
  },
  {
   "cell_type": "code",
   "execution_count": 161,
   "metadata": {},
   "outputs": [
    {
     "data": {
      "text/plain": [
       "<matplotlib.axes._subplots.AxesSubplot at 0x23f2a173f88>"
      ]
     },
     "execution_count": 161,
     "metadata": {},
     "output_type": "execute_result"
    },
    {
     "data": {
      "image/png": "[encoded data removed]",
      "text/plain": [
       "<Figure size 432x288 with 1 Axes>"
      ]
     },
     "metadata": {
      "needs_background": "light"
     },
     "output_type": "display_data"
    }
   ],
   "source": [
    "# 142\n",
    "\n",
    "import pandas as pd\n",
    "\n",
    "columns = ['Date','Open','High','Low','Close']\n",
    "l1 = '10-03-16,774.25,776.065002,769.5,772.559998'.split(',')\n",
    "l2 = '10-04-16 , 776.030029, 778.710022,772.890015,776.429993'.split(',')\n",
    "l3 = '10-05-16 , 779.309998, 782.070007,775.650024,776.469971'.split(',')\n",
    "l4 = '10-06-16 , 779 , 780.47998,775.539978,776.859985'.split(',')\n",
    "l5 = '10-07-16,779.659973, 779.659973 , 770.75 , 775.080017'.split(',')\n",
    "lst = [l1,l2,l3,l4,l5]\n",
    "df = pd.DataFrame(data=lst,columns=columns)\n",
    "\n",
    "for column in ('Open','High','Low','Close'):\n",
    "    df[column] = pd.to_numeric(df[column])\n",
    "\n",
    "df['Date'] = pd.to_datetime(df['Date'])\n",
    "df.iloc[:,1::].plot()"
   ]
  },
  {
   "cell_type": "code",
   "execution_count": 162,
   "metadata": {},
   "outputs": [
    {
     "data": {
      "text/plain": [
       "Text(0, 0.5, 'y - axis')"
      ]
     },
     "execution_count": 162,
     "metadata": {},
     "output_type": "execute_result"
    },
    {
     "data": {
      "image/png": "[encoded data removed]",
      "text/plain": [
       "<Figure size 432x288 with 1 Axes>"
      ]
     },
     "metadata": {
      "needs_background": "light"
     },
     "output_type": "display_data"
    }
   ],
   "source": [
    "# Q143\n",
    "\n",
    "import pandas as pd\n",
    "\n",
    "x = [10,20,30]\n",
    "y1 = [20,40,0]\n",
    "y2 = [40,0,30]\n",
    "df = pd.DataFrame(data= list(zip(y1,y2)), index=x, columns=['line 1','line2'])\n",
    "\n",
    "graph = df.plot(title='Two or more lines with suitable legends')\n",
    "graph.set_xlabel('x - axis')\n",
    "graph.set_ylabel('y - axis')"
   ]
  },
  {
   "cell_type": "code",
   "execution_count": 163,
   "metadata": {},
   "outputs": [
    {
     "data": {
      "image/png": "[encoded data removed]",
      "text/plain": [
       "<Figure size 432x288 with 1 Axes>"
      ]
     },
     "metadata": {
      "needs_background": "light"
     },
     "output_type": "display_data"
    }
   ],
   "source": [
    "# Q 144\n",
    "\n",
    "import matplotlib.pyplot as plt\n",
    "\n",
    "\n",
    "x = ['Java', 'Python', 'PHP', 'JavaScript', 'C#', 'C++']\n",
    "popularity = [22.2, 17.6, 8.8, 8, 7.7, 6.7]\n",
    "ax = plt.bar(x, popularity, color='b')\n",
    "plt.xlabel('Languages')\n",
    "plt.ylabel('Popularity')\n",
    "plt.title('PopularitY of Programming Language\\n Worldwide, Oct 2017 compared to a year ago')\n",
    "plt.minorticks_on()\n",
    "plt.grid(b=True, axis='both',color='r')\n",
    "plt.grid(b=True, which='minor', axis='both',color='black',linestyle=':')\n",
    "plt.show()"
   ]
  },
  {
   "cell_type": "code",
   "execution_count": 164,
   "metadata": {},
   "outputs": [
    {
     "data": {
      "image/png": "[encoded data removed]",
      "text/plain": [
       "<Figure size 432x288 with 1 Axes>"
      ]
     },
     "metadata": {
      "needs_background": "light"
     },
     "output_type": "display_data"
    }
   ],
   "source": [
    "# Q 145\n",
    "\n",
    "import matplotlib.pyplot as plt\n",
    "\n",
    "x = ['Java', 'Python', 'PHP', 'JS', 'C#', 'C++']\n",
    "popularity = [22.2, 17.6, 8.8, 8, 7.7, 6.7]\n",
    "ax = plt.barh(x, popularity, color='green')\n",
    "plt.xlabel('Popularity')\n",
    "plt.ylabel('Languages')\n",
    "plt.title('PopularitY of Programming Language\\n Worldwide, Oct 2017 compared to a year ago')\n",
    "plt.minorticks_on()\n",
    "plt.grid(b=True, axis='both',color='r')\n",
    "plt.grid(b=True, which='minor', axis='both',color='black',linestyle=':')\n",
    "plt.show()"
   ]
  },
  {
   "cell_type": "code",
   "execution_count": 165,
   "metadata": {},
   "outputs": [
    {
     "data": {
      "image/png": "[encoded data removed]",
      "text/plain": [
       "<Figure size 432x288 with 1 Axes>"
      ]
     },
     "metadata": {
      "needs_background": "light"
     },
     "output_type": "display_data"
    },
    {
     "data": {
      "text/plain": [
       "<Figure size 1440x1440 with 0 Axes>"
      ]
     },
     "metadata": {},
     "output_type": "display_data"
    }
   ],
   "source": [
    "# Q 146\n",
    "\n",
    "import matplotlib.pyplot as plt\n",
    "\n",
    "\n",
    "x = ['Java', 'Python', 'PHP', 'JavaScript', 'C#', 'C++']\n",
    "popularity = [22.2, 17.6, 8.8, 8, 7.7, 6.7]\n",
    "ax = plt.bar(x, popularity, color='b', alpha = 0.4)\n",
    "plt.subplots_adjust(bottom=0.4, top=.8)\n",
    "plt.xlabel('Languages')\n",
    "plt.ylabel('Popularity')\n",
    "plt.xticks(x, rotation=90)\n",
    "plt.title('PopularitY of Programming Language\\n Worldwide, Oct 2017 compared to a year ago')\n",
    "plt.minorticks_on()\n",
    "plt.grid(b=True, axis='both',color='r')\n",
    "plt.grid(b=True, which='minor', axis='both',color='black',linestyle=':')\n",
    "plt.figure(figsize=(20,20))\n",
    "plt.show()"
   ]
  },
  {
   "cell_type": "code",
   "execution_count": 166,
   "metadata": {},
   "outputs": [
    {
     "data": {
      "image/png": "[encoded data removed]",
      "text/plain": [
       "<Figure size 432x288 with 1 Axes>"
      ]
     },
     "metadata": {
      "needs_background": "light"
     },
     "output_type": "display_data"
    }
   ],
   "source": [
    "# Q 147\n",
    "\n",
    "import numpy as np\n",
    "import pandas as pd\n",
    "\n",
    "columns = ['a', 'b', 'c', 'd', 'e']\n",
    "data = np.array([4,8,5,7,6,2,3,4,2, 6,4,7,4,7, 8,2,6,4,8, 6,2,4,3,3, 2]).reshape(-1,5)\n",
    "df = pd.DataFrame(data=data, columns=columns, index=list(range(2,11,2)))\n",
    "ax = df.plot.bar()\n",
    "plt.minorticks_on()\n",
    "ax.grid('on', which='minor', color='black',linestyle=':' )\n",
    "ax.grid('on', which='major', color='green' )"
   ]
  },
  {
   "cell_type": "code",
   "execution_count": 167,
   "metadata": {},
   "outputs": [
    {
     "data": {
      "text/plain": [
       "<matplotlib.axes._subplots.AxesSubplot at 0x23f2a65f688>"
      ]
     },
     "execution_count": 167,
     "metadata": {},
     "output_type": "execute_result"
    },
    {
     "data": {
      "image/png": "[encoded data removed]",
      "text/plain": [
       "<Figure size 432x288 with 1 Axes>"
      ]
     },
     "metadata": {
      "needs_background": "light"
     },
     "output_type": "display_data"
    }
   ],
   "source": [
    "# Q 148\n",
    "\n",
    "import pandas as pd\n",
    "import seaborn as sns\n",
    "\n",
    "\n",
    "math_marks = [88, 92 , 80, 89, 100, 80, 60, 100, 80, 34] \n",
    "science_marks = [35, 79, 79 , 48, 100, 88, 32, 45, 20, 30] \n",
    "marks_range = [10, 20, 30, 40, 50, 60, 70, 80, 90, 100]\n",
    "marks = ['math_marks'] * len(math_marks) + ['science_marks'] * len(science_marks)\n",
    "df = pd.DataFrame(data=list(zip(marks_range*2,math_marks+science_marks,marks)),columns=['Marks Range','Marks Scored','Marks'])\n",
    "\n",
    "\n",
    "sns.scatterplot(x='Marks Range',y='Marks Scored',hue='Marks',data=df)"
   ]
  },
  {
   "cell_type": "code",
   "execution_count": 168,
   "metadata": {},
   "outputs": [
    {
     "data": {
      "text/plain": [
       "<seaborn.axisgrid.FacetGrid at 0x23f2a91f908>"
      ]
     },
     "execution_count": 168,
     "metadata": {},
     "output_type": "execute_result"
    },
    {
     "data": {
      "image/png": "[encoded data removed]",
      "text/plain": [
       "<Figure size 418.125x360 with 1 Axes>"
      ]
     },
     "metadata": {
      "needs_background": "light"
     },
     "output_type": "display_data"
    }
   ],
   "source": [
    "# Q 149\n",
    "\n",
    "\n",
    "import seaborn as sns\n",
    "import numpy as np\n",
    "import pandas as pd\n",
    "\n",
    "w1=[67,57.2,59.6,59.64,55.8,61.2,60.45,61,56.23,56]\n",
    "h1=[101.7,197.6,98.3,125.1,113.7,157.7,136,148.9,125.3,114.9] \n",
    "w2=[61.9,64,62.1,64.2,62.3,65.4,62.4,61.4,62.5,63.6]\n",
    "h2=[152.8,155.3,135.1,125.2,151.3,135,182.2,195.9,165.1,125.1] \n",
    "w3=[68.2,67.2,68.4,68.7,71,71.3,70.8,70,71.1,71.7]\n",
    "h3=[165.8,170.9,192.8,135.4,161.4,136.1,167.1,235.1,181.1,177.3]\n",
    "w = np.concatenate((w1,w2,w3))\n",
    "h = np.concatenate((h1,h2,h3))\n",
    "n = np.concatenate((np.ones(10,),2*np.ones(10,),3*np.ones(10,)))\n",
    "data = np.array([n,w,h]).T\n",
    "df = pd.DataFrame(data=data,columns=['type','weights','heights'])\n",
    "df['type'] = df['type'].astype('category')\n",
    "sns.relplot(x = 'weights', y='heights',data=df,hue='type',palette=[\"r\", \"b\",\"g\"])\n"
   ]
  },
  {
   "cell_type": "code",
   "execution_count": 169,
   "metadata": {},
   "outputs": [
    {
     "data": {
      "text/plain": [
       "Text(0.5, 1.0, 'Rise in sea level')"
      ]
     },
     "execution_count": 169,
     "metadata": {},
     "output_type": "execute_result"
    },
    {
     "data": {
      "image/png": "[encoded data removed]",
      "text/plain": [
       "<Figure size 432x288 with 1 Axes>"
      ]
     },
     "metadata": {
      "needs_background": "light"
     },
     "output_type": "display_data"
    }
   ],
   "source": [
    "# Q 150\n",
    "\n",
    "import pandas as pd\n",
    "import numpy as np\n",
    "\n",
    "\n",
    "df = pd.read_csv(r'C:\\Users\\Vanja\\Downloads\\Microsoft.SkypeApp_kzf8qxf38zg5c!App\\All\\data.csv')\n",
    "ax = df.plot.scatter(x = 'year',y='CSIRO - Upper error bound (inches)')\n",
    "ax.set_ylabel('Sea level (inches)')\n",
    "ax.set_xlabel(\"Year\")\n",
    "ax.set_title('Rise in sea level')"
   ]
  },
  {
   "cell_type": "code",
   "execution_count": null,
   "metadata": {},
   "outputs": [],
   "source": []
  }
 ],
 "metadata": {
  "kernelspec": {
   "display_name": "Python 3",
   "language": "python",
   "name": "python3"
  },
  "language_info": {
   "codemirror_mode": {
    "name": "ipython",
    "version": 3
   },
   "file_extension": ".py",
   "mimetype": "text/x-python",
   "name": "python",
   "nbconvert_exporter": "python",
   "pygments_lexer": "ipython3",
   "version": "3.7.4"
  }
 },
 "nbformat": 4,
 "nbformat_minor": 2
}
